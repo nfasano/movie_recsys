{
 "cells": [
  {
   "cell_type": "markdown",
   "metadata": {},
   "source": [
    "# Scrape movie script data from Springfield! Springfield!\n",
    "\n",
    "## Written by Nicholas Fasano\n",
    "## Created: 01/12/2022\n",
    "### Website: https://www.springfieldspringfield.co.uk/"
   ]
  },
  {
   "cell_type": "code",
   "execution_count": 1,
   "metadata": {},
   "outputs": [],
   "source": [
    "# Load in python packages\n",
    "import requests\n",
    "from bs4 import BeautifulSoup\n",
    "\n",
    "import re\n",
    "import numpy as np\n",
    "import pandas as pd\n",
    "\n",
    "import datetime\n",
    "import time\n",
    "\n",
    "import os\n",
    "from concurrent.futures import ThreadPoolExecutor"
   ]
  },
  {
   "cell_type": "code",
   "execution_count": 2,
   "metadata": {},
   "outputs": [],
   "source": [
    "# function to scrape script links\n",
    "def getMovieScriptLinks(movieScriptLinks, movieTitle, link, i):\n",
    "    numLinksPerPage = 17\n",
    "    \n",
    "    # load in webpage content\n",
    "    page = requests.get(link)\n",
    "    soup = BeautifulSoup(page.content,'lxml')\n",
    "\n",
    "    # get number of pages for this letter\n",
    "    results = soup.find_all('a',attrs={'href':re.compile(\"/movie_script.php\")})\n",
    "    for j in range(len(results)):      \n",
    "        linkTemp = results[j]\n",
    "        movieScriptLinks[i*numLinksPerPage+j] = 'https://www.springfieldspringfield.co.uk'+linkTemp['href']\n",
    "        movieTitle[i*numLinksPerPage+j] = linkTemp.text\n",
    "        \n",
    "        \n",
    "def getScriptText(scriptText,link,i):\n",
    "    page = requests.get(link)\n",
    "    soup = BeautifulSoup(page.content,'lxml')\n",
    "    results = soup.find_all('div',attrs={'class':re.compile(\"movie_script\")})\n",
    "    scriptText[i] = results[0].text"
   ]
  },
  {
   "cell_type": "code",
   "execution_count": 3,
   "metadata": {},
   "outputs": [
    {
     "name": "stdout",
     "output_type": "stream",
     "text": [
      "2109 pages with movie links\n"
     ]
    }
   ],
   "source": [
    "# Scraping approach: 1) get links to the webpages that contain the script data \n",
    "#                    2) Scrape the script data \n",
    "\n",
    "# Movie scripts are organized according to the first letter of the film\n",
    "# Within each letter there are xx pages with 17 movie titles per page\n",
    "# Extract link for each movie title which brings you to the script for that title\n",
    "\n",
    "letters = ['A','B','C','D','E','F','G','H','I','J','K','L','M','N','O','P','Q','R','S','T',\n",
    "           'U','V','W','X','Y','Z','0']\n",
    "numPages = [151,141,117,109,47,74,65,89,59,39,47,89,126,54,39,86,6,73,182,\n",
    "           335,21,26,70,3,16,12,33]\n",
    "print('%d pages with movie links' % np.sum(numPages) )"
   ]
  },
  {
   "cell_type": "markdown",
   "metadata": {},
   "source": [
    "## First find links to movie script data"
   ]
  },
  {
   "cell_type": "code",
   "execution_count": 4,
   "metadata": {},
   "outputs": [],
   "source": [
    "# create python list of links to pages which contain movie titles\n",
    "movieTitlelinks = []\n",
    "for i in range(len(letters)):\n",
    "    for j in range(numPages[i]):\n",
    "        movieTitlelinks.append('https://www.springfieldspringfield.co.uk/movie_scripts.php?order=' + letters[i] + '&page='+str(j+1))\n",
    "numMovies = len(movieTitlelinks)  \n",
    "\n",
    "# Intialize python lists to collect movie scripts and movie title\n",
    "# Note 1: the movie title contains the year the movie was released\n",
    "# Note 2: There may be fewer than 17 links on the final page of each letter, so\n",
    "# the lists will be trimmed after link extraction is completed\n",
    "movieTitle = ['None']*numMovies*17\n",
    "movieScriptLinks = ['None']*numMovies*17"
   ]
  },
  {
   "cell_type": "code",
   "execution_count": 5,
   "metadata": {
    "scrolled": false
   },
   "outputs": [
    {
     "name": "stdout",
     "output_type": "stream",
     "text": [
      "Execution Time = 204.13 sec\n"
     ]
    }
   ],
   "source": [
    "# Execution time: ~3.5 minutes at 10 pages per iteration\n",
    "t0 = time.time()\n",
    "numPagesPerIteration = 10\n",
    "numIterations = int(np.ceil(numMovies/numPagesPerIteration))\n",
    "for k in range(numIterations):\n",
    "    linkIndex = [k*numPagesPerIteration + r for r in range(numPagesPerIteration) if k*numPagesPerIteration + r < numMovies]\n",
    "    with ThreadPoolExecutor(max_workers=11) as executor:\n",
    "        [executor.submit(getMovieScriptLinks, movieScriptLinks, movieTitle, movieTitlelinks[i], i) for i in linkIndex]\n",
    "        \n",
    "t1 = time.time()\n",
    "\n",
    "print(\"Execution Time = %.2f sec\" % (t1-t0))\n",
    "    "
   ]
  },
  {
   "cell_type": "code",
   "execution_count": 6,
   "metadata": {},
   "outputs": [],
   "source": [
    "# remove duplicated links and 'None' values\n",
    "movieScriptLinksRed = []\n",
    "movieTitleRed = []\n",
    "for i in range(len(movieScriptLinks)):\n",
    "    if (movieScriptLinks[i] not in movieScriptLinksRed) and (movieScriptLinks[i] != 'None'):\n",
    "        movieScriptLinksRed.append(movieScriptLinks[i])\n",
    "        movieTitleRed.append(movieTitle[i])"
   ]
  },
  {
   "cell_type": "code",
   "execution_count": 7,
   "metadata": {},
   "outputs": [],
   "source": [
    "# create a Pandas dataframe and save the data as a .csv file\n",
    "dictTemp = {'Movie Title':movieTitleRed,'Movie Script Link':movieScriptLinksRed}\n",
    "df = pd.DataFrame(dictTemp)\n",
    "now = datetime.datetime.now()  \n",
    "df.to_csv('springfield_MovieScriptLinks_'+now.strftime(\"%Y_%m_%d_%Hhr_%Mmin_%Ssec\")+'.csv')   "
   ]
  },
  {
   "cell_type": "markdown",
   "metadata": {},
   "source": [
    "# Now collect movie script text using these links"
   ]
  },
  {
   "cell_type": "code",
   "execution_count": 8,
   "metadata": {},
   "outputs": [],
   "source": [
    "numMovies = len(movieScriptLinksRed)\n",
    "scriptText = ['None']*numMovies"
   ]
  },
  {
   "cell_type": "code",
   "execution_count": 9,
   "metadata": {},
   "outputs": [
    {
     "name": "stdout",
     "output_type": "stream",
     "text": [
      "10.0 Percent completed (Total Time = 8 min)\n",
      "20.0 Percent completed (Total Time = 15 min)\n",
      "30.0 Percent completed (Total Time = 23 min)\n",
      "40.0 Percent completed (Total Time = 31 min)\n",
      "50.0 Percent completed (Total Time = 39 min)\n",
      "60.0 Percent completed (Total Time = 47 min)\n",
      "70.0 Percent completed (Total Time = 56 min)\n",
      "80.0 Percent completed (Total Time = 64 min)\n",
      "90.0 Percent completed (Total Time = 74 min)\n",
      "100.0 Percent completed (Total Time = 82 min)\n"
     ]
    }
   ],
   "source": [
    "# Execution time: ~75 minutes at 10 pages per iteration\n",
    "numPagesPerIteration = 10\n",
    "numIterations = int(np.ceil(numMovies/numPagesPerIteration))\n",
    "t0 = time.time()\n",
    "for k in range(numIterations):\n",
    "    linkIndex = [k*numPagesPerIteration + r for r in range(numPagesPerIteration) if k*numPagesPerIteration + r < numMovies]\n",
    "    with ThreadPoolExecutor(max_workers=11) as executor:\n",
    "        [executor.submit(getScriptText, scriptText, movieScriptLinksRed[i], i) for i in linkIndex]\n",
    "    if((k+1)%np.floor(numIterations/10) == 0):        \n",
    "        t1 = time.time()\n",
    "        print(\"%.1f Percent completed (Total Time = %.0f min)\" % (100*(k+1)/numIterations,(t1-t0)/60))"
   ]
  },
  {
   "cell_type": "code",
   "execution_count": 10,
   "metadata": {},
   "outputs": [
    {
     "name": "stdout",
     "output_type": "stream",
     "text": [
      "Total number of movie scripts extracted was 35595\n"
     ]
    }
   ],
   "source": [
    "print('Total number of movie scripts extracted was %d' % (numMovies))"
   ]
  },
  {
   "cell_type": "code",
   "execution_count": 11,
   "metadata": {},
   "outputs": [],
   "source": [
    "# Clean up text before saving to .csv file \n",
    "for j in range(numMovies):\n",
    "    scriptText[j] = scriptText[j].replace(\"\\n\", \" \")\n",
    "    scriptText[j] = scriptText[j].replace(\"\\r\", \" \")\n",
    "    scriptText[j] = scriptText[j].replace(\"\\'\", \"\")\n",
    "    scriptText[j] = re.sub(' +', ' ', scriptText[j]) # removes excess spaces"
   ]
  },
  {
   "cell_type": "code",
   "execution_count": 12,
   "metadata": {},
   "outputs": [],
   "source": [
    "# construct a pandas dataframe and save the file to a .csv file\n",
    "dicttemp = {'Movie Title':movieTitleRed, 'Movie Script Link':movieScriptLinksRed, 'Script Text':scriptText}\n",
    "df = pd.DataFrame(dicttemp)\n",
    "now = datetime.datetime.now()\n",
    "df.to_csv('SpringField_MovieScripts_'+now.strftime(\"%Y_%m_%d_%Hhr_%Mmin_%Ssec\")+'.csv')  "
   ]
  }
 ],
 "metadata": {
  "kernelspec": {
   "display_name": "Python 3 (ipykernel)",
   "language": "python",
   "name": "python3"
  },
  "language_info": {
   "name": "python",
   "version": "3.8.5"
  }
 },
 "nbformat": 4,
 "nbformat_minor": 4
}
