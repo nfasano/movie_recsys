{
 "cells": [
  {
   "cell_type": "markdown",
   "metadata": {},
   "source": [
    "# Ranking evaluation with offline metrics: \n",
    "### implemented precision@k, recal@k, ..."
   ]
  },
  {
   "cell_type": "code",
   "execution_count": 2,
   "metadata": {},
   "outputs": [
    {
     "name": "stderr",
     "output_type": "stream",
     "text": [
      "c:\\Users\\Nick\\.conda\\envs\\recsys_movie\\lib\\site-packages\\tqdm\\auto.py:21: TqdmWarning: IProgress not found. Please update jupyter and ipywidgets. See https://ipywidgets.readthedocs.io/en/stable/user_install.html\n",
      "  from .autonotebook import tqdm as notebook_tqdm\n"
     ]
    }
   ],
   "source": [
    "import pandas as pd\n",
    "import numpy as np\n",
    "from scipy import sparse\n",
    "import time\n",
    "import gradio as gr\n",
    "import pickle\n",
    "\n",
    "from sklearn.metrics.pairwise import cosine_similarity\n",
    "import matplotlib.pyplot as plt\n",
    "\n",
    "\n",
    "import line_profiler\n",
    "%load_ext line_profiler"
   ]
  },
  {
   "cell_type": "code",
   "execution_count": 3,
   "metadata": {},
   "outputs": [],
   "source": [
    "# load in tuned model and transformed document-topic matrix\n",
    "lda_main = pickle.load(open('model_building\\\\model_2023_08_16.sav', 'rb'))\n",
    "\n",
    "with open(\"data_preprocessing_eda_out\\\\word_key.txt\", \"rb\") as f:\n",
    "    word_key = pickle.load(f)\n",
    "\n",
    "# read in movie database\n",
    "df = pd.read_csv(\"data_preprocessing_eda_out\\\\df_spaces_upload.csv\", index_col=[0])\n",
    "\n",
    "# read in scipy sparse matrix\n",
    "X = sparse.load_npz(\"data_preprocessing_eda_out\\\\X.npz\")\n",
    "with open(\"model_building\\\\Xtran.txt\", \"rb\") as f:\n",
    "    Xtran_main = pickle.load(f)\n"
   ]
  },
  {
   "cell_type": "code",
   "execution_count": 4,
   "metadata": {},
   "outputs": [
    {
     "data": {
      "text/html": [
       "<div>\n",
       "<style scoped>\n",
       "    .dataframe tbody tr th:only-of-type {\n",
       "        vertical-align: middle;\n",
       "    }\n",
       "\n",
       "    .dataframe tbody tr th {\n",
       "        vertical-align: top;\n",
       "    }\n",
       "\n",
       "    .dataframe thead th {\n",
       "        text-align: right;\n",
       "    }\n",
       "</style>\n",
       "<table border=\"1\" class=\"dataframe\">\n",
       "  <thead>\n",
       "    <tr style=\"text-align: right;\">\n",
       "      <th></th>\n",
       "      <th>movie_title</th>\n",
       "      <th>movie_year</th>\n",
       "      <th>imdb_id</th>\n",
       "      <th>tmdb_id</th>\n",
       "    </tr>\n",
       "  </thead>\n",
       "  <tbody>\n",
       "    <tr>\n",
       "      <th>0</th>\n",
       "      <td>A 2nd Hand Lover</td>\n",
       "      <td>2015</td>\n",
       "      <td>tt10919164</td>\n",
       "      <td>472886</td>\n",
       "    </tr>\n",
       "    <tr>\n",
       "      <th>1</th>\n",
       "      <td>A Aa</td>\n",
       "      <td>2016</td>\n",
       "      <td>tt5684466</td>\n",
       "      <td>372399</td>\n",
       "    </tr>\n",
       "    <tr>\n",
       "      <th>2</th>\n",
       "      <td>A Baby at Any Cost</td>\n",
       "      <td>2022</td>\n",
       "      <td>tt15331880</td>\n",
       "      <td>938971</td>\n",
       "    </tr>\n",
       "    <tr>\n",
       "      <th>3</th>\n",
       "      <td>A Bad Idea Gone Wrong</td>\n",
       "      <td>2017</td>\n",
       "      <td>tt5212918</td>\n",
       "      <td>438424</td>\n",
       "    </tr>\n",
       "    <tr>\n",
       "      <th>4</th>\n",
       "      <td>A Bad Moms Christmas</td>\n",
       "      <td>2017</td>\n",
       "      <td>tt6359956</td>\n",
       "      <td>431530</td>\n",
       "    </tr>\n",
       "  </tbody>\n",
       "</table>\n",
       "</div>"
      ],
      "text/plain": [
       "             movie_title  movie_year     imdb_id  tmdb_id\n",
       "0       A 2nd Hand Lover        2015  tt10919164   472886\n",
       "1                   A Aa        2016   tt5684466   372399\n",
       "2     A Baby at Any Cost        2022  tt15331880   938971\n",
       "3  A Bad Idea Gone Wrong        2017   tt5212918   438424\n",
       "4   A Bad Moms Christmas        2017   tt6359956   431530"
      ]
     },
     "execution_count": 4,
     "metadata": {},
     "output_type": "execute_result"
    }
   ],
   "source": [
    "df_orig = pd.read_csv('data_cleaning_and_synthesis_out\\\\springfield_movie_scripts_2023_01_13_clean.csv', index_col = [0])\n",
    "df_orig = df_orig.drop(['script_text', 'springfield_link', 'tmdb_poster_link', 'imdb_link'], axis=1)\n",
    "df_orig.head()"
   ]
  },
  {
   "cell_type": "code",
   "execution_count": 5,
   "metadata": {},
   "outputs": [
    {
     "name": "stdout",
     "output_type": "stream",
     "text": [
      "<class 'pandas.core.frame.DataFrame'>\n",
      "RangeIndex: 58098 entries, 0 to 58097\n",
      "Data columns (total 3 columns):\n",
      " #   Column   Non-Null Count  Dtype  \n",
      "---  ------   --------------  -----  \n",
      " 0   movieId  58098 non-null  int64  \n",
      " 1   imdbId   58098 non-null  int64  \n",
      " 2   tmdbId   57917 non-null  float64\n",
      "dtypes: float64(1), int64(2)\n",
      "memory usage: 1.3 MB\n"
     ]
    }
   ],
   "source": [
    "df_movielens = pd.read_csv('..\\\\database_movieLens\\\\links.csv')\n",
    "# df_movielens['movielens_id'] = df_movielens.index\n",
    "df_movielens.info()"
   ]
  },
  {
   "cell_type": "code",
   "execution_count": 6,
   "metadata": {},
   "outputs": [
    {
     "name": "stdout",
     "output_type": "stream",
     "text": [
      "<class 'pandas.core.frame.DataFrame'>\n",
      "Int64Index: 35530 entries, 0 to 35515\n",
      "Data columns (total 6 columns):\n",
      " #   Column       Non-Null Count  Dtype  \n",
      "---  ------       --------------  -----  \n",
      " 0   movie_title  35530 non-null  object \n",
      " 1   movie_year   35530 non-null  int64  \n",
      " 2   imdb_id      33712 non-null  object \n",
      " 3   tmdb_id      35530 non-null  int64  \n",
      " 4   movieId      20381 non-null  float64\n",
      " 5   imdbId       20381 non-null  float64\n",
      "dtypes: float64(2), int64(2), object(2)\n",
      "memory usage: 1.9+ MB\n"
     ]
    }
   ],
   "source": [
    "df_joined = df_orig.join(df_movielens.dropna().set_index('tmdbId'), how='left', on='tmdb_id')\n",
    "df_joined.info()"
   ]
  },
  {
   "cell_type": "code",
   "execution_count": 7,
   "metadata": {},
   "outputs": [
    {
     "data": {
      "text/html": [
       "<div>\n",
       "<style scoped>\n",
       "    .dataframe tbody tr th:only-of-type {\n",
       "        vertical-align: middle;\n",
       "    }\n",
       "\n",
       "    .dataframe tbody tr th {\n",
       "        vertical-align: top;\n",
       "    }\n",
       "\n",
       "    .dataframe thead th {\n",
       "        text-align: right;\n",
       "    }\n",
       "</style>\n",
       "<table border=\"1\" class=\"dataframe\">\n",
       "  <thead>\n",
       "    <tr style=\"text-align: right;\">\n",
       "      <th></th>\n",
       "      <th>movie_title</th>\n",
       "      <th>movie_year</th>\n",
       "      <th>imdb_id</th>\n",
       "      <th>tmdb_id</th>\n",
       "      <th>movieId</th>\n",
       "      <th>imdbId</th>\n",
       "    </tr>\n",
       "  </thead>\n",
       "  <tbody>\n",
       "    <tr>\n",
       "      <th>0</th>\n",
       "      <td>A 2nd Hand Lover</td>\n",
       "      <td>2015</td>\n",
       "      <td>tt10919164</td>\n",
       "      <td>472886</td>\n",
       "      <td>NaN</td>\n",
       "      <td>NaN</td>\n",
       "    </tr>\n",
       "    <tr>\n",
       "      <th>1</th>\n",
       "      <td>A Aa</td>\n",
       "      <td>2016</td>\n",
       "      <td>tt5684466</td>\n",
       "      <td>372399</td>\n",
       "      <td>NaN</td>\n",
       "      <td>NaN</td>\n",
       "    </tr>\n",
       "    <tr>\n",
       "      <th>2</th>\n",
       "      <td>A Baby at Any Cost</td>\n",
       "      <td>2022</td>\n",
       "      <td>tt15331880</td>\n",
       "      <td>938971</td>\n",
       "      <td>NaN</td>\n",
       "      <td>NaN</td>\n",
       "    </tr>\n",
       "    <tr>\n",
       "      <th>3</th>\n",
       "      <td>A Bad Idea Gone Wrong</td>\n",
       "      <td>2017</td>\n",
       "      <td>tt5212918</td>\n",
       "      <td>438424</td>\n",
       "      <td>181135.0</td>\n",
       "      <td>5212918.0</td>\n",
       "    </tr>\n",
       "    <tr>\n",
       "      <th>4</th>\n",
       "      <td>A Bad Moms Christmas</td>\n",
       "      <td>2017</td>\n",
       "      <td>tt6359956</td>\n",
       "      <td>431530</td>\n",
       "      <td>179953.0</td>\n",
       "      <td>6359956.0</td>\n",
       "    </tr>\n",
       "  </tbody>\n",
       "</table>\n",
       "</div>"
      ],
      "text/plain": [
       "             movie_title  movie_year     imdb_id  tmdb_id   movieId     imdbId\n",
       "0       A 2nd Hand Lover        2015  tt10919164   472886       NaN        NaN\n",
       "1                   A Aa        2016   tt5684466   372399       NaN        NaN\n",
       "2     A Baby at Any Cost        2022  tt15331880   938971       NaN        NaN\n",
       "3  A Bad Idea Gone Wrong        2017   tt5212918   438424  181135.0  5212918.0\n",
       "4   A Bad Moms Christmas        2017   tt6359956   431530  179953.0  6359956.0"
      ]
     },
     "execution_count": 7,
     "metadata": {},
     "output_type": "execute_result"
    }
   ],
   "source": [
    "df_joined.head()"
   ]
  },
  {
   "cell_type": "code",
   "execution_count": null,
   "metadata": {},
   "outputs": [],
   "source": [
    "# second option is to join on imdbId -- both options yield the same result ~ 20,300 non-null matches\n",
    "# df_joined = df_orig.join(df_movielens.set_index('imdbId'), how='left', on='imdb_id')\n",
    "# df_joined.head()\n",
    "# df_joined.info()"
   ]
  },
  {
   "cell_type": "code",
   "execution_count": 8,
   "metadata": {},
   "outputs": [
    {
     "data": {
      "text/html": [
       "<div>\n",
       "<style scoped>\n",
       "    .dataframe tbody tr th:only-of-type {\n",
       "        vertical-align: middle;\n",
       "    }\n",
       "\n",
       "    .dataframe tbody tr th {\n",
       "        vertical-align: top;\n",
       "    }\n",
       "\n",
       "    .dataframe thead th {\n",
       "        text-align: right;\n",
       "    }\n",
       "</style>\n",
       "<table border=\"1\" class=\"dataframe\">\n",
       "  <thead>\n",
       "    <tr style=\"text-align: right;\">\n",
       "      <th></th>\n",
       "      <th>userId</th>\n",
       "      <th>movieId</th>\n",
       "      <th>rating</th>\n",
       "      <th>timestamp</th>\n",
       "    </tr>\n",
       "  </thead>\n",
       "  <tbody>\n",
       "    <tr>\n",
       "      <th>0</th>\n",
       "      <td>1</td>\n",
       "      <td>307</td>\n",
       "      <td>3.5</td>\n",
       "      <td>1256677221</td>\n",
       "    </tr>\n",
       "    <tr>\n",
       "      <th>1</th>\n",
       "      <td>1</td>\n",
       "      <td>481</td>\n",
       "      <td>3.5</td>\n",
       "      <td>1256677456</td>\n",
       "    </tr>\n",
       "    <tr>\n",
       "      <th>2</th>\n",
       "      <td>1</td>\n",
       "      <td>1091</td>\n",
       "      <td>1.5</td>\n",
       "      <td>1256677471</td>\n",
       "    </tr>\n",
       "    <tr>\n",
       "      <th>3</th>\n",
       "      <td>1</td>\n",
       "      <td>1257</td>\n",
       "      <td>4.5</td>\n",
       "      <td>1256677460</td>\n",
       "    </tr>\n",
       "    <tr>\n",
       "      <th>4</th>\n",
       "      <td>1</td>\n",
       "      <td>1449</td>\n",
       "      <td>4.5</td>\n",
       "      <td>1256677264</td>\n",
       "    </tr>\n",
       "  </tbody>\n",
       "</table>\n",
       "</div>"
      ],
      "text/plain": [
       "   userId  movieId  rating   timestamp\n",
       "0       1      307     3.5  1256677221\n",
       "1       1      481     3.5  1256677456\n",
       "2       1     1091     1.5  1256677471\n",
       "3       1     1257     4.5  1256677460\n",
       "4       1     1449     4.5  1256677264"
      ]
     },
     "execution_count": 8,
     "metadata": {},
     "output_type": "execute_result"
    }
   ],
   "source": [
    "df_movielens_ratings = pd.read_csv('..\\\\database_movieLens\\\\ratings.csv')\n",
    "df_movielens_ratings.head()"
   ]
  },
  {
   "cell_type": "code",
   "execution_count": 10,
   "metadata": {},
   "outputs": [],
   "source": [
    "# filter out movies from ratings matrix that are not in script database\n",
    "unique_movielens_ids = df_joined['movieId'].unique()[1:]\n",
    "unique_movielens_ids = np.sort(unique_movielens_ids.astype(int))\n",
    "movieId = np.array(df_movielens_ratings['movieId'])"
   ]
  },
  {
   "cell_type": "code",
   "execution_count": 11,
   "metadata": {},
   "outputs": [],
   "source": [
    "bool_mask = [True if j in unique_movielens_ids else False for j in movieId]\n",
    "df_movielens_ratings = df_movielens_ratings.loc[bool_mask]"
   ]
  },
  {
   "cell_type": "code",
   "execution_count": 12,
   "metadata": {},
   "outputs": [],
   "source": [
    "unique_movielens_users = np.array(df_movielens_ratings['userId'].value_counts().index)\n",
    "num_ratings_per_user = np.array(df_movielens_ratings['userId'].value_counts())\n",
    "userId = np.array(df_movielens_ratings['userId'])"
   ]
  },
  {
   "cell_type": "code",
   "execution_count": 13,
   "metadata": {},
   "outputs": [],
   "source": [
    "# drop all users from ratings matrix that rated less than 6 films\n",
    "users_drop = unique_movielens_users[num_ratings_per_user <= 5]\n",
    "bool_mask = [False if j in users_drop else True for j in userId]\n",
    "df_movielens_ratings = df_movielens_ratings.loc[bool_mask]"
   ]
  },
  {
   "cell_type": "code",
   "execution_count": 155,
   "metadata": {},
   "outputs": [],
   "source": [
    "# drop movies from Xtran_main and df that are not in movie lens database\n",
    "df_joined = df_joined.drop_duplicates(subset='tmdb_id')"
   ]
  },
  {
   "cell_type": "code",
   "execution_count": 163,
   "metadata": {},
   "outputs": [],
   "source": [
    "df_joined = df_joined.dropna(subset='movieId')"
   ]
  },
  {
   "cell_type": "code",
   "execution_count": 171,
   "metadata": {},
   "outputs": [
    {
     "ename": "IndexError",
     "evalue": "index 20142 is out of bounds for axis 0 with size 20142",
     "output_type": "error",
     "traceback": [
      "\u001b[1;31m---------------------------------------------------------------------------\u001b[0m",
      "\u001b[1;31mIndexError\u001b[0m                                Traceback (most recent call last)",
      "Cell \u001b[1;32mIn[171], line 1\u001b[0m\n\u001b[1;32m----> 1\u001b[0m Xtran_main \u001b[39m=\u001b[39m Xtran_main[df_joined\u001b[39m.\u001b[39;49mindex,:]\n\u001b[0;32m      2\u001b[0m df \u001b[39m=\u001b[39m df\u001b[39m.\u001b[39mloc[df_joined\u001b[39m.\u001b[39mindex]\n",
      "\u001b[1;31mIndexError\u001b[0m: index 20142 is out of bounds for axis 0 with size 20142"
     ]
    }
   ],
   "source": [
    "Xtran_main = Xtran_main[df_joined.index,:]\n",
    "df = df.loc[df_joined.index].reset_index(drop=True)"
   ]
  },
  {
   "cell_type": "code",
   "execution_count": 178,
   "metadata": {},
   "outputs": [],
   "source": [
    "df_final = df_movielens_ratings.join(df_joined.set_index(\"movieId\"), how=\"left\", on=\"movieId\")\n",
    "\n",
    "unique_users = np.array(df_final['userId'].value_counts().sort_index().index)\n",
    "num_ratings_per_user = np.array(df_final['userId'].value_counts().sort_index())\n",
    "diff = [np.sum(num_ratings_per_user[:j])  if j > 0 else 0 for j in range(len(unique_users))]\n",
    "\n",
    "df_imdb_sort = df.copy()\n",
    "# df_imdb_sort['script_id'] = df_imdb_sort.index\n",
    "# df_imdb_sort = df_imdb_sort.set_index('imdb_id')"
   ]
  },
  {
   "cell_type": "code",
   "execution_count": 179,
   "metadata": {},
   "outputs": [],
   "source": [
    "imdb_list_sort = list(df_imdb_sort['imdb_id'])\n"
   ]
  },
  {
   "cell_type": "code",
   "execution_count": null,
   "metadata": {},
   "outputs": [],
   "source": []
  },
  {
   "cell_type": "code",
   "execution_count": 210,
   "metadata": {},
   "outputs": [
    {
     "ename": "NameError",
     "evalue": "name 'Xtran' is not defined",
     "output_type": "error",
     "traceback": [
      "\u001b[1;31m---------------------------------------------------------------------------\u001b[0m",
      "\u001b[1;31mNameError\u001b[0m                                 Traceback (most recent call last)",
      "Cell \u001b[1;32mIn[210], line 4\u001b[0m\n\u001b[0;32m      2\u001b[0m \u001b[39mfor\u001b[39;00m jid \u001b[39min\u001b[39;00m imdb_ids:\n\u001b[0;32m      3\u001b[0m     j \u001b[39m=\u001b[39m imdb_list_sort\u001b[39m.\u001b[39mindex(jid) \u001b[39m#df_imdb_sort.loc[[jid],'script_id'][0]\u001b[39;00m\n\u001b[1;32m----> 4\u001b[0m     sim_in \u001b[39m=\u001b[39m sim_in \u001b[39m+\u001b[39m Xtran_main[j, :]\u001b[39m.\u001b[39mreshape(\u001b[39m1\u001b[39m, Xtran\u001b[39m.\u001b[39mshape[\u001b[39m1\u001b[39m])\n\u001b[0;32m      5\u001b[0m sim_in \u001b[39m=\u001b[39m sim_in\u001b[39m/\u001b[39m\u001b[39mlen\u001b[39m(imdb_ids)\n",
      "\u001b[1;31mNameError\u001b[0m: name 'Xtran' is not defined"
     ]
    }
   ],
   "source": [
    "sim_in = 0\n",
    "for jid in imdb_ids:\n",
    "    j = imdb_list_sort.index(jid) #df_imdb_sort.loc[[jid],'script_id'][0]\n",
    "    sim_in = sim_in + Xtran_main[j, :].reshape(1, Xtran_main.shape[1])\n",
    "sim_in = sim_in/len(imdb_ids)"
   ]
  },
  {
   "cell_type": "code",
   "execution_count": 220,
   "metadata": {},
   "outputs": [],
   "source": [
    "df.columns = [\"Title\", \"Year\", \"Genres\", \"IMDb Rating\", 'num_votes', 'is_adult', 'imdb_id', 'imdb_link', 'tmdb_poster_link']"
   ]
  },
  {
   "cell_type": "code",
   "execution_count": 226,
   "metadata": {},
   "outputs": [],
   "source": [
    "df = df[[\"Title\", \"Year\", \"IMDb Rating\", \"Genres\"]]"
   ]
  },
  {
   "cell_type": "code",
   "execution_count": 241,
   "metadata": {},
   "outputs": [
    {
     "data": {
      "text/plain": [
       "(20142, 20)"
      ]
     },
     "execution_count": 241,
     "metadata": {},
     "output_type": "execute_result"
    }
   ],
   "source": [
    "Xtran_main.shape"
   ]
  },
  {
   "cell_type": "code",
   "execution_count": 244,
   "metadata": {},
   "outputs": [
    {
     "data": {
      "text/plain": [
       "40.9664"
      ]
     },
     "execution_count": 244,
     "metadata": {},
     "output_type": "execute_result"
    }
   ],
   "source": [
    "len(unique_users)*20*8/1e6"
   ]
  },
  {
   "cell_type": "code",
   "execution_count": 248,
   "metadata": {},
   "outputs": [],
   "source": [
    "def movie_rec_users(imdb_ids, rating_min, is_adult, Xtran, num_rec=5):\n",
    "    # compute top 5 movie recommendations for the input movie and filters\n",
    "    # inputs:\n",
    "    #       movie_name: selected movie_name from radio\n",
    "    #       rating_min: filter out all movies with ratings less than rating_min\n",
    "    #       is_adult: if True then filter out adult titles\n",
    "    # ouputs:\n",
    "    #       df_in: dataframe with all the info on movie_name\n",
    "    #       df_out: dataframe with all the info on top 5 recommended movies\n",
    "\n",
    "    jcols = [imdb_list_sort.index(j) for j in imdb_ids]\n",
    "    sim_in = np.sum(Xtran[jcols, :], axis=0).reshape(1, Xtran.shape[1])/len(imdb_ids)\n",
    "\n",
    "\n",
    "    # compute similarity between movie_name and all other movies in database\n",
    "    sim_movie = cosine_similarity(sim_in, Xtran).reshape((len(df),))\n",
    "\n",
    "    # sort dataframe by movie similarity in descending order\n",
    "    arg_sim_movie_ordered = np.argsort(sim_movie[np.argpartition(sim_movie, -num_rec)[-num_rec:]])\n",
    "    df_sort = df.iloc[arg_sim_movie_ordered]\n",
    "\n",
    "    # fiter by rating_min and is_adult\n",
    "    # df_sort = df_sort[df_sort[\"average_rating\"] >= float(rating_min)]\n",
    "    # if is_adult:\n",
    "    #     df_sort = df_sort[df_sort[\"is_adult\"] == 0]\n",
    "\n",
    "    # raise error if less than num_Rec movies are left after filtering\n",
    "    if len(df_sort) < num_rec:\n",
    "        raise gr.Error(\n",
    "            \"Not enough movies met the filter criteria. Try reducing the minimum rating.\"\n",
    "        )\n",
    "\n",
    "    # construct output dataframe\n",
    "    df_out = df_sort.head(num_rec)\n",
    "\n",
    "\n",
    "    return df_out"
   ]
  },
  {
   "cell_type": "code",
   "execution_count": 224,
   "metadata": {},
   "outputs": [],
   "source": [
    "num_rec = 20\n",
    "kk = 0\n",
    "for j, user_id in enumerate(unique_users):\n",
    "\n",
    "    input_user_ratings = df_final.iloc[diff[j]:diff[j]+num_ratings_per_user[j]]\n",
    "    imdb_ids = list(np.random.permutation(input_user_ratings['imdb_id'])[0:3])\n",
    "    df_out = movie_rec_users(imdb_ids, rating_min=0, is_adult=False, Xtran=Xtran_main, num_rec=num_rec)\n",
    "\n",
    "    # compute precision@k, recall@k,\n",
    "    rec_titles = list(df_out[\"Title\"])\n",
    "    watched_titles = list(input_user_ratings[\"movie_title\"])\n",
    "\n",
    "    num_hits = len(np.intersect1d(rec_titles, watched_titles))\n",
    "    precision_at_k = num_hits / num_rec\n",
    "    recall_at_k = num_hits / len(watched_titles)\n",
    "    s = np.min([len(watched_titles), num_rec])\n",
    "    r_precision_at_k = len(np.intersect1d(rec_titles, watched_titles))/s\n",
    "    kk = kk  + 1\n",
    "    if(kk%1000 == 0):\n",
    "        print(kk)\n",
    "    # print(f'User: {user_id} - {precision_at_k} - {recall_at_k} - {r_precision_at_k}')"
   ]
  },
  {
   "cell_type": "code",
   "execution_count": 250,
   "metadata": {},
   "outputs": [
    {
     "name": "stdout",
     "output_type": "stream",
     "text": [
      "1000\n",
      "2000\n",
      "3000\n",
      "4000\n",
      "5000\n",
      "6000\n",
      "7000\n",
      "8000\n",
      "9000\n",
      "*** KeyboardInterrupt exception caught in code being profiled."
     ]
    },
    {
     "name": "stdout",
     "output_type": "stream",
     "text": [
      "Timer unit: 1e-07 s\n",
      "\n",
      "Total time: 50.3709 s\n",
      "File: C:\\Users\\Nick\\AppData\\Local\\Temp\\ipykernel_9876\\1162995794.py\n",
      "Function: test at line 1\n",
      "\n",
      "Line #      Hits         Time  Per Hit   % Time  Line Contents\n",
      "==============================================================\n",
      "     1                                           def test():\n",
      "     2         1         12.0     12.0      0.0      num_rec = 20\n",
      "     3         1          5.0      5.0      0.0      kk = 0\n",
      "     4      9883     117569.0     11.9      0.0      for j, user_id in enumerate(unique_users):\n",
      "     5                                           \n",
      "     6      9883    8113299.0    820.9      1.6          input_user_ratings = df_final.iloc[diff[j]:diff[j]+num_ratings_per_user[j]]\n",
      "     7      9883   11030129.0   1116.1      2.2          imdb_ids = list(np.random.permutation(input_user_ratings['imdb_id'])[0:3])\n",
      "     8      9882  429013305.0  43413.6     85.2          df_out = movie_rec_users(imdb_ids, rating_min=0, is_adult=False, Xtran=Xtran_main, num_rec=num_rec)\n",
      "     9                                           \n",
      "    10                                                   # compute precision@k, recall@k,\n",
      "    11      9882   10312214.0   1043.5      2.0          rec_titles = list(df_out[\"Title\"])\n",
      "    12      9882    8397485.0    849.8      1.7          watched_titles = list(input_user_ratings[\"movie_title\"])\n",
      "    13                                           \n",
      "    14      9882   14271402.0   1444.2      2.8          precision_at_k = len(np.intersect1d(rec_titles, watched_titles)) / num_rec\n",
      "    15      9882   10315407.0   1043.9      2.0          recall_at_k = len(np.intersect1d(rec_titles, watched_titles)) / len(watched_titles)\n",
      "    16      9882    2117194.0    214.2      0.4          s = np.min([len(watched_titles), num_rec])\n",
      "    17      9882    9876048.0    999.4      2.0          r_precision_at_k = len(np.intersect1d(rec_titles, watched_titles))/s\n",
      "    18      9882      65569.0      6.6      0.0          kk = kk  + 1\n",
      "    19      9873      71310.0      7.2      0.0          if(kk%1000 == 0):\n",
      "    20         9       7647.0    849.7      0.0              print(kk)\n",
      "    21                                                   # print(f'User: {user_id} - {precision_at_k} - {recall_at_k} - {r_precision_at_k}')"
     ]
    }
   ],
   "source": [
    "%lprun -f test test()"
   ]
  }
 ],
 "metadata": {
  "kernelspec": {
   "display_name": "recsys_movie",
   "language": "python",
   "name": "python3"
  },
  "language_info": {
   "codemirror_mode": {
    "name": "ipython",
    "version": 3
   },
   "file_extension": ".py",
   "mimetype": "text/x-python",
   "name": "python",
   "nbconvert_exporter": "python",
   "pygments_lexer": "ipython3",
   "version": "3.9.16"
  },
  "orig_nbformat": 4
 },
 "nbformat": 4,
 "nbformat_minor": 2
}
