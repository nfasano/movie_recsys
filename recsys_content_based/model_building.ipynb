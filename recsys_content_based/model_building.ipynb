{
 "cells": [
  {
   "cell_type": "markdown",
   "metadata": {},
   "source": [
    "## Model building: Latent Dirichlet Allocation for uncovering latent topics in the corpus\n",
    "\n",
    "Description: \n",
    "\n",
    "In section 1) Model tuning (hyperparameter selection) - decide on the number of topics (n_components) to use in the model. Run 5-fold cross validation for n_components in range (2-30). Use perplexity calculated on the test set as the evaluation criteria\n",
    "\n",
    "In section 2) train full model with optimal number of topics determined from section 1.\n",
    "\n",
    "\n",
    "LDA code was adapted from: [scikit_learn](https://scikit-learn.org/stable/auto_examples/applications/plot_topics_extraction_with_nmf_lda.html#sphx-glr-auto-examples-applications-plot-topics-extraction-with-nmf-lda-py) - Authors: Olivier Grisel, Lars Buitinck, Chyi-Kwei Yau - License: BSD 3 clause"
   ]
  },
  {
   "cell_type": "code",
   "execution_count": 2,
   "metadata": {},
   "outputs": [
    {
     "name": "stderr",
     "output_type": "stream",
     "text": [
      "c:\\Users\\Nick\\.conda\\envs\\recsys_movie\\lib\\site-packages\\tqdm\\auto.py:21: TqdmWarning: IProgress not found. Please update jupyter and ipywidgets. See https://ipywidgets.readthedocs.io/en/stable/user_install.html\n",
      "  from .autonotebook import tqdm as notebook_tqdm\n"
     ]
    }
   ],
   "source": [
    "import pandas as pd\n",
    "import numpy as np\n",
    "from scipy import sparse\n",
    "import time\n",
    "import pickle\n",
    "\n",
    "from sklearn.model_selection import train_test_split\n",
    "from sklearn.decomposition import LatentDirichletAllocation\n",
    "\n",
    "import matplotlib.pyplot as plt\n",
    "from matplotlib.ticker import (MultipleLocator, FormatStrFormatter, AutoMinorLocator)"
   ]
  },
  {
   "cell_type": "markdown",
   "metadata": {},
   "source": [
    "## 1) Hyperparameter selection - determine number of topcs (n_components)"
   ]
  },
  {
   "cell_type": "code",
   "execution_count": 3,
   "metadata": {},
   "outputs": [],
   "source": [
    "# read in movie database\n",
    "df = pd.read_csv(\"data_preprocessing_eda_out\\\\df_spaces_upload.csv\", index_col=[0])\n",
    "\n",
    "# read in scipy sparse matrix\n",
    "X = sparse.load_npz(\"data_preprocessing_eda_out\\\\X.npz\")\n",
    "\n",
    "with open(\"data_preprocessing_eda_out\\\\word_key.txt\", \"rb\") as f:\n",
    "    word_key = pickle.load(f)\n",
    "\n",
    "n_movies = len(df)\n",
    "n_features = len(word_key)"
   ]
  },
  {
   "cell_type": "code",
   "execution_count": 58,
   "metadata": {},
   "outputs": [
    {
     "name": "stdout",
     "output_type": "stream",
     "text": [
      "\n",
      "n_components = 2: p_train = 3457.7, p_test = 3663.4\n",
      "\n",
      "n_components = 3: p_train = 3235.5, p_test = 3473.8\n",
      "\n",
      "n_components = 4: p_train = 3150.5, p_test = 3410.0\n",
      "\n",
      "n_components = 5: p_train = 3076.7, p_test = 3350.8\n",
      "\n",
      "n_components = 6: p_train = 3005.8, p_test = 3282.3\n",
      "\n",
      "n_components = 7: p_train = 2940.6, p_test = 3223.7\n",
      "\n",
      "n_components = 8: p_train = 2902.4, p_test = 3203.1\n",
      "\n",
      "n_components = 9: p_train = 2874.1, p_test = 3188.5\n",
      "\n",
      "n_components = 10: p_train = 2841.9, p_test = 3164.5\n",
      "\n",
      "n_components = 11: p_train = 2814.2, p_test = 3146.0\n",
      "\n",
      "n_components = 12: p_train = 2799.7, p_test = 3145.1\n",
      "\n",
      "n_components = 14: p_train = 2764.2, p_test = 3132.4\n",
      "\n",
      "n_components = 16: p_train = 2729.1, p_test = 3118.9\n",
      "\n",
      "n_components = 18: p_train = 2726.4, p_test = 3124.8\n",
      "\n",
      "n_components = 20: p_train = 2692.6, p_test = 3098.4\n",
      "\n",
      "n_components = 22: p_train = 2677.3, p_test = 3096.9\n",
      "\n",
      "n_components = 24: p_train = 2661.3, p_test = 3091.6\n",
      "\n",
      "n_components = 26: p_train = 2650.2, p_test = 3086.6\n",
      "\n",
      "n_components = 28: p_train = 2646.3, p_test = 3093.7\n",
      "\n",
      "n_components = 30: p_train = 2631.0, p_test = 3080.8\n"
     ]
    }
   ],
   "source": [
    "# no. of documents for train/test data\n",
    "n_train_samples = 8000\n",
    "n_test_samples = 2000\n",
    "\n",
    "# hyperparameter selection - number of topics (n_components)\n",
    "n_folds = 5\n",
    "rand_seeds = [0, 11, 22, 33, 44]\n",
    "n_components = np.array(\n",
    "    [2, 3, 4, 5, 6, 7, 8, 9, 10, 11, 12, 14, 16, 18, 20, 22, 24, 26, 28, 30]\n",
    ")\n",
    "perp_train = np.zeros((n_components.shape[0], n_folds))\n",
    "perp_test = np.zeros((n_components.shape[0], n_folds))\n",
    "for k in range(n_folds):\n",
    "    # construct train/test split\n",
    "    print(f'fold number {k}:')\n",
    "    X_train, X_test = train_test_split(\n",
    "        X,\n",
    "        train_size=n_train_samples,\n",
    "        test_size=n_test_samples,\n",
    "        random_state=rand_seeds[k],\n",
    "    )\n",
    "    for j, ncomp in enumerate(n_components):\n",
    "        lda = LatentDirichletAllocation(\n",
    "            n_components=ncomp,  # x4 components 2.5x the time\n",
    "            max_iter=55,  # x2 iterations 2x the time\n",
    "            learning_decay=0.55,\n",
    "            learning_method=\"online\",\n",
    "            learning_offset=64.0,\n",
    "            batch_size=256,\n",
    "            random_state=0,\n",
    "            evaluate_every=5,\n",
    "            verbose=0,\n",
    "            n_jobs=-1,\n",
    "        )\n",
    "        lda.fit(X_train)  # scales (roughly) linearly with number of training examples\n",
    "        perp_train[j, k] = np.round(lda.perplexity(X_train), 1)\n",
    "        perp_test[j, k] = np.round(lda.perplexity(X_test), 1)\n",
    "        if(k == 0):\n",
    "            pickle.dump(\n",
    "                lda, open(\"model_building\\\\hyperparameter_tuning\\\\model_\" + str(ncomp) + \"_components.sav\", \"wb\")\n",
    "            )\n",
    "        print(\n",
    "            f\"n_components = {ncomp}: p_train = {perp_train[j, k]}, p_test = {perp_test[j, k]}\"\n",
    "        )\n",
    "\n",
    "with open('model_building\\\\perp_train.txt', 'wb') as f:\n",
    "    pickle.dump(perp_train,f)   \n",
    "with open('model_building\\\\perp_test.txt', 'wb') as f:\n",
    "    pickle.dump(perp_test,f)  "
   ]
  },
  {
   "cell_type": "code",
   "execution_count": 66,
   "metadata": {},
   "outputs": [
    {
     "data": {
      "text/plain": [
       "<matplotlib.legend.Legend at 0x224076d6130>"
      ]
     },
     "execution_count": 66,
     "metadata": {},
     "output_type": "execute_result"
    },
    {
     "data": {
      "image/png": "[encoded data removed]",
      "text/plain": [
       "<Figure size 640x480 with 1 Axes>"
      ]
     },
     "metadata": {},
     "output_type": "display_data"
    }
   ],
   "source": [
    "plt.rc(\"font\", **{\"size\": 14})\n",
    "\n",
    "fig, ax = plt.subplots(1, 1)\n",
    "plt.plot(\n",
    "    np.linspace(10, 30.5, 100),\n",
    "    np.mean(perp_test[-4:, 2]) * np.ones(shape=(100,)),\n",
    "    \"k--\",\n",
    ")\n",
    "plt.plot(n_components, perp_train[:, 2], \"b*\", label=\"train\")\n",
    "plt.plot(n_components, perp_test[:, 2], \"r*\", label=\"test\")\n",
    "\n",
    "ax.set_ylabel(\"perplexity\")\n",
    "ax.set_xlabel(\"n_components\")\n",
    "plt.legend()"
   ]
  },
  {
   "cell_type": "code",
   "execution_count": 69,
   "metadata": {},
   "outputs": [],
   "source": [
    "fig.figure.savefig('model_building\\\\ncomp_tuning2.png', dpi=450, bbox_inches=\"tight\")"
   ]
  },
  {
   "cell_type": "markdown",
   "metadata": {},
   "source": [
    "## 2) Fit full model with predetermined n_components"
   ]
  },
  {
   "cell_type": "code",
   "execution_count": 17,
   "metadata": {},
   "outputs": [
    {
     "name": "stdout",
     "output_type": "stream",
     "text": [
      "Fitting LDA models with tf features, n_samples=8000 and n_features=10000...\n",
      "iteration: 1 of max_iter: 30\n",
      "iteration: 2 of max_iter: 30\n",
      "iteration: 3 of max_iter: 30\n",
      "iteration: 4 of max_iter: 30\n",
      "iteration: 5 of max_iter: 30, perplexity: 2798.1047\n",
      "iteration: 6 of max_iter: 30\n",
      "iteration: 7 of max_iter: 30\n",
      "iteration: 8 of max_iter: 30\n",
      "iteration: 9 of max_iter: 30\n",
      "iteration: 10 of max_iter: 30, perplexity: 2779.2717\n",
      "iteration: 11 of max_iter: 30\n",
      "iteration: 12 of max_iter: 30\n",
      "iteration: 13 of max_iter: 30\n",
      "iteration: 14 of max_iter: 30\n",
      "iteration: 15 of max_iter: 30, perplexity: 2772.2392\n",
      "iteration: 16 of max_iter: 30\n",
      "iteration: 17 of max_iter: 30\n",
      "iteration: 18 of max_iter: 30\n",
      "iteration: 19 of max_iter: 30\n",
      "iteration: 20 of max_iter: 30, perplexity: 2768.6466\n",
      "iteration: 21 of max_iter: 30\n",
      "iteration: 22 of max_iter: 30\n",
      "iteration: 23 of max_iter: 30\n",
      "iteration: 24 of max_iter: 30\n",
      "iteration: 25 of max_iter: 30, perplexity: 2766.3787\n",
      "iteration: 26 of max_iter: 30\n",
      "iteration: 27 of max_iter: 30\n",
      "iteration: 28 of max_iter: 30\n",
      "iteration: 29 of max_iter: 30\n",
      "iteration: 30 of max_iter: 30, perplexity: 2764.7911\n",
      "done in 3879.908s.\n",
      "3358.093838267865\n"
     ]
    }
   ],
   "source": [
    "# fit model with optimal value for n_components\n",
    "\n",
    "# model inputs\n",
    "n_samples = 12000\n",
    "n_components = 20\n",
    "n_top_words = 20\n",
    "\n",
    "# construct train/test split\n",
    "X_train, X_test = train_test_split(X, train_size=n_samples, test_size=1000, random_state=22)\n",
    "\n",
    "# took 90 minutes (~1.75 minutes/iteration) on 10,000 words, 20 components, 10177 randomly chosen samples, 52 iterations, perplexity dropped <0.1/iteration at 52th iteration\n",
    "print(\n",
    "    f\"Fitting LDA models with tf features, n_samples={n_samples} and n_features={n_features}...\"\n",
    ")\n",
    "lda = LatentDirichletAllocation(\n",
    "    n_components=n_components,  # x4 components 2.5x the time\n",
    "    max_iter=30,  # x2 iterations 2x the time\n",
    "    learning_decay=0.55,\n",
    "    learning_method=\"online\",\n",
    "    learning_offset=64.0,\n",
    "    batch_size=256,\n",
    "    random_state=0,\n",
    "    evaluate_every=5,\n",
    "    verbose=1,\n",
    "    n_jobs=-1\n",
    ")\n",
    "t0 = time.time()\n",
    "lda.fit(X_train)  # scales (roughly) linearly with number of training examples\n",
    "print(\"done in %0.3fs.\" % (time.time() - t0))\n",
    "\n",
    "print(lda.perplexity(X_test))"
   ]
  },
  {
   "cell_type": "code",
   "execution_count": 4,
   "metadata": {},
   "outputs": [],
   "source": [
    "# predict topic weights for all scripts in the database (4 minutes for the entire corpus)\n",
    "# this will be precomputed and saved to be used for recommender app predicitons\n",
    "Xtran = lda.transform(X)\n",
    "with open('model_building\\\\Xtran.txt', 'wb') as f:\n",
    "    pickle.dump(Xtran,f)    \n",
    "pickle.dump(lda, open('model_building\\\\model_2023_08_24.sav', 'wb'))"
   ]
  }
 ],
 "metadata": {
  "kernelspec": {
   "display_name": "recsys_movie",
   "language": "python",
   "name": "python3"
  },
  "language_info": {
   "codemirror_mode": {
    "name": "ipython",
    "version": 3
   },
   "file_extension": ".py",
   "mimetype": "text/x-python",
   "name": "python",
   "nbconvert_exporter": "python",
   "pygments_lexer": "ipython3",
   "version": "3.9.16"
  },
  "orig_nbformat": 4
 },
 "nbformat": 4,
 "nbformat_minor": 2
}
