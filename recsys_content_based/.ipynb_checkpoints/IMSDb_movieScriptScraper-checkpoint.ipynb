{
 "cells": [
  {
   "cell_type": "markdown",
   "metadata": {},
   "source": [
    "# Scrape movie script data from IMSDb.com\n",
    "\n",
    "## Written by Nicholas Fasano\n",
    "## Created: 01/08/2022\n",
    "### Website: https://imsdb.com/"
   ]
  },
  {
   "cell_type": "code",
   "execution_count": 13,
   "metadata": {},
   "outputs": [],
   "source": [
    "# Load in python packages\n",
    "import requests\n",
    "from bs4 import BeautifulSoup\n",
    "\n",
    "import re\n",
    "import numpy as np\n",
    "import pandas as pd\n",
    "\n",
    "import datetime\n",
    "import time\n"
   ]
  },
  {
   "cell_type": "code",
   "execution_count": 14,
   "metadata": {},
   "outputs": [],
   "source": [
    "# Get links to the movie 'main page' which contains link to the script text for that movie. \n",
    "# Also contains writers, genre, ratings and reviews\n",
    "movieLinks = []\n",
    "page = requests.get('https://imsdb.com/all-scripts.html')\n",
    "soup = BeautifulSoup(page.content,'lxml')\n",
    "results = soup.find_all('a',attrs={'href':re.compile(\"/Movie Scripts/\")})\n",
    "for link in results:\n",
    "    movieLinks.append('https://imsdb.com'+link['href'])\n",
    "numMovies = len(movieLinks)"
   ]
  },
  {
   "cell_type": "code",
   "execution_count": 15,
   "metadata": {},
   "outputs": [],
   "source": [
    "# Get genre and title data from movie main page\n",
    "# Will ignore ratings and comments for now\n",
    "genre = ['None']*numMovies\n",
    "titleStr = ['None']*numMovies\n",
    "movieScriptLinks = ['None']*numMovies\n",
    "\n",
    "for j in range(numMovies):\n",
    "    GenreTemp = ''\n",
    "    page = requests.get(movieLinks[j])\n",
    "    soup = BeautifulSoup(page.content,'lxml')\n",
    "    \n",
    "    # first get movie script link from movie main page\n",
    "    results = soup.find('a',attrs={'href':re.compile(\"/scripts/\")})\n",
    "    if(results == None):\n",
    "        movieScriptLinks[j] = 'Script_Not_Available'\n",
    "    else:\n",
    "        movieScriptLinks[j] = 'https://imsdb.com' + results['href']   \n",
    "    \n",
    "    # next get movie genere and title from movie main page\n",
    "    results = soup.find().find_all('a',attrs={'href':re.compile(\"/genre/\")})   \n",
    "    numGenres = len(results)-18 # 18 is an offset to account for the sidebar link\n",
    "    for k in range(18,numGenres+18):\n",
    "        GenreTemp = GenreTemp + results[k]['href'].split('/')[2] + ' '\n",
    "    genre[j] = GenreTemp[0:-1]\n",
    "    \n",
    "    if(soup.find().find_all('h1')[0].text == 'Not Found'):\n",
    "        # get title from link\n",
    "        titleStrTemp = movieLinks[j].split('/')[-1].split('.html')[0]\n",
    "        titleStrTemp = titleStrTemp.replace(' Script','')\n",
    "    else:\n",
    "        # get title from webpage\n",
    "        titleStrTemp = soup.find().find_all('h1')[1].text\n",
    "        titleStrTemp = titleStrTemp.replace(' Script','')\n",
    "        \n",
    "    titleStr[j] = titleStrTemp\n",
    "    "
   ]
  },
  {
   "cell_type": "code",
   "execution_count": 17,
   "metadata": {},
   "outputs": [],
   "source": [
    "# get script data for all movies in the database \n",
    "scriptText = ['None']*numMovies\n",
    "for j in range(numMovies):\n",
    "    URL = movieScriptLinks[j]\n",
    "    if(URL == 'Script_Not_Available'):\n",
    "        scriptText[j] = 'Script_Not_Available'\n",
    "    else:\n",
    "        page = requests.get(URL)\n",
    "        soup = BeautifulSoup(page.content,'lxml')\n",
    "        if(soup.find('pre') == None):\n",
    "            if(soup.find_all('td',attrs={'class':re.compile(\"scrtext\")}) == []):\n",
    "                scriptText[j] = 'Script_Link_Broken' # 404 error\n",
    "            else:\n",
    "                scriptText[j] = soup.find_all('td',attrs={'class':re.compile(\"scrtext\")})[0].text\n",
    "        else:\n",
    "            scriptText[j] = soup.find('pre').text\n",
    "    "
   ]
  },
  {
   "cell_type": "code",
   "execution_count": 18,
   "metadata": {},
   "outputs": [],
   "source": [
    "# Clean up text before saving to .csv file \n",
    "for j in range(numMovies):\n",
    "    scriptText[j] = scriptText[j].replace(\"\\n\", \" \")\n",
    "    scriptText[j] = scriptText[j].replace(\"\\r\", \" \")\n",
    "    scriptText[j] = scriptText[j].replace(\"\\'\", \"\")\n",
    "    scriptText[j] = re.sub(' +', ' ', scriptText[j]) # removes excess spaces"
   ]
  },
  {
   "cell_type": "code",
   "execution_count": 19,
   "metadata": {},
   "outputs": [],
   "source": [
    "# construct a pandas dataframe and save the file to a .csv file\n",
    "dicttemp = {'Title':titleStr,'Genres':genre,'Movie Info Link':movieLinks,'Movie Script Link':movieScriptLinks,'Script Text':scriptText}\n",
    "df = pd.DataFrame(dicttemp)\n",
    "now = datetime.datetime.now()\n",
    "df.to_csv('IMSDb_MovieScripts_'+now.strftime(\"%Y_%m_%d_%Hhr_%Mmin_%Ssec\")+'.csv')     "
   ]
  },
  {
   "cell_type": "code",
   "execution_count": null,
   "metadata": {},
   "outputs": [],
   "source": []
  }
 ],
 "metadata": {
  "kernelspec": {
   "display_name": "Python 3",
   "language": "python",
   "name": "python3"
  },
  "language_info": {
   "codemirror_mode": {
    "name": "ipython",
    "version": 3
   },
   "file_extension": ".py",
   "mimetype": "text/x-python",
   "name": "python",
   "nbconvert_exporter": "python",
   "pygments_lexer": "ipython3",
   "version": "3.7.9"
  }
 },
 "nbformat": 4,
 "nbformat_minor": 4
}
