{
 "cells": [
  {
   "cell_type": "markdown",
   "metadata": {},
   "source": [
    "## Data synthesis: new dataframe for model eval and deployed with recommmender app\n",
    "\n",
    "Dataset synthesis: After BoW represetnation is constructed, we combine the script dataset with IMDb the dataset to assist with model evaluation and eventually to be deployed with recommender app."
   ]
  },
  {
   "cell_type": "code",
   "execution_count": 1,
   "metadata": {},
   "outputs": [],
   "source": [
    "import numpy as np\n",
    "import pandas as pd\n",
    "import pickle"
   ]
  },
  {
   "cell_type": "code",
   "execution_count": 2,
   "metadata": {},
   "outputs": [
    {
     "name": "stderr",
     "output_type": "stream",
     "text": [
      "C:\\Users\\Nick\\AppData\\Local\\Temp\\ipykernel_26844\\2606149448.py:10: DtypeWarning: Columns (4) have mixed types. Specify dtype option on import or set low_memory=False.\n",
      "  df_imdb_basics = pd.read_csv(path_to_tsv, sep=\"\\t\")\n"
     ]
    }
   ],
   "source": [
    "# import (cleaned) movie script data\n",
    "path_to_csv = (\n",
    "    \"data_cleaning_and_synthesis_out\\springfield_movie_scripts_2023_01_13_clean.csv\"\n",
    ")\n",
    "df = pd.read_csv(path_to_csv, index_col=[0])\n",
    "df = df[[\"movie_title\", \"movie_year\", \"imdb_id\", \"imdb_link\", \"tmdb_poster_link\"]]\n",
    "\n",
    "# load in any changes to df from data_preprocessing_eda.ipynb notebook\n",
    "# TODO - add functionality to give option to drop movie scripts after datapreprocessing\n",
    "\n",
    "# load in IMDb title basics and title ratings datasets\n",
    "path_to_tsv = \"..\\\\database_IMDb\\\\2023_02_12_IMDb_dataset\\\\titleBasics.tsv\"\n",
    "df_imdb_basics = pd.read_csv(path_to_tsv, sep=\"\\t\")\n",
    "df_imdb_basics = df_imdb_basics[[\"tconst\", \"genres\", \"isAdult\"]]\n",
    "\n",
    "path_to_tsv = \"..\\\\database_IMDb\\\\2023_02_12_IMDb_dataset\\\\titleRatings.tsv\"\n",
    "df_imdb_ratings = pd.read_csv(path_to_tsv, sep=\"\\t\")\n",
    "\n",
    "# join the two datasets on tconst\n",
    "df_imdb = df_imdb_basics.join(\n",
    "    other=df_imdb_ratings.set_index(\"tconst\"), on=\"tconst\", how=\"left\"\n",
    ")\n",
    "\n",
    "# finally join springfield and imdb datasets\n",
    "df = df.join(df_imdb.set_index(\"tconst\"), on=\"imdb_id\", how=\"left\")\n",
    "\n",
    "# rename and reorder the columns\n",
    "df.columns = [\n",
    "    \"movie_title\",\n",
    "    \"movie_year\",\n",
    "    \"imdb_id\",\n",
    "    \"imdb_link\",\n",
    "    \"tmdb_poster_link\",\n",
    "    \"genre\",\n",
    "    \"is_adult\",\n",
    "    \"average_rating\",\n",
    "    \"num_votes\",\n",
    "]\n",
    "df = df[\n",
    "    [\n",
    "        \"movie_title\",\n",
    "        \"movie_year\",\n",
    "        \"genre\",\n",
    "        \"average_rating\",\n",
    "        \"num_votes\",\n",
    "        \"is_adult\",\n",
    "        \"imdb_id\",\n",
    "        \"imdb_link\",\n",
    "        \"tmdb_poster_link\",\n",
    "    ]\n",
    "]\n",
    "\n",
    "# # drop movies that did not have any words after constructing bag of words\n",
    "# df = df.drop(jmovie_drop, axis=0)\n",
    "\n",
    "# add year to movie titles with duplicate names\n",
    "movie_title_counts = df[\"movie_title\"].value_counts()\n",
    "movie_dups = movie_title_counts[movie_title_counts > 1]\n",
    "list_of_dups = movie_dups.index.tolist()\n",
    "\n",
    "df[\"movie_title\"] = [\n",
    "    jmovie_title + \", \" + str(df[\"movie_year\"].iloc[j])\n",
    "    if jmovie_title in list_of_dups\n",
    "    else jmovie_title\n",
    "    for j, jmovie_title in enumerate(df[\"movie_title\"])\n",
    "]\n",
    "\n",
    "# clean up explicits in the movie titles\n",
    "df[\"movie_title\"] = [\n",
    "    jmovie.replace(\"uck\", \"***\") if \"fuck\" in jmovie.lower() else jmovie\n",
    "    for jmovie in df[\"movie_title\"]\n",
    "]\n",
    "df[\"movie_title\"] = [\n",
    "    jmovie.replace(\"itch\", \"****\") if \"bitch\" in jmovie.lower() else jmovie\n",
    "    for jmovie in df[\"movie_title\"]\n",
    "]\n",
    "df[\"movie_title\"] = [\n",
    "    jmovie.replace(\"hit\", \"***\") if \"shit \" in jmovie.lower() else jmovie\n",
    "    for jmovie in df[\"movie_title\"]\n",
    "]\n",
    "\n",
    "# save new dataframe for uploading to spaces\n",
    "df.to_csv(\"data_preprocessing_eda_out\\\\df_spaces_upload.csv\")"
   ]
  },
  {
   "cell_type": "code",
   "execution_count": null,
   "metadata": {},
   "outputs": [],
   "source": []
  }
 ],
 "metadata": {
  "kernelspec": {
   "display_name": "recsys_movie",
   "language": "python",
   "name": "python3"
  },
  "language_info": {
   "codemirror_mode": {
    "name": "ipython",
    "version": 3
   },
   "file_extension": ".py",
   "mimetype": "text/x-python",
   "name": "python",
   "nbconvert_exporter": "python",
   "pygments_lexer": "ipython3",
   "version": "3.9.16"
  },
  "orig_nbformat": 4
 },
 "nbformat": 4,
 "nbformat_minor": 2
}
