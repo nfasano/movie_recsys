{
 "cells": [
  {
   "cell_type": "markdown",
   "metadata": {},
   "source": [
    "## Update film script dataset as needed\n",
    "\n",
    "Description: Functions to continually update the dataset are provided (similar to SQLs UPDATE command)"
   ]
  },
  {
   "cell_type": "code",
   "execution_count": 27,
   "metadata": {},
   "outputs": [],
   "source": [
    "import pandas as pd\n",
    "import numpy as np\n",
    "import requests"
   ]
  },
  {
   "cell_type": "code",
   "execution_count": 77,
   "metadata": {},
   "outputs": [],
   "source": [
    "def df_update(df, movie_id, update_dict):\n",
    "    for jcol in update_dict:\n",
    "        if jcol in df.columns:\n",
    "            # make the update\n",
    "            df.loc[movie_id, jcol] = update_dict[jcol]\n",
    "\n",
    "            # if necessary, update imdb link\n",
    "            if jcol == \"imdb_id\":\n",
    "                df.loc[movie_id, \"imdb_link\"] = (\n",
    "                    \"https://www.imdb.com/title/\" + df.loc[movie_id, \"imdb_id\"] + \"/\"\n",
    "                )\n",
    "\n",
    "            # if necessary, update tmdb_poster_link\n",
    "            if jcol == \"tmdb_id\":\n",
    "                url = \"https://api.themoviedb.org/3/movie/{}?api_key=075d83b3063def6fdd12763959a9086e&language=en-US\".format(\n",
    "                    df.loc[movie_id, \"tmdb_id\"]\n",
    "                )\n",
    "                try:\n",
    "                    data = requests.get(url)\n",
    "                    data.raise_for_status()\n",
    "                    data = data.json()\n",
    "                    df.loc[movie_id, \"tmdb_poster_link\"] = (\n",
    "                        \"https://image.tmdb.org/t/p/w500/\" + data[\"poster_path\"]\n",
    "                    )\n",
    "                except:\n",
    "                    df.loc[movie_id, \"tmdb_poster_link\"] = \"NULL\"\n",
    "        else:\n",
    "            print(\"WARNING:\" + jcol + \" is not a valid column name.\")\n",
    "\n",
    "    return df\n",
    "\n",
    "\n",
    "def locate_movie_id(df, col_name, col_value):\n",
    "    return df.query(col_name + ' == @col_value')"
   ]
  },
  {
   "cell_type": "markdown",
   "metadata": {},
   "source": [
    "### Load in current script dataset "
   ]
  },
  {
   "cell_type": "code",
   "execution_count": 47,
   "metadata": {},
   "outputs": [
    {
     "name": "stdout",
     "output_type": "stream",
     "text": [
      "Valid Column names to update:\n",
      "['movie_title', 'movie_year', 'springfield_link', 'script_text', 'imdb_id', 'imdb_link', 'tmdb_poster_link', 'tmdb_id']\n"
     ]
    }
   ],
   "source": [
    "df = pd.read_csv('data_cleaning_and_synthesis_out\\\\springfield_movie_scripts_2023_01_13_clean.csv', index_col = [0])\n",
    "col_names = df.columns.tolist()\n",
    "print('Valid Column names to update:')\n",
    "print(col_names)"
   ]
  },
  {
   "cell_type": "markdown",
   "metadata": {},
   "source": [
    "### Locate movie_id by movie name, imdb_id, or tmdb_id "
   ]
  },
  {
   "cell_type": "code",
   "execution_count": 82,
   "metadata": {},
   "outputs": [
    {
     "data": {
      "text/html": [
       "<div>\n",
       "<style scoped>\n",
       "    .dataframe tbody tr th:only-of-type {\n",
       "        vertical-align: middle;\n",
       "    }\n",
       "\n",
       "    .dataframe tbody tr th {\n",
       "        vertical-align: top;\n",
       "    }\n",
       "\n",
       "    .dataframe thead th {\n",
       "        text-align: right;\n",
       "    }\n",
       "</style>\n",
       "<table border=\"1\" class=\"dataframe\">\n",
       "  <thead>\n",
       "    <tr style=\"text-align: right;\">\n",
       "      <th></th>\n",
       "      <th>movie_title</th>\n",
       "      <th>movie_year</th>\n",
       "      <th>springfield_link</th>\n",
       "      <th>script_text</th>\n",
       "      <th>imdb_id</th>\n",
       "      <th>imdb_link</th>\n",
       "      <th>tmdb_poster_link</th>\n",
       "      <th>tmdb_id</th>\n",
       "    </tr>\n",
       "    <tr>\n",
       "      <th>movie_id</th>\n",
       "      <th></th>\n",
       "      <th></th>\n",
       "      <th></th>\n",
       "      <th></th>\n",
       "      <th></th>\n",
       "      <th></th>\n",
       "      <th></th>\n",
       "      <th></th>\n",
       "    </tr>\n",
       "  </thead>\n",
       "  <tbody>\n",
       "    <tr>\n",
       "      <th>28508</th>\n",
       "      <td>The Fabric</td>\n",
       "      <td>2022</td>\n",
       "      <td>https://www.springfieldspringfield.co.uk/movie...</td>\n",
       "      <td>1 WIANG CHAI YA CHET BURI 1,000 YEARS AGO Hel...</td>\n",
       "      <td>tt23772402</td>\n",
       "      <td>https://www.imdb.com/title/tt23772402/</td>\n",
       "      <td>https://image.tmdb.org/t/p/w500//o1ZqapMkAqIRo...</td>\n",
       "      <td>952024</td>\n",
       "    </tr>\n",
       "  </tbody>\n",
       "</table>\n",
       "</div>"
      ],
      "text/plain": [
       "         movie_title  movie_year  \\\n",
       "movie_id                           \n",
       "28508     The Fabric        2022   \n",
       "\n",
       "                                           springfield_link  \\\n",
       "movie_id                                                      \n",
       "28508     https://www.springfieldspringfield.co.uk/movie...   \n",
       "\n",
       "                                                script_text     imdb_id  \\\n",
       "movie_id                                                                  \n",
       "28508      1 WIANG CHAI YA CHET BURI 1,000 YEARS AGO Hel...  tt23772402   \n",
       "\n",
       "                                       imdb_link  \\\n",
       "movie_id                                           \n",
       "28508     https://www.imdb.com/title/tt23772402/   \n",
       "\n",
       "                                           tmdb_poster_link  tmdb_id  \n",
       "movie_id                                                              \n",
       "28508     https://image.tmdb.org/t/p/w500//o1ZqapMkAqIRo...   952024  "
      ]
     },
     "execution_count": 82,
     "metadata": {},
     "output_type": "execute_result"
    }
   ],
   "source": [
    "# method 1: movie name\n",
    "col_value = 'The Fabric'\n",
    "col_name = 'movie_title' # 'imdb_id', 'tmdb_id', or 'movie_name'\n",
    "locate_movie_id(df, col_name=col_name, col_value=col_value)\n"
   ]
  },
  {
   "cell_type": "markdown",
   "metadata": {},
   "source": [
    "### Perform update"
   ]
  },
  {
   "cell_type": "code",
   "execution_count": 66,
   "metadata": {},
   "outputs": [
    {
     "name": "stdout",
     "output_type": "stream",
     "text": [
      "Original dataframe:\n",
      "+------------------+----------------------------------------------------------------------------+\n",
      "|                  | 28508                                                                      |\n",
      "+==================+============================================================================+\n",
      "| movie_title      | The Fabric                                                                 |\n",
      "+------------------+----------------------------------------------------------------------------+\n",
      "| movie_year       | 2022                                                                       |\n",
      "+------------------+----------------------------------------------------------------------------+\n",
      "| springfield_link | https://www.springfieldspringfield.co.uk/movie_script.php?movie=the-fabric |\n",
      "+------------------+----------------------------------------------------------------------------+\n",
      "| imdb_id          | tt23772402                                                                 |\n",
      "+------------------+----------------------------------------------------------------------------+\n",
      "| imdb_link        | https://www.imdb.com/title/tt23772402/                                     |\n",
      "+------------------+----------------------------------------------------------------------------+\n",
      "| tmdb_poster_link | nan                                                                        |\n",
      "+------------------+----------------------------------------------------------------------------+\n",
      "| tmdb_id          | -1                                                                         |\n",
      "+------------------+----------------------------------------------------------------------------+\n",
      "\n",
      "Updated dataframe:\n",
      "+------------------+----------------------------------------------------------------------------+\n",
      "|                  | 28508                                                                      |\n",
      "+==================+============================================================================+\n",
      "| movie_title      | The Fabric                                                                 |\n",
      "+------------------+----------------------------------------------------------------------------+\n",
      "| movie_year       | 2022                                                                       |\n",
      "+------------------+----------------------------------------------------------------------------+\n",
      "| springfield_link | https://www.springfieldspringfield.co.uk/movie_script.php?movie=the-fabric |\n",
      "+------------------+----------------------------------------------------------------------------+\n",
      "| imdb_id          | tt23772402                                                                 |\n",
      "+------------------+----------------------------------------------------------------------------+\n",
      "| imdb_link        | https://www.imdb.com/title/tt23772402/                                     |\n",
      "+------------------+----------------------------------------------------------------------------+\n",
      "| tmdb_poster_link | https://image.tmdb.org/t/p/w500//o1ZqapMkAqIRoJMRecwbpeb1FkD.jpg           |\n",
      "+------------------+----------------------------------------------------------------------------+\n",
      "| tmdb_id          | 952024                                                                     |\n",
      "+------------------+----------------------------------------------------------------------------+\n"
     ]
    }
   ],
   "source": [
    "movie_id = 28508\n",
    "update_dict = {\"tmdb_id\": 952024}\n",
    "\n",
    "print('Original dataframe:')\n",
    "print(df.loc[movie_id].drop('script_text').to_markdown(tablefmt=\"grid\") + '\\n')\n",
    "\n",
    "df = df_update(df=df, movie_id=movie_id, update_dict=update_dict)\n",
    "\n",
    "print('Updated dataframe:')\n",
    "print(df.loc[movie_id].drop('script_text').to_markdown(tablefmt=\"grid\"))"
   ]
  },
  {
   "cell_type": "markdown",
   "metadata": {},
   "source": [
    "### Push changes to the csv file"
   ]
  },
  {
   "cell_type": "code",
   "execution_count": 67,
   "metadata": {},
   "outputs": [],
   "source": [
    "df.to_csv(\n",
    "    \"data_cleaning_and_synthesis_out\\\\springfield_movie_scripts_2023_01_13_clean.csv\"\n",
    ")"
   ]
  }
 ],
 "metadata": {
  "kernelspec": {
   "display_name": "recsys_movie",
   "language": "python",
   "name": "python3"
  },
  "language_info": {
   "codemirror_mode": {
    "name": "ipython",
    "version": 3
   },
   "file_extension": ".py",
   "mimetype": "text/x-python",
   "name": "python",
   "nbconvert_exporter": "python",
   "pygments_lexer": "ipython3",
   "version": "3.9.16"
  },
  "orig_nbformat": 4
 },
 "nbformat": 4,
 "nbformat_minor": 2
}
