{
 "cells": [
  {
   "cell_type": "markdown",
   "metadata": {},
   "source": [
    "## Update film script dataset as needed\n",
    "\n",
    "Description: Functions to continually update the dataset are provided (similar to SQLs UPDATE command)"
   ]
  },
  {
   "cell_type": "code",
   "execution_count": 2,
   "metadata": {},
   "outputs": [],
   "source": [
    "import pandas as pd\n",
    "import numpy as np\n",
    "import requests"
   ]
  },
  {
   "cell_type": "code",
   "execution_count": 4,
   "metadata": {},
   "outputs": [],
   "source": [
    "def df_update(df, movie_id, update_dict):\n",
    "    for jcol in update_dict:\n",
    "        if jcol in df.columns:\n",
    "            # make the update\n",
    "            df.loc[movie_id, jcol] = update_dict[jcol]\n",
    "\n",
    "            # if necessary, update imdb link\n",
    "            if jcol == \"imdb_id\":\n",
    "                df.loc[movie_id, \"imdb_link\"] = (\n",
    "                    \"https://www.imdb.com/title/\" + df.loc[movie_id, \"imdb_id\"] + \"/\"\n",
    "                )\n",
    "\n",
    "            # if necessary, update tmdb_poster_link\n",
    "            if jcol == \"tmdb_id\":\n",
    "                url = \"https://api.themoviedb.org/3/movie/{}?api_key=075d83b3063def6fdd12763959a9086e&language=en-US\".format(\n",
    "                    df.loc[movie_id, \"tmdb_id\"]\n",
    "                )\n",
    "                try:\n",
    "                    data = requests.get(url)\n",
    "                    data.raise_for_status()\n",
    "                    data = data.json()\n",
    "                    df.loc[movie_id, \"tmdb_poster_link\"] = (\n",
    "                        \"https://image.tmdb.org/t/p/w500/\" + data[\"poster_path\"]\n",
    "                    )\n",
    "                except:\n",
    "                    df.loc[movie_id, \"tmdb_poster_link\"] = \"NULL\"\n",
    "        else:\n",
    "            print(\"WARNING:\" + jcol + \" is not a valid column name.\")\n",
    "\n",
    "    return df\n",
    "\n",
    "\n",
    "def locate_movie_id(df, col_name, col_value):\n",
    "    return df.query(col_name + ' == @col_value')"
   ]
  },
  {
   "cell_type": "markdown",
   "metadata": {},
   "source": [
    "### Load in current script dataset "
   ]
  },
  {
   "cell_type": "code",
   "execution_count": 5,
   "metadata": {},
   "outputs": [
    {
     "name": "stdout",
     "output_type": "stream",
     "text": [
      "Valid Column names to update:\n",
      "['movie_title', 'movie_year', 'springfield_link', 'script_text', 'imdb_id', 'imdb_link', 'tmdb_poster_link', 'tmdb_id']\n"
     ]
    }
   ],
   "source": [
    "df = pd.read_csv('data_cleaning_and_synthesis_out\\\\springfield_movie_scripts_2023_01_13_clean.csv', index_col = [0])\n",
    "col_names = df.columns.tolist()\n",
    "print('Valid Column names to update:')\n",
    "print(col_names)"
   ]
  },
  {
   "cell_type": "markdown",
   "metadata": {},
   "source": [
    "### Locate movie_id by movie name, imdb_id, or tmdb_id "
   ]
  },
  {
   "cell_type": "code",
   "execution_count": 9,
   "metadata": {},
   "outputs": [
    {
     "data": {
      "text/html": [
       "<div>\n",
       "<style scoped>\n",
       "    .dataframe tbody tr th:only-of-type {\n",
       "        vertical-align: middle;\n",
       "    }\n",
       "\n",
       "    .dataframe tbody tr th {\n",
       "        vertical-align: top;\n",
       "    }\n",
       "\n",
       "    .dataframe thead th {\n",
       "        text-align: right;\n",
       "    }\n",
       "</style>\n",
       "<table border=\"1\" class=\"dataframe\">\n",
       "  <thead>\n",
       "    <tr style=\"text-align: right;\">\n",
       "      <th></th>\n",
       "      <th>movie_title</th>\n",
       "      <th>movie_year</th>\n",
       "      <th>springfield_link</th>\n",
       "      <th>script_text</th>\n",
       "      <th>imdb_id</th>\n",
       "      <th>imdb_link</th>\n",
       "      <th>tmdb_poster_link</th>\n",
       "      <th>tmdb_id</th>\n",
       "    </tr>\n",
       "  </thead>\n",
       "  <tbody>\n",
       "    <tr>\n",
       "      <th>9005</th>\n",
       "      <td>Elf</td>\n",
       "      <td>2003</td>\n",
       "      <td>https://www.springfieldspringfield.co.uk/movie...</td>\n",
       "      <td>Oh, hello. Youre, uh, youre probably here Abo...</td>\n",
       "      <td>tt0319343</td>\n",
       "      <td>https://www.imdb.com/title/tt0319343/</td>\n",
       "      <td>https://image.tmdb.org/t/p/w500//oOleziEempUPu...</td>\n",
       "      <td>10719</td>\n",
       "    </tr>\n",
       "  </tbody>\n",
       "</table>\n",
       "</div>"
      ],
      "text/plain": [
       "     movie_title  movie_year  \\\n",
       "9005         Elf        2003   \n",
       "\n",
       "                                       springfield_link  \\\n",
       "9005  https://www.springfieldspringfield.co.uk/movie...   \n",
       "\n",
       "                                            script_text    imdb_id  \\\n",
       "9005   Oh, hello. Youre, uh, youre probably here Abo...  tt0319343   \n",
       "\n",
       "                                  imdb_link  \\\n",
       "9005  https://www.imdb.com/title/tt0319343/   \n",
       "\n",
       "                                       tmdb_poster_link  tmdb_id  \n",
       "9005  https://image.tmdb.org/t/p/w500//oOleziEempUPu...    10719  "
      ]
     },
     "execution_count": 9,
     "metadata": {},
     "output_type": "execute_result"
    }
   ],
   "source": [
    "# method 1: movie name\n",
    "col_value = 'Elf'\n",
    "col_name = 'movie_title' # 'imdb_id', 'tmdb_id', or 'movie_name'\n",
    "locate_movie_id(df, col_name=col_name, col_value=col_value)\n"
   ]
  },
  {
   "cell_type": "markdown",
   "metadata": {},
   "source": [
    "### Perform update"
   ]
  },
  {
   "cell_type": "code",
   "execution_count": 7,
   "metadata": {},
   "outputs": [
    {
     "name": "stdout",
     "output_type": "stream",
     "text": [
      "Original dataframe:\n",
      "+------------------+------------------------------------------------------------------------+\n",
      "|                  | 33385                                                                  |\n",
      "+==================+========================================================================+\n",
      "| movie_title      | WALL-E                                                                 |\n",
      "+------------------+------------------------------------------------------------------------+\n",
      "| movie_year       | 2008                                                                   |\n",
      "+------------------+------------------------------------------------------------------------+\n",
      "| springfield_link | https://www.springfieldspringfield.co.uk/movie_script.php?movie=wall-e |\n",
      "+------------------+------------------------------------------------------------------------+\n",
      "| imdb_id          | nan                                                                    |\n",
      "+------------------+------------------------------------------------------------------------+\n",
      "| imdb_link        | nan                                                                    |\n",
      "+------------------+------------------------------------------------------------------------+\n",
      "| tmdb_poster_link | nan                                                                    |\n",
      "+------------------+------------------------------------------------------------------------+\n",
      "| tmdb_id          | -1                                                                     |\n",
      "+------------------+------------------------------------------------------------------------+\n",
      "\n",
      "Updated dataframe:\n",
      "+------------------+------------------------------------------------------------------------+\n",
      "|                  | 33385                                                                  |\n",
      "+==================+========================================================================+\n",
      "| movie_title      | WALL-E                                                                 |\n",
      "+------------------+------------------------------------------------------------------------+\n",
      "| movie_year       | 2008                                                                   |\n",
      "+------------------+------------------------------------------------------------------------+\n",
      "| springfield_link | https://www.springfieldspringfield.co.uk/movie_script.php?movie=wall-e |\n",
      "+------------------+------------------------------------------------------------------------+\n",
      "| imdb_id          | tt0910970                                                              |\n",
      "+------------------+------------------------------------------------------------------------+\n",
      "| imdb_link        | https://www.imdb.com/title/tt0910970/                                  |\n",
      "+------------------+------------------------------------------------------------------------+\n",
      "| tmdb_poster_link | https://image.tmdb.org/t/p/w500//2Wjn5vxvJmomJQkLuUwyX2hBaif.jpg       |\n",
      "+------------------+------------------------------------------------------------------------+\n",
      "| tmdb_id          | 10681                                                                  |\n",
      "+------------------+------------------------------------------------------------------------+\n"
     ]
    }
   ],
   "source": [
    "movie_id = 33385\n",
    "update_dict = {\"movie_title\":\"WALL-E\", \"imdb_id\": \"tt0910970\", \"tmdb_id\":10681}\n",
    "\n",
    "print('Original dataframe:')\n",
    "print(df.loc[movie_id].drop('script_text').to_markdown(tablefmt=\"grid\") + '\\n')\n",
    "\n",
    "df = df_update(df=df, movie_id=movie_id, update_dict=update_dict)\n",
    "\n",
    "print('Updated dataframe:')\n",
    "print(df.loc[movie_id].drop('script_text').to_markdown(tablefmt=\"grid\"))"
   ]
  },
  {
   "cell_type": "markdown",
   "metadata": {},
   "source": [
    "### Push changes to the csv file"
   ]
  },
  {
   "cell_type": "code",
   "execution_count": 8,
   "metadata": {},
   "outputs": [],
   "source": [
    "df.to_csv(\n",
    "    \"data_cleaning_and_synthesis_out\\\\springfield_movie_scripts_2023_01_13_clean.csv\"\n",
    ")"
   ]
  }
 ],
 "metadata": {
  "kernelspec": {
   "display_name": "recsys_movie",
   "language": "python",
   "name": "python3"
  },
  "language_info": {
   "codemirror_mode": {
    "name": "ipython",
    "version": 3
   },
   "file_extension": ".py",
   "mimetype": "text/x-python",
   "name": "python",
   "nbconvert_exporter": "python",
   "pygments_lexer": "ipython3",
   "version": "3.9.16"
  },
  "orig_nbformat": 4
 },
 "nbformat": 4,
 "nbformat_minor": 2
}
