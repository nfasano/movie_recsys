{
 "cells": [
  {
   "cell_type": "code",
   "execution_count": 23,
   "metadata": {},
   "outputs": [],
   "source": [
    "import pandas as pd\n",
    "import numpy as np\n"
   ]
  },
  {
   "cell_type": "markdown",
   "metadata": {},
   "source": [
    "### method b) load in tconsts from existing database and manually add new values"
   ]
  },
  {
   "cell_type": "code",
   "execution_count": null,
   "metadata": {},
   "outputs": [],
   "source": [
    "df_out = pd.read_csv('data_cleaning_and_synthesis_out\\\\springfield_movie_scripts_2023_01_13_clean.csv', index_col = [0])\n",
    "print(len(df_orig), len(df_out))\n",
    "\n",
    "# left join df_orig and df_out on id and manually insert imdb_id and imdb_link\n",
    "df_orig = df_orig.join(df_out[['imdb_id','imdb_link']], how='left' )\n",
    "print(len(df_orig))"
   ]
  },
  {
   "cell_type": "code",
   "execution_count": null,
   "metadata": {},
   "outputs": [
    {
     "name": "stdout",
     "output_type": "stream",
     "text": [
      "35538 35537\n"
     ]
    }
   ],
   "source": [
    "# insert/fix imdb_id and update imdb_link\n",
    "df_orig.loc[35537,'imdb_id'] = 'tt1517268'\n",
    "df_orig['imdb_link'] = 'https://www.imdb.com/title/' + df_orig['imdb_id'] + '/'"
   ]
  }
 ],
 "metadata": {
  "kernelspec": {
   "display_name": "recsys_movie",
   "language": "python",
   "name": "python3"
  },
  "language_info": {
   "codemirror_mode": {
    "name": "ipython",
    "version": 3
   },
   "file_extension": ".py",
   "mimetype": "text/x-python",
   "name": "python",
   "nbconvert_exporter": "python",
   "pygments_lexer": "ipython3",
   "version": "3.9.16"
  },
  "orig_nbformat": 4
 },
 "nbformat": 4,
 "nbformat_minor": 2
}
