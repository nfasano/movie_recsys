{
 "cells": [
  {
   "cell_type": "markdown",
   "metadata": {},
   "source": [
    "# Nicholas Fasano"
   ]
  },
  {
   "cell_type": "code",
   "execution_count": 15,
   "metadata": {},
   "outputs": [],
   "source": [
    "# Load in python packages\n",
    "import re\n",
    "import numpy as np\n",
    "import pandas as pd\n",
    "from scipy import sparse\n",
    "\n",
    "import time\n",
    "\n",
    "from sklearn.feature_extraction.text import CountVectorizer\n",
    "\n",
    "import nltk\n",
    "from nltk.corpus import stopwords, wordnet\n",
    "from nltk.stem import WordNetLemmatizer, PorterStemmer\n",
    "from collections import defaultdict\n",
    "import pickle\n",
    "\n",
    "import seaborn as sns\n",
    "import matplotlib.pyplot as plt\n",
    "from matplotlib.ticker import (MultipleLocator, FormatStrFormatter, AutoMinorLocator)\n",
    "\n"
   ]
  },
  {
   "cell_type": "markdown",
   "metadata": {},
   "source": [
    "# 1) Data preprocessing"
   ]
  },
  {
   "cell_type": "code",
   "execution_count": 3,
   "metadata": {},
   "outputs": [],
   "source": [
    "def get_wordnet_pos(word):\n",
    "    tag = nltk.pos_tag([word])[0][1][0].upper()\n",
    "    tag_dict = {\n",
    "        \"J\": wordnet.ADJ,\n",
    "        \"N\": wordnet.NOUN,\n",
    "        \"V\": wordnet.VERB,\n",
    "        \"R\": wordnet.ADV,\n",
    "    }\n",
    "    return tag_dict.get(tag, wordnet.NOUN)\n",
    "\n",
    "\n",
    "def lemma(text):\n",
    "    lemmatizer = WordNetLemmatizer()\n",
    "    return \" \".join([lemmatizer.lemmatize(w, get_wordnet_pos(w)) for w in text.split()])\n",
    "\n",
    "\n",
    "def stem(text):\n",
    "    ps = PorterStemmer()\n",
    "    return \" \".join([ps.stem(w) for w in text.split()])\n",
    "\n",
    "\n",
    "def df_preprocessing(df, word_map, stop_words):\n",
    "    # remove punctuation\n",
    "    # uses a regular expression \\w == all words \\s == all spaces [] == set of characters + == allow for mulitple occurences\n",
    "    df[\"script_text\"] = df[\"script_text\"].str.replace(r\"[^\\w\\s]+\", \" \", regex=True)\n",
    "\n",
    "    # make everything lowercase\n",
    "    df[\"script_text\"] = df[\"script_text\"].str.lower()\n",
    "\n",
    "    # map specific words\n",
    "    if len(word_map) > 0:\n",
    "        for jstr in word_map:\n",
    "            df[\"script_text\"] = df[\"script_text\"].str.replace(\n",
    "                rf\"\\b{jstr}\\b\", word_map[jstr], regex=True\n",
    "            )\n",
    "\n",
    "    # remove initial set of stop words - takes ~4.5 minuntes to run this line for the entire corpus\n",
    "    if len(stop_words):\n",
    "        df[\"script_text\"] = df[\"script_text\"].apply(\n",
    "            [lambda x: \" \".join([word for word in x.split() if word not in stop_words])]\n",
    "        )\n",
    "\n",
    "    return df\n",
    "\n",
    "def list_duplicates(seq):\n",
    "    tally = defaultdict(list)\n",
    "    for i, item in enumerate(seq):\n",
    "        tally[item].append(i)\n",
    "    return ((key, locs) for key, locs in tally.items() if len(locs) > 1)"
   ]
  },
  {
   "cell_type": "code",
   "execution_count": 4,
   "metadata": {},
   "outputs": [],
   "source": [
    "def construct_BoW(df, n_features=10000, max_df=0.8, min_df=1, lemmatization=False):\n",
    "    if not lemmatization:\n",
    "        #\n",
    "        vectorizer = CountVectorizer(\n",
    "            max_df=max_df, min_df=min_df, max_features=n_features, stop_words=\"english\"\n",
    "        )\n",
    "        X_out = vectorizer.fit_transform(df[\"script_text\"])\n",
    "\n",
    "        # get word features in increasing item number\n",
    "        word_key_out = vectorizer.get_feature_names_out()\n",
    "\n",
    "        return X_out, word_key_out\n",
    "    else:\n",
    "        # first create bag of words on corpus\n",
    "        vectorizer = CountVectorizer(max_df=0.7, min_df=5)\n",
    "        X_csr = vectorizer.fit_transform(df[\"script_text\"])\n",
    "        X_lil = X_csr.tolil()  # used for fast adjustments to matrix sparsity\n",
    "        X_csc = X_lil.tocsc()  # used for fast column-wise math operations\n",
    "\n",
    "        # get vocab and sort it in increasing item number\n",
    "        vocab = vectorizer.vocabulary_\n",
    "        vocab = dict(sorted(vocab.items(), key=lambda x: x[1], reverse=False))\n",
    "        word_key = list(vocab.keys())\n",
    "        word_idx = list(vocab.values())\n",
    "\n",
    "        # perform lemmatization/stemming of word_key list\n",
    "        word_key_text = \" \".join([wk for wk in word_key])\n",
    "        word_key_text = lemma(word_key_text)\n",
    "        # word_key_text = stem(word_key_text)\n",
    "\n",
    "        # find the duplicate words after lemmatization\n",
    "        dup_all = []\n",
    "        for dup in sorted(list_duplicates(word_key_text.split())):\n",
    "            dup_all.append(dup)\n",
    "\n",
    "        # sum coulmns of X for duplicate words after lemmatization\n",
    "        words_to_remove = []\n",
    "        for i, dup in enumerate(dup_all):\n",
    "            words_to_remove = words_to_remove + dup[1][1:]\n",
    "            X_lil[:, dup[1][0]] = np.sum(X_csc[:, dup[1][:]], axis=1)\n",
    "\n",
    "        # construt output matrix and drop the duplicated columns, update word_key\n",
    "        X_out = X_lil.tocsr()\n",
    "        words_to_keep = np.delete(word_idx, words_to_remove)\n",
    "        X_out = X_out[:, words_to_keep]\n",
    "        word_key = [word_key[jword] for jword in words_to_keep]\n",
    "\n",
    "        # keep words that only appear in more than df_min documents but less than df_max documents\n",
    "        X_bin = X_out.copy()\n",
    "        X_bin.data = np.ones(shape=X_bin.data.shape)\n",
    "\n",
    "        min_df = min_df * len(df) if type(min_df) == float else min_df\n",
    "        max_df = max_df * len(df) if type(max_df) == float else max_df\n",
    "\n",
    "        word_idx = np.intersect1d(\n",
    "            np.argwhere(np.sum(X_bin, axis=0) > min_df)[:, 1],\n",
    "            np.argwhere(np.sum(X_bin, axis=0) < max_df)[:, 1],\n",
    "        )\n",
    "        X_out = X_out[:, word_idx]\n",
    "        word_key = [word_key[jword] for jword in word_idx]\n",
    "\n",
    "        # # drop rows that have no words\n",
    "        # non_blank_movie_scripts = np.argwhere(np.sum(Xbin, axis=1) > 0)[:, 0]\n",
    "        # X_out = X_out[non_blank_movie_scripts, :]\n",
    "\n",
    "        # finally retain only top n_features, update word_key accordingly\n",
    "        wordcount_ordered = np.flip(\n",
    "            np.argsort(np.array(np.sum(X_out, axis=0)).reshape(-1))\n",
    "        )\n",
    "        X_out = X_out[:, wordcount_ordered[0:n_features]]\n",
    "        word_key = [word_key[jword] for jword in wordcount_ordered[0:n_features]]\n",
    "\n",
    "        # return lemmatized word_key\n",
    "        word_key_out = lemma(\" \".join([wk for wk in word_key])).split()\n",
    "        return X_out, word_key_out"
   ]
  },
  {
   "cell_type": "markdown",
   "metadata": {},
   "source": [
    "### 1a) load in cleaned script text data"
   ]
  },
  {
   "cell_type": "code",
   "execution_count": 7,
   "metadata": {},
   "outputs": [
    {
     "data": {
      "text/html": [
       "<div>\n",
       "<style scoped>\n",
       "    .dataframe tbody tr th:only-of-type {\n",
       "        vertical-align: middle;\n",
       "    }\n",
       "\n",
       "    .dataframe tbody tr th {\n",
       "        vertical-align: top;\n",
       "    }\n",
       "\n",
       "    .dataframe thead th {\n",
       "        text-align: right;\n",
       "    }\n",
       "</style>\n",
       "<table border=\"1\" class=\"dataframe\">\n",
       "  <thead>\n",
       "    <tr style=\"text-align: right;\">\n",
       "      <th></th>\n",
       "      <th>movie_title</th>\n",
       "      <th>movie_year</th>\n",
       "      <th>script_text</th>\n",
       "    </tr>\n",
       "  </thead>\n",
       "  <tbody>\n",
       "    <tr>\n",
       "      <th>0</th>\n",
       "      <td>A 2nd Hand Lover</td>\n",
       "      <td>2015</td>\n",
       "      <td>Wow! Amazing! What a beautiful place. Im meet...</td>\n",
       "    </tr>\n",
       "    <tr>\n",
       "      <th>1</th>\n",
       "      <td>A Aa</td>\n",
       "      <td>2016</td>\n",
       "      <td>3 My every birthday, Mom hopes for something....</td>\n",
       "    </tr>\n",
       "    <tr>\n",
       "      <th>2</th>\n",
       "      <td>A Baby at Any Cost</td>\n",
       "      <td>2022</td>\n",
       "      <td>0 Jen? Jen? Jen? Oops... sorry! Jason? Oh, sh...</td>\n",
       "    </tr>\n",
       "    <tr>\n",
       "      <th>3</th>\n",
       "      <td>A Bad Idea Gone Wrong</td>\n",
       "      <td>2017</td>\n",
       "      <td>1 - The tropical places, you know, thats the ...</td>\n",
       "    </tr>\n",
       "    <tr>\n",
       "      <th>4</th>\n",
       "      <td>A Bad Moms Christmas</td>\n",
       "      <td>2017</td>\n",
       "      <td>1 My name is Amy Mitchell, and this year Ive ...</td>\n",
       "    </tr>\n",
       "  </tbody>\n",
       "</table>\n",
       "</div>"
      ],
      "text/plain": [
       "             movie_title  movie_year  \\\n",
       "0       A 2nd Hand Lover        2015   \n",
       "1                   A Aa        2016   \n",
       "2     A Baby at Any Cost        2022   \n",
       "3  A Bad Idea Gone Wrong        2017   \n",
       "4   A Bad Moms Christmas        2017   \n",
       "\n",
       "                                         script_text  \n",
       "0   Wow! Amazing! What a beautiful place. Im meet...  \n",
       "1   3 My every birthday, Mom hopes for something....  \n",
       "2   0 Jen? Jen? Jen? Oops... sorry! Jason? Oh, sh...  \n",
       "3   1 - The tropical places, you know, thats the ...  \n",
       "4   1 My name is Amy Mitchell, and this year Ive ...  "
      ]
     },
     "execution_count": 7,
     "metadata": {},
     "output_type": "execute_result"
    }
   ],
   "source": [
    "# import cleaned text data\n",
    "path_to_csv = (\n",
    "    \"data_cleaning_and_synthesis_out\\springfield_movie_scripts_2023_01_13_cleaned_with_imdb_id.csv\"\n",
    ")\n",
    "dff = pd.read_csv(path_to_csv, index_col=[0])\n",
    "\n",
    "# create a new dataframe with just the movie script text column\n",
    "dff = dff[[\"movie_title\", \"movie_year\", \"script_text\"]].copy()\n",
    "dff.head()"
   ]
  },
  {
   "cell_type": "markdown",
   "metadata": {},
   "source": [
    "### 1b) remove stop words, punctuation, extra spaces, map selected words, and make entire corpus all lowercase"
   ]
  },
  {
   "cell_type": "code",
   "execution_count": 9,
   "metadata": {},
   "outputs": [
    {
     "name": "stderr",
     "output_type": "stream",
     "text": [
      "[nltk_data] Downloading package stopwords to\n",
      "[nltk_data]     C:\\Users\\Nick\\AppData\\Roaming\\nltk_data...\n",
      "[nltk_data]   Package stopwords is already up-to-date!\n"
     ]
    }
   ],
   "source": [
    "# map words with different spellings but same meaning\n",
    "word_map = {\n",
    "    \"okay\": \"ok\",\n",
    "    \"l\": \"i\",\n",
    "    \"lll\": \"ill\",\n",
    "    \"lm\": \"im\",\n",
    "    \"lve\": \"ive\",\n",
    "    \"lf\": \"if\",\n",
    "    \"lt\": \"it\",\n",
    "    \"lts\": \"its\",\n",
    "    \"aii\": \"all\",\n",
    "    \"iii\": \"ill\",\n",
    "    \"weii\": \"well\",\n",
    "    \"wiii\": \"will\",\n",
    "    \"oniy\": \"only\",\n",
    "    \"reaiiy\": \"really\",\n",
    "    \"iike\": \"like\",\n",
    "    \"teii\": \"tell\",\n",
    "    \"piease\": \"please\",\n",
    "    \"iove\": \"love\",\n",
    "    \"couid\": \"could\",\n",
    "    \"wouid\": \"would\",\n",
    "    \"aiive\": \"alive\",\n",
    "    \"aione\": \"alone\",\n",
    "    \"aimost\": \"almost\",\n",
    "    \"aiong\": \"along\",\n",
    "    \"aiready\": \"already\",\n",
    "    \"aiso\": \"also\",\n",
    "}\n",
    "\n",
    "# remove an initial set of stop words using nltk library\n",
    "nltk.download(\"stopwords\")\n",
    "stop_words = stopwords.words(\"english\")\n",
    "stop_words = [sw.replace(\"'\", \"\") for sw in stop_words]\n",
    "\n",
    "\n",
    "dff = df_preprocessing(dff, word_map, stop_words)"
   ]
  },
  {
   "cell_type": "markdown",
   "metadata": {},
   "source": [
    "### 1c) construct bag of words matrix, X, to be fed into LDA model"
   ]
  },
  {
   "cell_type": "code",
   "execution_count": 10,
   "metadata": {},
   "outputs": [],
   "source": [
    "# finally construct bag of words\n",
    "n_features = 10000\n",
    "max_df = 0.8\n",
    "min_df = 3\n",
    "X, word_key = construct_BoW(\n",
    "    dff, n_features=n_features, max_df=max_df, min_df=min_df, lemmatization=False\n",
    ")"
   ]
  },
  {
   "cell_type": "code",
   "execution_count": 11,
   "metadata": {},
   "outputs": [],
   "source": [
    "# clean up explicits in the word_key\n",
    "word_map = {\n",
    "    \"bitch\": \"b***h\",\n",
    "    \"bitches\": \"b***hes\",\n",
    "    \"tits\": \"t*ts\",\n",
    "    \"tit\": \"t*t\",\n",
    "    \"tits\": \"t*ts\",\n",
    "    \"titties\": \"t*tties\",\n",
    "    \"fuck\": \"f**k\",\n",
    "    \"fucks\": \"f**ks\",\n",
    "    \"fucking\": \"f**king\",\n",
    "    \"fuckin\": \"f**kin\",\n",
    "    \"fucker\": \"f**ker\",\n",
    "    \"fuckers\": \"f**kers\",\n",
    "    \"fucked\": \"f**ked\",\n",
    "    \"motherfucker\": \"motherf**ker\",\n",
    "    \"motherfuckers\": \"motherf**kers\",\n",
    "    \"motherfuckin\": \"motherf**kin\",\n",
    "    \"motherfucking\": \"motherf**king\",\n",
    "    \"cunt\": \"c**t\",\n",
    "    \"cocksucker\": \"c**ksucker\",\n",
    "    \"piss\": \"p**s\",\n",
    "    \"pissed\": \"p**sed\",\n",
    "    \"pissing\": \"p**sing\",\n",
    "    \"bullshit\": \"bulls**t\",\n",
    "    \"shit\": \"s**t\",\n",
    "    \"shithead\": \"s**thead\",\n",
    "    \"shits\": \"s**ts\",\n",
    "    \"shitting\": \"s**tting\",\n",
    "    \"shitty\": \"s**tty\",\n",
    "}\n",
    "\n",
    "word_key = word_key.tolist()\n",
    "for jstr in word_map:\n",
    "    word_key = [word_map[jstr] if j == jstr else j for j in word_key]\n",
    "word_key = np.array(word_key)"
   ]
  },
  {
   "cell_type": "markdown",
   "metadata": {},
   "source": [
    "### 1d) construct new dataframe for evaluation of model and eventually uploaded to HF spaces"
   ]
  },
  {
   "cell_type": "code",
   "execution_count": 13,
   "metadata": {},
   "outputs": [
    {
     "name": "stderr",
     "output_type": "stream",
     "text": [
      "C:\\Users\\Nick\\AppData\\Local\\Temp\\ipykernel_2680\\1997946078.py:10: DtypeWarning: Columns (4) have mixed types. Specify dtype option on import or set low_memory=False.\n",
      "  df_imdb_basics = pd.read_csv(path_to_tsv, sep=\"\\t\")\n"
     ]
    }
   ],
   "source": [
    "# import (cleaned) movie script data\n",
    "path_to_csv = (\n",
    "    \"data_cleaning_and_synthesis_out\\springfield_movie_scripts_2023_01_13_cleaned_with_imdb_id.csv\"\n",
    ")\n",
    "df = pd.read_csv(path_to_csv, index_col=[0])\n",
    "df = df[[\"movie_title\", \"movie_year\", \"imdb_id\", \"imdb_link\"]]\n",
    "\n",
    "# load in IMDb title basics and title ratings datasets\n",
    "path_to_tsv =  \"..\\\\database_IMDb\\\\2023_02_12_IMDb_dataset\\\\titleBasics.tsv\"\n",
    "df_imdb_basics = pd.read_csv(path_to_tsv, sep=\"\\t\")\n",
    "df_imdb_basics = df_imdb_basics[[\"tconst\", \"genres\", \"isAdult\"]]\n",
    "\n",
    "path_to_tsv = \"..\\\\database_IMDb\\\\2023_02_12_IMDb_dataset\\\\titleRatings.tsv\"\n",
    "df_imdb_ratings = pd.read_csv(path_to_tsv, sep=\"\\t\")\n",
    "\n",
    "# join the two datasets on tconst\n",
    "df_imdb = df_imdb_basics.join(\n",
    "    other=df_imdb_ratings.set_index(\"tconst\"), on=\"tconst\", how=\"left\"\n",
    ")\n",
    "\n",
    "# finally join springfield and imdb datasets\n",
    "df = df.join(df_imdb.set_index(\"tconst\"), on=\"imdb_id\", how=\"left\")\n",
    "\n",
    "# rename and reorder the columns\n",
    "df.columns = [\n",
    "    \"movie_title\",\n",
    "    \"movie_year\",\n",
    "    \"imdb_tconst\",\n",
    "    \"imdb_link\",\n",
    "    \"genre\",\n",
    "    \"is_adult\",\n",
    "    \"average_rating\",\n",
    "    \"num_votes\",\n",
    "]\n",
    "df = df[\n",
    "    [\n",
    "        \"movie_title\",\n",
    "        \"movie_year\",\n",
    "        \"genre\",\n",
    "        \"average_rating\",\n",
    "        \"num_votes\",\n",
    "        \"is_adult\",\n",
    "        \"imdb_tconst\",\n",
    "        \"imdb_link\",\n",
    "    ]\n",
    "]\n",
    "\n",
    "# # drop movies that did not have any words after constructing bag of words\n",
    "# df = df.drop(jmovie_drop, axis=0)\n",
    "\n",
    "# add year to movie titles with duplicate names\n",
    "movie_title_counts = df[\"movie_title\"].value_counts()\n",
    "movie_dups = movie_title_counts[movie_title_counts > 1]\n",
    "list_of_dups = movie_dups.index.tolist()\n",
    "\n",
    "df[\"movie_title\"] = [\n",
    "    jmovie_title + \", \" + str(df[\"movie_year\"].iloc[j])\n",
    "    if jmovie_title in list_of_dups\n",
    "    else jmovie_title\n",
    "    for j, jmovie_title in enumerate(df[\"movie_title\"])\n",
    "]\n",
    "\n",
    "# clean up explicits in the movie titles\n",
    "df[\"movie_title\"] = [\n",
    "    jmovie.replace(\"uck\", \"***\") if \"fuck\" in jmovie.lower() else jmovie\n",
    "    for jmovie in df[\"movie_title\"]\n",
    "]\n",
    "df[\"movie_title\"] = [\n",
    "    jmovie.replace(\"itch\", \"****\") if \"bitch\" in jmovie.lower() else jmovie\n",
    "    for jmovie in df[\"movie_title\"]\n",
    "]\n",
    "df[\"movie_title\"] = [\n",
    "    jmovie.replace(\"hit\", \"***\") if \"shit \" in jmovie.lower() else jmovie\n",
    "    for jmovie in df[\"movie_title\"]\n",
    "]"
   ]
  },
  {
   "cell_type": "markdown",
   "metadata": {},
   "source": [
    "### 1e) preprocessing outputs for model building"
   ]
  },
  {
   "cell_type": "code",
   "execution_count": 16,
   "metadata": {},
   "outputs": [],
   "source": [
    "# save new dataframe for uploading to spaces\n",
    "df.to_csv(\"data_preprocessing_eda_out\\\\df_spaces_upload.csv\")\n",
    "\n",
    "# save bag-of-words matrix and corresponding word_key\n",
    "sparse.save_npz(\"data_preprocessing_eda_out\\\\X.npz\", X)\n",
    "\n",
    "with open(\"data_preprocessing_eda_out\\\\word_key.txt\", \"wb\") as f:\n",
    "    pickle.dump(word_key, f)"
   ]
  },
  {
   "cell_type": "markdown",
   "metadata": {},
   "source": [
    "# 2) Exploratory data analysis"
   ]
  },
  {
   "cell_type": "markdown",
   "metadata": {},
   "source": [
    "### 2a) Movie release by year"
   ]
  },
  {
   "cell_type": "code",
   "execution_count": 17,
   "metadata": {},
   "outputs": [
    {
     "data": {
      "text/plain": [
       "[Text(0, 0.5, 'Number of Movies Released')]"
      ]
     },
     "execution_count": 17,
     "metadata": {},
     "output_type": "execute_result"
    },
    {
     "data": {
      "image/png": "[encoded data removed]",
      "text/plain": [
       "<Figure size 640x480 with 1 Axes>"
      ]
     },
     "metadata": {},
     "output_type": "display_data"
    }
   ],
   "source": [
    "# plot number of movies released each year\n",
    "a = sns.histplot(df, x=\"movie_year\", binwidth=1)\n",
    "a.set(ylabel=\"Number of Movies Released\")"
   ]
  },
  {
   "cell_type": "markdown",
   "metadata": {},
   "source": [
    "### 2b) most used words after removal of stop words and most frequent words"
   ]
  },
  {
   "cell_type": "code",
   "execution_count": 18,
   "metadata": {},
   "outputs": [
    {
     "data": {
      "image/png": "[encoded data removed]",
      "text/plain": [
       "<Figure size 1800x400 with 1 Axes>"
      ]
     },
     "metadata": {},
     "output_type": "display_data"
    }
   ],
   "source": [
    "num_words = 100\n",
    "\n",
    "# compute word count for all words left in the corpus\n",
    "# and sort the word_key list in descending order\n",
    "word_count_all_docs = np.array(np.sum(X, axis=0))[0]\n",
    "indw = np.flip(np.argsort(word_count_all_docs))\n",
    "word_count_all_docs = word_count_all_docs[indw]\n",
    "word_keys_sort = [word_key[i] for i in indw[0:num_words+1]]\n",
    "\n",
    "fig, ax = plt.subplots(figsize=(18, 4))\n",
    "\n",
    "ax.bar(x=np.arange(0, num_words + 1), height=word_count_all_docs[0 : num_words + 1])\n",
    "ax.set_ylim(0, np.max(word_count_all_docs) + 1)\n",
    "ax.set_xlim(0, num_words)\n",
    "ax.set_ylabel(\"Word Count\")\n",
    "ax.set_xlabel(\"Word ID\")\n",
    "ax.set_xticks(np.linspace(0, num_words, num_words + 1))\n",
    "ax.set_xticklabels(word_keys_sort[0 : num_words + 1])\n",
    "plt.xticks(rotation=90);"
   ]
  },
  {
   "cell_type": "code",
   "execution_count": null,
   "metadata": {},
   "outputs": [],
   "source": []
  },
  {
   "cell_type": "code",
   "execution_count": null,
   "metadata": {},
   "outputs": [],
   "source": []
  },
  {
   "cell_type": "code",
   "execution_count": null,
   "metadata": {},
   "outputs": [],
   "source": []
  }
 ],
 "metadata": {
  "kernelspec": {
   "display_name": "Python 3",
   "language": "python",
   "name": "python3"
  },
  "language_info": {
   "codemirror_mode": {
    "name": "ipython",
    "version": 3
   },
   "file_extension": ".py",
   "mimetype": "text/x-python",
   "name": "python",
   "nbconvert_exporter": "python",
   "pygments_lexer": "ipython3",
   "version": "3.9.16"
  }
 },
 "nbformat": 4,
 "nbformat_minor": 4
}
