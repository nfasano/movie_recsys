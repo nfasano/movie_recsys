{
 "cells": [
  {
   "cell_type": "code",
   "execution_count": 1,
   "metadata": {},
   "outputs": [],
   "source": [
    "import pandas as pd\n",
    "import numpy as np\n",
    "from matplotlib import pyplot as plt\n",
    "import seaborn as sns\n",
    "import scipy.sparse as sps\n",
    "import scipy as sp\n",
    "\n",
    "import time\n",
    "import line_profiler\n",
    "%load_ext line_profiler"
   ]
  },
  {
   "cell_type": "code",
   "execution_count": 2,
   "metadata": {},
   "outputs": [
    {
     "data": {
      "text/html": [
       "<div>\n",
       "<style scoped>\n",
       "    .dataframe tbody tr th:only-of-type {\n",
       "        vertical-align: middle;\n",
       "    }\n",
       "\n",
       "    .dataframe tbody tr th {\n",
       "        vertical-align: top;\n",
       "    }\n",
       "\n",
       "    .dataframe thead th {\n",
       "        text-align: right;\n",
       "    }\n",
       "</style>\n",
       "<table border=\"1\" class=\"dataframe\">\n",
       "  <thead>\n",
       "    <tr style=\"text-align: right;\">\n",
       "      <th></th>\n",
       "      <th>userId</th>\n",
       "      <th>movieId</th>\n",
       "      <th>rating</th>\n",
       "      <th>timestamp</th>\n",
       "    </tr>\n",
       "  </thead>\n",
       "  <tbody>\n",
       "    <tr>\n",
       "      <th>0</th>\n",
       "      <td>1</td>\n",
       "      <td>307</td>\n",
       "      <td>3.5</td>\n",
       "      <td>1256677221</td>\n",
       "    </tr>\n",
       "    <tr>\n",
       "      <th>1</th>\n",
       "      <td>1</td>\n",
       "      <td>481</td>\n",
       "      <td>3.5</td>\n",
       "      <td>1256677456</td>\n",
       "    </tr>\n",
       "    <tr>\n",
       "      <th>2</th>\n",
       "      <td>1</td>\n",
       "      <td>1091</td>\n",
       "      <td>1.5</td>\n",
       "      <td>1256677471</td>\n",
       "    </tr>\n",
       "    <tr>\n",
       "      <th>3</th>\n",
       "      <td>1</td>\n",
       "      <td>1257</td>\n",
       "      <td>4.5</td>\n",
       "      <td>1256677460</td>\n",
       "    </tr>\n",
       "    <tr>\n",
       "      <th>4</th>\n",
       "      <td>1</td>\n",
       "      <td>1449</td>\n",
       "      <td>4.5</td>\n",
       "      <td>1256677264</td>\n",
       "    </tr>\n",
       "  </tbody>\n",
       "</table>\n",
       "</div>"
      ],
      "text/plain": [
       "   userId  movieId  rating   timestamp\n",
       "0       1      307     3.5  1256677221\n",
       "1       1      481     3.5  1256677456\n",
       "2       1     1091     1.5  1256677471\n",
       "3       1     1257     4.5  1256677460\n",
       "4       1     1449     4.5  1256677264"
      ]
     },
     "execution_count": 2,
     "metadata": {},
     "output_type": "execute_result"
    }
   ],
   "source": [
    "df = pd.read_csv('ml-latest\\\\ratings.csv')\n",
    "df_movieId = pd.read_csv('ml-latest\\\\movies.csv')\n",
    "\n",
    "df.head()"
   ]
  },
  {
   "cell_type": "code",
   "execution_count": 19,
   "metadata": {},
   "outputs": [
    {
     "data": {
      "text/plain": [
       "4.0    7394710\n",
       "3.0    5515668\n",
       "5.0    4071135\n",
       "3.5    3404360\n",
       "4.5    2373550\n",
       "2.0    1850627\n",
       "2.5    1373419\n",
       "1.0     886233\n",
       "0.5     442388\n",
       "1.5     441354\n",
       "Name: rating, dtype: int64"
      ]
     },
     "execution_count": 19,
     "metadata": {},
     "output_type": "execute_result"
    }
   ],
   "source": [
    "# print some useful stats\n",
    "df['rating'].value_counts()"
   ]
  },
  {
   "cell_type": "code",
   "execution_count": 4,
   "metadata": {},
   "outputs": [],
   "source": [
    "# map half ratings to integer ratings by rounding up (e.g. .5 -> 1 and 3.5 -> 4)\n",
    "# for jrating in [0.5,1.5,2.5,3.5,4.5]:\n",
    "#     df[df['rating'] == jrating] = jrating+.5\n",
    "\n",
    "\n",
    "\n",
    "# # map half ratings to integer ratings using a 50/50 split to nearest whole number\n",
    "# df[df['rating'] == 0.5] = 1\n",
    "# for jrating in [1.5,2.5,3.5,4.5]:\n",
    "#     a = np.array(df[df['rating'] == jrating].index,dtype=int)\n",
    "#     np.random.shuffle(a) # shuffle in-place, returns none\n",
    "#     num_ratings = len(a)\n",
    "#     df.loc[list(a[0:int(np.ceil(num_ratings/2))]),'rating'] = jrating-.5\n",
    "#     df.loc[list(a[int(np.ceil(num_ratings/2)):]),'rating'] = jrating+.5"
   ]
  },
  {
   "cell_type": "code",
   "execution_count": 20,
   "metadata": {},
   "outputs": [
    {
     "data": {
      "text/plain": [
       "4.0    7394710\n",
       "3.0    5515668\n",
       "5.0    4071135\n",
       "3.5    3404360\n",
       "4.5    2373550\n",
       "2.0    1850627\n",
       "2.5    1373419\n",
       "1.0     886233\n",
       "0.5     442388\n",
       "1.5     441354\n",
       "Name: rating, dtype: int64"
      ]
     },
     "execution_count": 20,
     "metadata": {},
     "output_type": "execute_result"
    }
   ],
   "source": [
    "df['rating'].value_counts()"
   ]
  },
  {
   "cell_type": "code",
   "execution_count": 57,
   "metadata": {},
   "outputs": [],
   "source": [
    "# drop certain percentage of users to make the dataset more manageable for testing\n",
    "df.drop(df[df.userId > 1000].index, inplace=True)"
   ]
  },
  {
   "cell_type": "code",
   "execution_count": 58,
   "metadata": {},
   "outputs": [
    {
     "ename": "KeyError",
     "evalue": "\"['timestamp'] not found in axis\"",
     "output_type": "error",
     "traceback": [
      "\u001b[1;31m---------------------------------------------------------------------------\u001b[0m",
      "\u001b[1;31mKeyError\u001b[0m                                  Traceback (most recent call last)",
      "Cell \u001b[1;32mIn[58], line 1\u001b[0m\n\u001b[1;32m----> 1\u001b[0m df \u001b[39m=\u001b[39m df\u001b[39m.\u001b[39;49mdrop(columns\u001b[39m=\u001b[39;49m[\u001b[39m'\u001b[39;49m\u001b[39mtimestamp\u001b[39;49m\u001b[39m'\u001b[39;49m])\n",
      "File \u001b[1;32mc:\\Users\\Nick\\.conda\\envs\\recsys_movie\\lib\\site-packages\\pandas\\util\\_decorators.py:331\u001b[0m, in \u001b[0;36mdeprecate_nonkeyword_arguments.<locals>.decorate.<locals>.wrapper\u001b[1;34m(*args, **kwargs)\u001b[0m\n\u001b[0;32m    325\u001b[0m \u001b[39mif\u001b[39;00m \u001b[39mlen\u001b[39m(args) \u001b[39m>\u001b[39m num_allow_args:\n\u001b[0;32m    326\u001b[0m     warnings\u001b[39m.\u001b[39mwarn(\n\u001b[0;32m    327\u001b[0m         msg\u001b[39m.\u001b[39mformat(arguments\u001b[39m=\u001b[39m_format_argument_list(allow_args)),\n\u001b[0;32m    328\u001b[0m         \u001b[39mFutureWarning\u001b[39;00m,\n\u001b[0;32m    329\u001b[0m         stacklevel\u001b[39m=\u001b[39mfind_stack_level(),\n\u001b[0;32m    330\u001b[0m     )\n\u001b[1;32m--> 331\u001b[0m \u001b[39mreturn\u001b[39;00m func(\u001b[39m*\u001b[39margs, \u001b[39m*\u001b[39m\u001b[39m*\u001b[39mkwargs)\n",
      "File \u001b[1;32mc:\\Users\\Nick\\.conda\\envs\\recsys_movie\\lib\\site-packages\\pandas\\core\\frame.py:5399\u001b[0m, in \u001b[0;36mDataFrame.drop\u001b[1;34m(self, labels, axis, index, columns, level, inplace, errors)\u001b[0m\n\u001b[0;32m   5251\u001b[0m \u001b[39m@deprecate_nonkeyword_arguments\u001b[39m(version\u001b[39m=\u001b[39m\u001b[39mNone\u001b[39;00m, allowed_args\u001b[39m=\u001b[39m[\u001b[39m\"\u001b[39m\u001b[39mself\u001b[39m\u001b[39m\"\u001b[39m, \u001b[39m\"\u001b[39m\u001b[39mlabels\u001b[39m\u001b[39m\"\u001b[39m])\n\u001b[0;32m   5252\u001b[0m \u001b[39mdef\u001b[39;00m \u001b[39mdrop\u001b[39m(  \u001b[39m# type: ignore[override]\u001b[39;00m\n\u001b[0;32m   5253\u001b[0m     \u001b[39mself\u001b[39m,\n\u001b[1;32m   (...)\u001b[0m\n\u001b[0;32m   5260\u001b[0m     errors: IgnoreRaise \u001b[39m=\u001b[39m \u001b[39m\"\u001b[39m\u001b[39mraise\u001b[39m\u001b[39m\"\u001b[39m,\n\u001b[0;32m   5261\u001b[0m ) \u001b[39m-\u001b[39m\u001b[39m>\u001b[39m DataFrame \u001b[39m|\u001b[39m \u001b[39mNone\u001b[39;00m:\n\u001b[0;32m   5262\u001b[0m \u001b[39m    \u001b[39m\u001b[39m\"\"\"\u001b[39;00m\n\u001b[0;32m   5263\u001b[0m \u001b[39m    Drop specified labels from rows or columns.\u001b[39;00m\n\u001b[0;32m   5264\u001b[0m \n\u001b[1;32m   (...)\u001b[0m\n\u001b[0;32m   5397\u001b[0m \u001b[39m            weight  1.0     0.8\u001b[39;00m\n\u001b[0;32m   5398\u001b[0m \u001b[39m    \"\"\"\u001b[39;00m\n\u001b[1;32m-> 5399\u001b[0m     \u001b[39mreturn\u001b[39;00m \u001b[39msuper\u001b[39;49m()\u001b[39m.\u001b[39;49mdrop(\n\u001b[0;32m   5400\u001b[0m         labels\u001b[39m=\u001b[39;49mlabels,\n\u001b[0;32m   5401\u001b[0m         axis\u001b[39m=\u001b[39;49maxis,\n\u001b[0;32m   5402\u001b[0m         index\u001b[39m=\u001b[39;49mindex,\n\u001b[0;32m   5403\u001b[0m         columns\u001b[39m=\u001b[39;49mcolumns,\n\u001b[0;32m   5404\u001b[0m         level\u001b[39m=\u001b[39;49mlevel,\n\u001b[0;32m   5405\u001b[0m         inplace\u001b[39m=\u001b[39;49minplace,\n\u001b[0;32m   5406\u001b[0m         errors\u001b[39m=\u001b[39;49merrors,\n\u001b[0;32m   5407\u001b[0m     )\n",
      "File \u001b[1;32mc:\\Users\\Nick\\.conda\\envs\\recsys_movie\\lib\\site-packages\\pandas\\util\\_decorators.py:331\u001b[0m, in \u001b[0;36mdeprecate_nonkeyword_arguments.<locals>.decorate.<locals>.wrapper\u001b[1;34m(*args, **kwargs)\u001b[0m\n\u001b[0;32m    325\u001b[0m \u001b[39mif\u001b[39;00m \u001b[39mlen\u001b[39m(args) \u001b[39m>\u001b[39m num_allow_args:\n\u001b[0;32m    326\u001b[0m     warnings\u001b[39m.\u001b[39mwarn(\n\u001b[0;32m    327\u001b[0m         msg\u001b[39m.\u001b[39mformat(arguments\u001b[39m=\u001b[39m_format_argument_list(allow_args)),\n\u001b[0;32m    328\u001b[0m         \u001b[39mFutureWarning\u001b[39;00m,\n\u001b[0;32m    329\u001b[0m         stacklevel\u001b[39m=\u001b[39mfind_stack_level(),\n\u001b[0;32m    330\u001b[0m     )\n\u001b[1;32m--> 331\u001b[0m \u001b[39mreturn\u001b[39;00m func(\u001b[39m*\u001b[39margs, \u001b[39m*\u001b[39m\u001b[39m*\u001b[39mkwargs)\n",
      "File \u001b[1;32mc:\\Users\\Nick\\.conda\\envs\\recsys_movie\\lib\\site-packages\\pandas\\core\\generic.py:4505\u001b[0m, in \u001b[0;36mNDFrame.drop\u001b[1;34m(self, labels, axis, index, columns, level, inplace, errors)\u001b[0m\n\u001b[0;32m   4503\u001b[0m \u001b[39mfor\u001b[39;00m axis, labels \u001b[39min\u001b[39;00m axes\u001b[39m.\u001b[39mitems():\n\u001b[0;32m   4504\u001b[0m     \u001b[39mif\u001b[39;00m labels \u001b[39mis\u001b[39;00m \u001b[39mnot\u001b[39;00m \u001b[39mNone\u001b[39;00m:\n\u001b[1;32m-> 4505\u001b[0m         obj \u001b[39m=\u001b[39m obj\u001b[39m.\u001b[39;49m_drop_axis(labels, axis, level\u001b[39m=\u001b[39;49mlevel, errors\u001b[39m=\u001b[39;49merrors)\n\u001b[0;32m   4507\u001b[0m \u001b[39mif\u001b[39;00m inplace:\n\u001b[0;32m   4508\u001b[0m     \u001b[39mself\u001b[39m\u001b[39m.\u001b[39m_update_inplace(obj)\n",
      "File \u001b[1;32mc:\\Users\\Nick\\.conda\\envs\\recsys_movie\\lib\\site-packages\\pandas\\core\\generic.py:4546\u001b[0m, in \u001b[0;36mNDFrame._drop_axis\u001b[1;34m(self, labels, axis, level, errors, only_slice)\u001b[0m\n\u001b[0;32m   4544\u001b[0m         new_axis \u001b[39m=\u001b[39m axis\u001b[39m.\u001b[39mdrop(labels, level\u001b[39m=\u001b[39mlevel, errors\u001b[39m=\u001b[39merrors)\n\u001b[0;32m   4545\u001b[0m     \u001b[39melse\u001b[39;00m:\n\u001b[1;32m-> 4546\u001b[0m         new_axis \u001b[39m=\u001b[39m axis\u001b[39m.\u001b[39;49mdrop(labels, errors\u001b[39m=\u001b[39;49merrors)\n\u001b[0;32m   4547\u001b[0m     indexer \u001b[39m=\u001b[39m axis\u001b[39m.\u001b[39mget_indexer(new_axis)\n\u001b[0;32m   4549\u001b[0m \u001b[39m# Case for non-unique axis\u001b[39;00m\n\u001b[0;32m   4550\u001b[0m \u001b[39melse\u001b[39;00m:\n",
      "File \u001b[1;32mc:\\Users\\Nick\\.conda\\envs\\recsys_movie\\lib\\site-packages\\pandas\\core\\indexes\\base.py:6934\u001b[0m, in \u001b[0;36mIndex.drop\u001b[1;34m(self, labels, errors)\u001b[0m\n\u001b[0;32m   6932\u001b[0m \u001b[39mif\u001b[39;00m mask\u001b[39m.\u001b[39many():\n\u001b[0;32m   6933\u001b[0m     \u001b[39mif\u001b[39;00m errors \u001b[39m!=\u001b[39m \u001b[39m\"\u001b[39m\u001b[39mignore\u001b[39m\u001b[39m\"\u001b[39m:\n\u001b[1;32m-> 6934\u001b[0m         \u001b[39mraise\u001b[39;00m \u001b[39mKeyError\u001b[39;00m(\u001b[39mf\u001b[39m\u001b[39m\"\u001b[39m\u001b[39m{\u001b[39;00m\u001b[39mlist\u001b[39m(labels[mask])\u001b[39m}\u001b[39;00m\u001b[39m not found in axis\u001b[39m\u001b[39m\"\u001b[39m)\n\u001b[0;32m   6935\u001b[0m     indexer \u001b[39m=\u001b[39m indexer[\u001b[39m~\u001b[39mmask]\n\u001b[0;32m   6936\u001b[0m \u001b[39mreturn\u001b[39;00m \u001b[39mself\u001b[39m\u001b[39m.\u001b[39mdelete(indexer)\n",
      "\u001b[1;31mKeyError\u001b[0m: \"['timestamp'] not found in axis\""
     ]
    }
   ],
   "source": [
    "df = df.drop(columns=['timestamp'])"
   ]
  },
  {
   "cell_type": "code",
   "execution_count": 59,
   "metadata": {},
   "outputs": [],
   "source": [
    "# create new_ids that are run continously from [0, num_movies-1]\n",
    "num_movies = len(np.unique(df['movieId']))\n",
    "old_movie_id = np.unique(df['movieId'])\n",
    "new_movie_id = np.array(range(0, num_movies), dtype=int)\n",
    "\n",
    "# create new_ids that are run continously from [0,num_users-1]\n",
    "num_users = len(np.unique(df['userId']))\n",
    "old_user_id = np.unique(df['userId'])\n",
    "new_user_id = np.array(range(0,num_users),dtype=int)\n",
    "\n",
    "# create dictonary for mapping old_ids to new_ids\n",
    "movie_map = {old_movie_id[j]:new_movie_id[j] for j in range(num_movies)}\n",
    "user_map = {old_user_id[j]:new_user_id[j] for j in range(num_users)}\n",
    "\n",
    "# perform the mapping\n",
    "df['movieId'] = df['movieId'].map(movie_map)\n",
    "df['userId'] = df['userId'].map(user_map) "
   ]
  },
  {
   "cell_type": "code",
   "execution_count": null,
   "metadata": {},
   "outputs": [],
   "source": []
  },
  {
   "cell_type": "code",
   "execution_count": 60,
   "metadata": {},
   "outputs": [],
   "source": [
    "# \n",
    "data = np.array(df['rating'])\n",
    "col = np.array(df['movieId'], dtype=int)\n",
    "row = np.array(df['userId'], dtype=int)\n",
    "\n",
    "Rs = sps.coo_array((data, (row, col)), shape=(len(new_user_id), len(new_movie_id)))\n",
    "Rsc = sps.coo_array((data, (row, col)), shape=(len(new_user_id), len(new_movie_id))).tocsc()\n",
    "Rsr = sps.coo_array((data, (row, col)), shape=(len(new_user_id), len(new_movie_id))).tocsr()\n",
    "\n",
    "\n",
    "nnz_row_per_col = np.diff(Rsc.indptr)\n",
    "nnz_col_per_row = np.diff(Rsr.indptr)\n",
    "\n",
    "nonzero_rows = Rsc.nonzero()[0]\n",
    "nonzero_cols = Rsc.nonzero()[1]\n",
    "\n",
    "# find mean of each row and column\n",
    "meanCol = Rsc.mean(axis=0)*num_users/nnz_row_per_col\n",
    "meanRow = Rsc.mean(axis=1)*num_movies/nnz_col_per_row\n",
    "\n",
    "# # find std of each row and column\n",
    "# Rsc2 = Rsc**2\n",
    "# stdCol = np.sqrt(Rsc2.mean(axis=0)*num_users/nnz_row_per_col - (Rsc.mean(axis=0)*num_users/nnz_row_per_col)**2)\n",
    "# stdRow = np.sqrt(Rsc2.mean(axis=1)*num_movies/nnz_col_per_row - (Rsc.mean(axis=1)*num_movies/nnz_col_per_row)**2)\n",
    "\n",
    "# compute alternate arrays\n",
    "Rsc_mean = Rsc.copy()\n",
    "Rsc_mean.data = Rsc_mean.data - np.take(meanRow, Rsc_mean.indices)\n",
    "\n",
    "Rsr_mean = Rsc_mean.tocsr()\n",
    "\n",
    "\n",
    "\n",
    "# compute set of observed indices (i, j) = (rows, cols)\n",
    "irows, jcols, vals = sps.find(Rsc)\n",
    "num_nonzero_entries = len(vals)"
   ]
  },
  {
   "cell_type": "code",
   "execution_count": 61,
   "metadata": {},
   "outputs": [
    {
     "data": {
      "text/plain": [
       "array([ 0.60258152,  0.80991736,  0.55172414, ..., -2.46875   ,\n",
       "        0.03125   ,  0.        ])"
      ]
     },
     "execution_count": 61,
     "metadata": {},
     "output_type": "execute_result"
    }
   ],
   "source": [
    "Rsc_mean.data"
   ]
  },
  {
   "cell_type": "code",
   "execution_count": 62,
   "metadata": {},
   "outputs": [
    {
     "data": {
      "text/plain": [
       "array([ 16,  15,  11, ...,  18, 240,   5])"
      ]
     },
     "execution_count": 62,
     "metadata": {},
     "output_type": "execute_result"
    }
   ],
   "source": [
    "nnz_col_per_row"
   ]
  },
  {
   "cell_type": "code",
   "execution_count": 77,
   "metadata": {},
   "outputs": [],
   "source": [
    "def in1ds(ar1, ar2, assume_unique=True, invert=False, *, kind='table'):\n",
    "\n",
    "    if ar2.size == 0:\n",
    "        return np.zeros_like(ar1, dtype=bool)\n",
    "\n",
    "    ar2_min = ar2[0]#np.min(ar2)\n",
    "    ar2_max = ar2[-1]#np.max(ar2)\n",
    "\n",
    "    ar2_range = int(ar2_max) - int(ar2_min)\n",
    "\n",
    "    # Constraints on whether we can actually use the table method:\n",
    "    #  1. Assert memory usage is not too large\n",
    "    # below_memory_constraint = ar2_range <= 6 * (ar1.size + ar2.size)\n",
    "    #  2. Check overflows for (ar2 - ar2_min); dtype=ar2.dtype\n",
    "    # range_safe_from_overflow = ar2_range <= np.iinfo(ar2.dtype).max\n",
    "    #  3. Check overflows for (ar1 - ar2_min); dtype=ar1.dtype\n",
    "    # if ar1.size > 0:\n",
    "        # ar1_min = ar1[0]#np.min(ar1)\n",
    "        # ar1_max = ar1[-1]#np.max(ar1)\n",
    "\n",
    "        # # After masking, the range of ar1 is guaranteed to be\n",
    "        # # within the range of ar2:\n",
    "        # ar1_upper = min(int(ar1_max), int(ar2_max))\n",
    "        # ar1_lower = max(int(ar1_min), int(ar2_min))\n",
    "\n",
    "        # range_safe_from_overflow &= all((\n",
    "        #     ar1_upper - int(ar2_min) <= np.iinfo(ar1.dtype).max,\n",
    "        #     ar1_lower - int(ar2_min) >= np.iinfo(ar1.dtype).min\n",
    "        # ))\n",
    "\n",
    "    # Optimal performance is for approximately\n",
    "    # log10(size) > (log10(range) - 2.27) / 0.927.\n",
    "    # However, here we set the requirement that by default\n",
    "    # the intermediate array can only be 6x\n",
    "    # the combined memory allocation of the original\n",
    "    # arrays. See discussion on \n",
    "    # https://github.com/numpy/numpy/pull/12065.\n",
    "\n",
    "    # if (\n",
    "    #     range_safe_from_overflow and \n",
    "    #     (below_memory_constraint or kind == 'table')\n",
    "    # ):\n",
    "\n",
    "    outgoing_array = np.zeros_like(ar1, dtype=bool)\n",
    "\n",
    "    # Make elements 1 where the integer exists in ar2\n",
    "    isin_helper_ar = np.zeros(ar2_range + 1, dtype=bool)\n",
    "    isin_helper_ar[ar2 - ar2_min] = 1\n",
    "\n",
    "    # Mask out elements we know won't work\n",
    "    basic_mask = (ar1 <= ar2_max) & (ar1 >= ar2_min)\n",
    "    outgoing_array[basic_mask] = isin_helper_ar[ar1[basic_mask] -\n",
    "                                                ar2_min]\n",
    "\n",
    "    return outgoing_array\n",
    "    # elif kind == 'table':  # not range_safe_from_overflow\n",
    "    #     raise RuntimeError(\n",
    "    #         \"You have specified kind='table', \"\n",
    "    #         \"but the range of values in `ar2` or `ar1` exceed the \"\n",
    "    #         \"maximum integer of the datatype. \"\n",
    "    #         \"Please set `kind` to None or 'sort'.\"\n",
    "    #     )\n",
    "\n",
    "\n",
    "    # Check if one of the arrays may contain arbitrary objects\n",
    "    # contains_object = ar1.dtype.hasobject or ar2.dtype.hasobject\n",
    "\n",
    "    # This code is run when\n",
    "    # a) the first condition is true, making the code significantly faster\n",
    "    # b) the second condition is true (i.e. `ar1` or `ar2` may contain\n",
    "    #    arbitrary objects), since then sorting is not guaranteed to work\n",
    "    # if len(ar2) < 10 * len(ar1) ** 0.145: #or contains_object:\n",
    "    #     mask = np.zeros(len(ar1), dtype=bool)\n",
    "    #     for a in ar2:\n",
    "    #         mask |= (ar1 == a)\n",
    "    #     return mask\n",
    "\n",
    "    # ar = np.concatenate((ar1, ar2))\n",
    "    # # We need this to be a stable sort, so always use 'mergesort'\n",
    "    # # here. The values from the first array should always come before\n",
    "    # # the values from the second array.\n",
    "    # order = ar.argsort(kind='mergesort')\n",
    "    # sar = ar[order]\n",
    "    # bool_ar = (sar[1:] == sar[:-1])\n",
    "    # flag = np.concatenate((bool_ar, [invert]))\n",
    "    # ret = np.empty(ar.shape, dtype=bool)\n",
    "    # ret[order] = flag\n",
    "\n",
    "    \n",
    "    # return ret[:len(ar1)]"
   ]
  },
  {
   "cell_type": "code",
   "execution_count": 220,
   "metadata": {},
   "outputs": [],
   "source": [
    "def naive_bayes():\n",
    "    # implement Naive Bayes model with Laplace smoothing\n",
    "\n",
    "    alpha = 1\n",
    "    scoring_options = [1,2,3,4,5]\n",
    "    num_scoring_options = len(scoring_options)\n",
    "\n",
    "    # loop over all users \n",
    "    rfin =[]\n",
    "    for juser in range(22,23):#range(num_users): \n",
    "    # loop over all items that user did not rate\n",
    "        juser_rated = Rsr.indices[Rsr.indptr[juser]:Rsr.indptr[juser+1]] # slower by fact of 50 - Rsr[[1],:].indices # slowest by another factor of 10 - nonzero_cols[nonzero_rows == juser]\n",
    "        to_rate = np.delete(new_movie_id,juser_rated)\n",
    "        # slower by a factor of 4 to_rate = np.setdiff1d(new_movie_id, juser_rated, assume_unique=True)# slower by a factor of 10 - list(set(juser_rated) ^ set(range(num_movies)))\n",
    "        # print(juser)\n",
    "        aj = len(to_rate)\n",
    "        kk = 0\n",
    "        print(aj)\n",
    "\n",
    "        for jitem in to_rate:\n",
    "            kk += 1\n",
    "            if(kk%1000 == 0):\n",
    "                print(kk)\n",
    "            # compute probability of rating for all possible ratings       \n",
    "            rpred = []\n",
    "            temp1 = Rsc.data[Rsc.indptr[jitem]:Rsc.indptr[jitem+1]]\n",
    "            temp2 = Rsc.indices[Rsc.indptr[jitem]:Rsc.indptr[jitem+1]]\n",
    "            den = nnz_entries_per_col[jitem] + num_scoring_options*alpha   \n",
    "            for jprob in scoring_options:    \n",
    "                # all users that rated item jitem as jprob\n",
    "                jaa =  temp1 == jprob\n",
    "                aa = temp2[jaa]  \n",
    "                prior = (np.count_nonzero(jaa) + alpha)/den    \n",
    "          \n",
    "                Pr = 1\n",
    "                \n",
    "                for j in juser_rated: # loop over items that juser rated                            \n",
    "                    # all users that rated item j\n",
    "                    ind_j0 = Rsc.indptr[j]\n",
    "                    ind_j1 = Rsc.indptr[j+1]\n",
    "                    bb = Rsc.indices[ind_j0:ind_j1] \n",
    "                    cc = Rsc.data[ind_j0:ind_j1]\n",
    "\n",
    "                    # bp_old = np.isin(bb,aa,assume_unique=True,invert=False) # slower by ~20%\n",
    "                    bp = in1ds(bb,aa,assume_unique=True,invert=False)   # still need to fully validate this function on all conceivable edge cases\n",
    "                    # if(np.any(bp_old != bp)):\n",
    "                    #     print('Error')\n",
    "                    #     return\n",
    "                    Pr = Pr * (np.count_nonzero(cc[bp] == cc[bb == juser]) + alpha)/ (np.count_nonzero(bp) + num_scoring_options*alpha)\n",
    "\n",
    "                rpred.append(prior*Pr)\n",
    "\n",
    "            # print(jitem)\n",
    "            \n",
    "            rfin.append([juser, jitem, scoring_options[np.argmax(rpred)]])\n",
    "\n",
    "    return rfin\n",
    "    # np.round(rfin,5)\n",
    "    # print('finished')"
   ]
  },
  {
   "cell_type": "code",
   "execution_count": 221,
   "metadata": {},
   "outputs": [
    {
     "name": "stdout",
     "output_type": "stream",
     "text": [
      "53339\n",
      "*** KeyboardInterrupt exception caught in code being profiled."
     ]
    },
    {
     "name": "stdout",
     "output_type": "stream",
     "text": [
      "Timer unit: 1e-07 s\n",
      "\n",
      "Total time: 2.35197 s\n",
      "File: C:\\Users\\Nick\\AppData\\Local\\Temp\\ipykernel_7212\\975481111.py\n",
      "Function: naive_bayes at line 1\n",
      "\n",
      "Line #      Hits         Time  Per Hit   % Time  Line Contents\n",
      "==============================================================\n",
      "     1                                           def naive_bayes():\n",
      "     2                                               # implement Naive Bayes model with Laplace smoothing\n",
      "     3                                           \n",
      "     4         1         10.0     10.0      0.0      alpha = 1\n",
      "     5         1          8.0      8.0      0.0      scoring_options = [1,2,3,4,5]\n",
      "     6         1          8.0      8.0      0.0      num_scoring_options = len(scoring_options)\n",
      "     7                                           \n",
      "     8                                               # loop over all users \n",
      "     9         1          4.0      4.0      0.0      rfin =[]\n",
      "    10         1         24.0     24.0      0.0      for juser in range(22,23):#range(num_users): \n",
      "    11                                               # loop over all items that user did not rate\n",
      "    12         1        489.0    489.0      0.0          juser_rated = Rsr.indices[Rsr.indptr[juser]:Rsr.indptr[juser+1]] # slower by fact of 50 - Rsr[[1],:].indices # slowest by another factor of 10 - nonzero_cols[nonzero_rows == juser]\n",
      "    13         1       2749.0   2749.0      0.0          to_rate = np.delete(new_movie_id,juser_rated)\n",
      "    14                                                   # slower by a factor of 4 to_rate = np.setdiff1d(new_movie_id, juser_rated, assume_unique=True)# slower by a factor of 10 - list(set(juser_rated) ^ set(range(num_movies)))\n",
      "    15                                                   # print(juser)\n",
      "    16         1         12.0     12.0      0.0          aj = len(to_rate)\n",
      "    17         1          6.0      6.0      0.0          kk = 0\n",
      "    18         1       1172.0   1172.0      0.0          print(aj)\n",
      "    19                                           \n",
      "    20       314       1448.0      4.6      0.0          for jitem in to_rate:\n",
      "    21       314       1268.0      4.0      0.0              kk += 1\n",
      "    22       314       1338.0      4.3      0.0              if(kk%1000 == 0):\n",
      "    23                                                           print(kk)\n",
      "    24                                                       # compute probability of rating for all possible ratings       \n",
      "    25       314       1554.0      4.9      0.0              rpred = []\n",
      "    26       314       4239.0     13.5      0.0              temp1 = Rsc.data[Rsc.indptr[jitem]:Rsc.indptr[jitem+1]]\n",
      "    27       314       2853.0      9.1      0.0              temp2 = Rsc.indices[Rsc.indptr[jitem]:Rsc.indptr[jitem+1]]\n",
      "    28       314       2833.0      9.0      0.0              den = nnz_entries_per_col[jitem] + num_scoring_options*alpha   \n",
      "    29      1570       5040.0      3.2      0.0              for jprob in scoring_options:    \n",
      "    30                                                           # all users that rated item jitem as jprob\n",
      "    31      1570     115028.0     73.3      0.5                  jaa =  temp1 == jprob\n",
      "    32      1570     471170.0    300.1      2.0                  aa = temp2[jaa]  \n",
      "    33      1570      44958.0     28.6      0.2                  prior = (np.count_nonzero(jaa) + alpha)/den    \n",
      "    34                                                     \n",
      "    35      1570       4678.0      3.0      0.0                  Pr = 1\n",
      "    36                                                           \n",
      "    37     26674      92774.0      3.5      0.4                  for j in juser_rated: # loop over items that juser rated                            \n",
      "    38                                                               # all users that rated item j\n",
      "    39     26674     135241.0      5.1      0.6                      ind_j0 = Rsc.indptr[j]\n",
      "    40     26674     132080.0      5.0      0.6                      ind_j1 = Rsc.indptr[j+1]\n",
      "    41     26674     148428.0      5.6      0.6                      bb = Rsc.indices[ind_j0:ind_j1] \n",
      "    42     26674     130785.0      4.9      0.6                      cc = Rsc.data[ind_j0:ind_j1]\n",
      "    43                                           \n",
      "    44                                                               # bp_old = np.isin(bb,aa,assume_unique=True,invert=False) # slower by ~20%\n",
      "    45     26673   18169403.0    681.2     77.3                      bp = in1ds(bb,aa,assume_unique=True,invert=False)   # np.isin\n",
      "    46                                                               # if(np.any(bp_old != bp)):\n",
      "    47                                                               #     print('Error')\n",
      "    48                                                               #     return\n",
      "    49     26673    3979754.0    149.2     16.9                      Pr = Pr * (np.count_nonzero(cc[bp] == cc[bb == juser]) + alpha)/ (np.count_nonzero(bp) + num_scoring_options*alpha)\n",
      "    50                                           \n",
      "    51      1569      14146.0      9.0      0.1                  rpred.append(prior*Pr)\n",
      "    52                                           \n",
      "    53                                                       # print(jitem)\n",
      "    54                                                       \n",
      "    55       313      56193.0    179.5      0.2              rfin.append([juser, jitem, scoring_options[np.argmax(rpred)]])\n",
      "    56                                           \n",
      "    57                                               return rfin\n",
      "    58                                               # np.round(rfin,5)\n",
      "    59                                               # print('finished')"
     ]
    }
   ],
   "source": [
    "%lprun -f naive_bayes rfin = naive_bayes()"
   ]
  },
  {
   "cell_type": "code",
   "execution_count": 198,
   "metadata": {},
   "outputs": [
    {
     "data": {
      "text/plain": [
       "[Text(1.125, 0, '1'),\n",
       " Text(2.125, 0, '2'),\n",
       " Text(3.125, 0, '3'),\n",
       " Text(4.125, 0, '4'),\n",
       " Text(4.875, 0, '5')]"
      ]
     },
     "execution_count": 198,
     "metadata": {},
     "output_type": "execute_result"
    },
    {
     "data": {
      "image/png": "[encoded data removed]",
      "text/plain": [
       "<Figure size 1400x400 with 3 Axes>"
      ]
     },
     "metadata": {},
     "output_type": "display_data"
    }
   ],
   "source": [
    "fig, ax = plt.subplots(1,3,figsize=(14,4))\n",
    "sns.histplot(Rsr[[22],:].data,ax=ax[0],binwidth=.25,stat='probability')\n",
    "sns.histplot(movie_pred,ax=ax[1],binwidth=.25,stat='probability',)\n",
    "sns.histplot(df['rating'],ax=ax[2],binwidth=.25,stat='probability')\n",
    "\n",
    "ax[0].set_title('Specified '+ str(len(Rsr[[22],:].data)) + ' movies')\n",
    "ax[0].set_xlabel('rating')\n",
    "ax[0].set_xticks([1.125,2.125,3.125,4.125,4.875])\n",
    "ax[0].set_xticklabels([1,2,3,4,5])\n",
    "\n",
    "ax[1].set_title('Predicted '+ str(len(movie_pred)) + ' movies')\n",
    "ax[1].set_xlabel('rating')\n",
    "ax[1].set_xticks([1.125,2.125,3.125,4.125,4.875])\n",
    "ax[1].set_xticklabels([1,2,3,4,5])\n",
    "\n",
    "ax[2].set_title('Population')\n",
    "ax[2].set_xlabel('rating')\n",
    "ax[2].set_xticks([1.125,2.125,3.125,4.125,4.875])\n",
    "ax[2].set_xticklabels([1,2,3,4,5])"
   ]
  },
  {
   "cell_type": "code",
   "execution_count": 217,
   "metadata": {},
   "outputs": [],
   "source": [
    "def in1ds2(ar1, ar2, assume_unique=True, invert=False, *, kind='table'):\n",
    "\n",
    "    if ar2.size == 0:\n",
    "        return np.zeros_like(ar1, dtype=bool)\n",
    "\n",
    "    ar2_min = ar2[0]\n",
    "    ar2_max = ar2[-1]\n",
    "\n",
    "    print(ar2_min,ar2_max)\n",
    "    ar2_range = ar2_max - ar2_min\n",
    "    print(ar2_range)\n",
    "    outgoing_array = np.zeros_like(ar1, dtype=bool)\n",
    "\n",
    "    # Make elements 1 where the integer exists in ar2\n",
    "    isin_helper_ar = np.zeros(ar2_range + 1, dtype=bool)\n",
    "    print(isin_helper_ar)\n",
    "    isin_helper_ar[ar2 - ar2_min] = 1\n",
    "    print(isin_helper_ar)\n",
    "    # Mask out elements we know won't work\n",
    "    basic_mask = (ar1 <= ar2_max) & (ar1 >= ar2_min)\n",
    "    print(basic_mask)\n",
    "    outgoing_array[basic_mask] = isin_helper_ar[ar1[basic_mask] -\n",
    "                                                ar2_min]\n",
    "    print(outgoing_array)\n",
    "    return outgoing_array\n"
   ]
  },
  {
   "attachments": {},
   "cell_type": "markdown",
   "metadata": {},
   "source": [
    "# Old and slower Naive Bayes implementation"
   ]
  },
  {
   "cell_type": "code",
   "execution_count": null,
   "metadata": {},
   "outputs": [],
   "source": [
    "def test_profiler():\n",
    "    # implement Naive Bayes model with Laplace smoothing\n",
    "\n",
    "    alpha = 1\n",
    "    scoring_options = [0.5,1,1.5,2,2.5,3,3.5,4,4.5,5]\n",
    "    num_scoring_options = len(scoring_options)\n",
    "\n",
    "    # loop over all users \n",
    "    rfin =[]\n",
    "    for juser in range(0,1):#range(num_users): \n",
    "    # loop over all items that user did not rate\n",
    "        juser_rated = Rsr.indices[Rsr.indptr[juser]:Rsr.indptr[juser+1]] # slower by fact of 50 - Rsr[[1],:].indices # slowest by another factor of 10 - nonzero_cols[nonzero_rows == juser]\n",
    "        to_rate = np.delete(new_movie_id,juser_rated)\n",
    "        # slower by a factor of 4 to_rate = np.setdiff1d(new_movie_id, juser_rated, assume_unique=True)# slower by a factor of 10 - list(set(juser_rated) ^ set(range(num_movies)))\n",
    "        \n",
    "        for jitem in to_rate[0:1000]:\n",
    "            # compute probability of rating for all possible ratings       \n",
    "            rpred = []\n",
    "            for jprob in scoring_options:    \n",
    "                # all users that rated item jitem as jprob\n",
    "                jaa = Rsc.data[Rsc.indptr[jitem]:Rsc.indptr[jitem+1]] == jprob\n",
    "                a1 = np.count_nonzero(jaa) # a1_old = np.sum(Rsc[:,[jitem]] == jprob) # slower by a factor of ~50\n",
    "                a2 = nnz_entries_per_col[jitem]\n",
    "                # all users that rated jitem as jprob\n",
    "                aa = Rsc.indices[Rsc.indptr[jitem]:Rsc.indptr[jitem+1]][jaa]  # factor of 10 slower -- aa_old = np.argwhere(Rsc[:,[jitem]] == jprob)[:,0]\n",
    "                prior = (a1 + alpha)/(a2 + num_scoring_options*alpha)     \n",
    "\n",
    "                \n",
    "                    \n",
    "                Pr = 1\n",
    "                for j in juser_rated: # loop over items that juser rated                            \n",
    "                    # all users that rated item j\n",
    "                    bb = Rsc.indices[Rsc.indptr[j]:Rsc.indptr[j+1]] # factor of 100 slower -  bb_old = np.argwhere(Rsc[:,[j]])[:,0]\n",
    "                    \n",
    "                    # print(len(aa),len(bb))                  \n",
    "                    bp = np.isin(bb,aa,assume_unique=True,kind='table')\n",
    "                    bpr = np.count_nonzero(bp)                  \n",
    "                    log1 = Rsc.data[Rsc.indptr[j]:Rsc.indptr[j+1]][bp] # factor of 30 slower log1_old = Rsr[aa,[j]]                                         \n",
    "                    log2 = Rsc.data[Rsc.indptr[j]:Rsc.indptr[j+1]][Rsc.indices[Rsc.indptr[j]:Rsc.indptr[j+1]] == juser] \n",
    "                    # factor of 10 slower -- log2_old = Rsc[[juser],[j]]\n",
    "                    aapr = log1 == log2\n",
    "\n",
    "                    apr = np.sum(aapr)\n",
    "                    Pr = Pr * (apr + alpha)/ (bpr + num_scoring_options*alpha)\n",
    "\n",
    "                rpred.append(prior*Pr)\n",
    "\n",
    "            # print(jitem)\n",
    "            \n",
    "            rfin.append(rpred)\n",
    "\n",
    "\n",
    "    # np.round(rfin,5)\n",
    "    # print('finished')"
   ]
  },
  {
   "attachments": {},
   "cell_type": "markdown",
   "metadata": {},
   "source": [
    "# Some EDA\n"
   ]
  },
  {
   "cell_type": "code",
   "execution_count": 67,
   "metadata": {},
   "outputs": [],
   "source": [
    "df_movieId = df_movieId.set_index('movieId')\n",
    "df = df.set_index('userId')"
   ]
  },
  {
   "cell_type": "code",
   "execution_count": 3,
   "metadata": {},
   "outputs": [],
   "source": [
    "df2 = df.groupby(by='movieId').agg(mean_ratings=('rating',np.mean),num_ratings=('rating',len)).copy() "
   ]
  },
  {
   "cell_type": "code",
   "execution_count": 6,
   "metadata": {},
   "outputs": [
    {
     "data": {
      "text/plain": [
       "[<matplotlib.lines.Line2D at 0x1a3865d82b0>]"
      ]
     },
     "execution_count": 6,
     "metadata": {},
     "output_type": "execute_result"
    },
    {
     "data": {
      "image/png": "[encoded data removed]",
      "text/plain": [
       "<Figure size 640x480 with 1 Axes>"
      ]
     },
     "metadata": {},
     "output_type": "display_data"
    }
   ],
   "source": [
    "%matplotlib inline\n",
    "fig, ax = plt.subplots(1,1)\n",
    "ax.semilogx(df2['num_ratings'],df2['mean_ratings'],'.')\n",
    "\n"
   ]
  },
  {
   "cell_type": "code",
   "execution_count": 76,
   "metadata": {},
   "outputs": [
    {
     "data": {
      "text/html": [
       "<div>\n",
       "<style scoped>\n",
       "    .dataframe tbody tr th:only-of-type {\n",
       "        vertical-align: middle;\n",
       "    }\n",
       "\n",
       "    .dataframe tbody tr th {\n",
       "        vertical-align: top;\n",
       "    }\n",
       "\n",
       "    .dataframe thead th {\n",
       "        text-align: right;\n",
       "    }\n",
       "</style>\n",
       "<table border=\"1\" class=\"dataframe\">\n",
       "  <thead>\n",
       "    <tr style=\"text-align: right;\">\n",
       "      <th></th>\n",
       "      <th>title</th>\n",
       "      <th>genres</th>\n",
       "    </tr>\n",
       "    <tr>\n",
       "      <th>movieId</th>\n",
       "      <th></th>\n",
       "      <th></th>\n",
       "    </tr>\n",
       "  </thead>\n",
       "  <tbody>\n",
       "    <tr>\n",
       "      <th>1721</th>\n",
       "      <td>Titanic (1997)</td>\n",
       "      <td>Drama|Romance</td>\n",
       "    </tr>\n",
       "  </tbody>\n",
       "</table>\n",
       "</div>"
      ],
      "text/plain": [
       "                  title         genres\n",
       "movieId                               \n",
       "1721     Titanic (1997)  Drama|Romance"
      ]
     },
     "execution_count": 76,
     "metadata": {},
     "output_type": "execute_result"
    }
   ],
   "source": [
    "df_movieId[df_movieId['title'] == 'Titanic (1997)']"
   ]
  },
  {
   "cell_type": "code",
   "execution_count": 82,
   "metadata": {},
   "outputs": [
    {
     "data": {
      "text/html": [
       "<div>\n",
       "<style scoped>\n",
       "    .dataframe tbody tr th:only-of-type {\n",
       "        vertical-align: middle;\n",
       "    }\n",
       "\n",
       "    .dataframe tbody tr th {\n",
       "        vertical-align: top;\n",
       "    }\n",
       "\n",
       "    .dataframe thead th {\n",
       "        text-align: right;\n",
       "    }\n",
       "</style>\n",
       "<table border=\"1\" class=\"dataframe\">\n",
       "  <thead>\n",
       "    <tr style=\"text-align: right;\">\n",
       "      <th></th>\n",
       "      <th>mean_ratings</th>\n",
       "      <th>num_ratings</th>\n",
       "      <th>title</th>\n",
       "      <th>genres</th>\n",
       "    </tr>\n",
       "    <tr>\n",
       "      <th>movieId</th>\n",
       "      <th></th>\n",
       "      <th></th>\n",
       "      <th></th>\n",
       "      <th></th>\n",
       "    </tr>\n",
       "  </thead>\n",
       "  <tbody>\n",
       "    <tr>\n",
       "      <th>318</th>\n",
       "      <td>4.424188</td>\n",
       "      <td>97999.0</td>\n",
       "      <td>Shawshank Redemption, The (1994)</td>\n",
       "      <td>Crime|Drama</td>\n",
       "    </tr>\n",
       "    <tr>\n",
       "      <th>356</th>\n",
       "      <td>4.056585</td>\n",
       "      <td>97040.0</td>\n",
       "      <td>Forrest Gump (1994)</td>\n",
       "      <td>Comedy|Drama|Romance|War</td>\n",
       "    </tr>\n",
       "    <tr>\n",
       "      <th>296</th>\n",
       "      <td>4.173971</td>\n",
       "      <td>92406.0</td>\n",
       "      <td>Pulp Fiction (1994)</td>\n",
       "      <td>Comedy|Crime|Drama|Thriller</td>\n",
       "    </tr>\n",
       "    <tr>\n",
       "      <th>593</th>\n",
       "      <td>4.151412</td>\n",
       "      <td>87899.0</td>\n",
       "      <td>Silence of the Lambs, The (1991)</td>\n",
       "      <td>Crime|Horror|Thriller</td>\n",
       "    </tr>\n",
       "    <tr>\n",
       "      <th>2571</th>\n",
       "      <td>4.149695</td>\n",
       "      <td>84545.0</td>\n",
       "      <td>Matrix, The (1999)</td>\n",
       "      <td>Action|Sci-Fi|Thriller</td>\n",
       "    </tr>\n",
       "    <tr>\n",
       "      <th>...</th>\n",
       "      <td>...</td>\n",
       "      <td>...</td>\n",
       "      <td>...</td>\n",
       "      <td>...</td>\n",
       "    </tr>\n",
       "    <tr>\n",
       "      <th>129478</th>\n",
       "      <td>5.000000</td>\n",
       "      <td>1.0</td>\n",
       "      <td>A Blank on the Map (1971)</td>\n",
       "      <td>Documentary</td>\n",
       "    </tr>\n",
       "    <tr>\n",
       "      <th>129472</th>\n",
       "      <td>3.500000</td>\n",
       "      <td>1.0</td>\n",
       "      <td>The Protagonists (1968)</td>\n",
       "      <td>Drama</td>\n",
       "    </tr>\n",
       "    <tr>\n",
       "      <th>129470</th>\n",
       "      <td>3.000000</td>\n",
       "      <td>1.0</td>\n",
       "      <td>Certain, Very Certain, As a Matter of Fact... ...</td>\n",
       "      <td>Comedy</td>\n",
       "    </tr>\n",
       "    <tr>\n",
       "      <th>176107</th>\n",
       "      <td>1.000000</td>\n",
       "      <td>1.0</td>\n",
       "      <td>Leo and Loree (1980)</td>\n",
       "      <td>Drama|Romance</td>\n",
       "    </tr>\n",
       "    <tr>\n",
       "      <th>176717</th>\n",
       "      <td>3.500000</td>\n",
       "      <td>1.0</td>\n",
       "      <td>Bat Thumb (2001)</td>\n",
       "      <td>Action|Animation|Comedy</td>\n",
       "    </tr>\n",
       "  </tbody>\n",
       "</table>\n",
       "<p>53889 rows × 4 columns</p>\n",
       "</div>"
      ],
      "text/plain": [
       "         mean_ratings  num_ratings  \\\n",
       "movieId                              \n",
       "318          4.424188      97999.0   \n",
       "356          4.056585      97040.0   \n",
       "296          4.173971      92406.0   \n",
       "593          4.151412      87899.0   \n",
       "2571         4.149695      84545.0   \n",
       "...               ...          ...   \n",
       "129478       5.000000          1.0   \n",
       "129472       3.500000          1.0   \n",
       "129470       3.000000          1.0   \n",
       "176107       1.000000          1.0   \n",
       "176717       3.500000          1.0   \n",
       "\n",
       "                                                     title  \\\n",
       "movieId                                                      \n",
       "318                       Shawshank Redemption, The (1994)   \n",
       "356                                    Forrest Gump (1994)   \n",
       "296                                    Pulp Fiction (1994)   \n",
       "593                       Silence of the Lambs, The (1991)   \n",
       "2571                                    Matrix, The (1999)   \n",
       "...                                                    ...   \n",
       "129478                           A Blank on the Map (1971)   \n",
       "129472                             The Protagonists (1968)   \n",
       "129470   Certain, Very Certain, As a Matter of Fact... ...   \n",
       "176107                                Leo and Loree (1980)   \n",
       "176717                                    Bat Thumb (2001)   \n",
       "\n",
       "                              genres  \n",
       "movieId                               \n",
       "318                      Crime|Drama  \n",
       "356         Comedy|Drama|Romance|War  \n",
       "296      Comedy|Crime|Drama|Thriller  \n",
       "593            Crime|Horror|Thriller  \n",
       "2571          Action|Sci-Fi|Thriller  \n",
       "...                              ...  \n",
       "129478                   Documentary  \n",
       "129472                         Drama  \n",
       "129470                        Comedy  \n",
       "176107                 Drama|Romance  \n",
       "176717       Action|Animation|Comedy  \n",
       "\n",
       "[53889 rows x 4 columns]"
      ]
     },
     "execution_count": 82,
     "metadata": {},
     "output_type": "execute_result"
    }
   ],
   "source": [
    "df2.sort_values(by='num_ratings',ascending=False).join(other=df_movieId,on='movieId')"
   ]
  },
  {
   "cell_type": "code",
   "execution_count": 83,
   "metadata": {},
   "outputs": [
    {
     "data": {
      "text/plain": [
       "<AxesSubplot:xlabel='rating', ylabel='Count'>"
      ]
     },
     "execution_count": 83,
     "metadata": {},
     "output_type": "execute_result"
    },
    {
     "data": {
      "image/png": "[encoded data removed]",
      "text/plain": [
       "<Figure size 432x288 with 1 Axes>"
      ]
     },
     "metadata": {
      "needs_background": "light"
     },
     "output_type": "display_data"
    }
   ],
   "source": [
    "df3 = df.query('movieId == 318').copy()\n",
    "\n",
    "fig, ax = plt.subplots(1,1)\n",
    "sns.histplot(df3['rating'],ax=ax)"
   ]
  },
  {
   "cell_type": "code",
   "execution_count": 85,
   "metadata": {},
   "outputs": [
    {
     "data": {
      "text/html": [
       "<div>\n",
       "<style scoped>\n",
       "    .dataframe tbody tr th:only-of-type {\n",
       "        vertical-align: middle;\n",
       "    }\n",
       "\n",
       "    .dataframe tbody tr th {\n",
       "        vertical-align: top;\n",
       "    }\n",
       "\n",
       "    .dataframe thead th {\n",
       "        text-align: right;\n",
       "    }\n",
       "</style>\n",
       "<table border=\"1\" class=\"dataframe\">\n",
       "  <thead>\n",
       "    <tr style=\"text-align: right;\">\n",
       "      <th></th>\n",
       "      <th>title</th>\n",
       "      <th>genres</th>\n",
       "    </tr>\n",
       "    <tr>\n",
       "      <th>movieId</th>\n",
       "      <th></th>\n",
       "      <th></th>\n",
       "    </tr>\n",
       "  </thead>\n",
       "  <tbody>\n",
       "    <tr>\n",
       "      <th>1</th>\n",
       "      <td>Toy Story (1995)</td>\n",
       "      <td>Adventure|Animation|Children|Comedy|Fantasy</td>\n",
       "    </tr>\n",
       "    <tr>\n",
       "      <th>2</th>\n",
       "      <td>Jumanji (1995)</td>\n",
       "      <td>Adventure|Children|Fantasy</td>\n",
       "    </tr>\n",
       "    <tr>\n",
       "      <th>3</th>\n",
       "      <td>Grumpier Old Men (1995)</td>\n",
       "      <td>Comedy|Romance</td>\n",
       "    </tr>\n",
       "    <tr>\n",
       "      <th>4</th>\n",
       "      <td>Waiting to Exhale (1995)</td>\n",
       "      <td>Comedy|Drama|Romance</td>\n",
       "    </tr>\n",
       "    <tr>\n",
       "      <th>5</th>\n",
       "      <td>Father of the Bride Part II (1995)</td>\n",
       "      <td>Comedy</td>\n",
       "    </tr>\n",
       "    <tr>\n",
       "      <th>...</th>\n",
       "      <td>...</td>\n",
       "      <td>...</td>\n",
       "    </tr>\n",
       "    <tr>\n",
       "      <th>193876</th>\n",
       "      <td>The Great Glinka (1946)</td>\n",
       "      <td>(no genres listed)</td>\n",
       "    </tr>\n",
       "    <tr>\n",
       "      <th>193878</th>\n",
       "      <td>Les tribulations d'une caissière (2011)</td>\n",
       "      <td>Comedy</td>\n",
       "    </tr>\n",
       "    <tr>\n",
       "      <th>193880</th>\n",
       "      <td>Her Name Was Mumu (2016)</td>\n",
       "      <td>Drama</td>\n",
       "    </tr>\n",
       "    <tr>\n",
       "      <th>193882</th>\n",
       "      <td>Flora (2017)</td>\n",
       "      <td>Adventure|Drama|Horror|Sci-Fi</td>\n",
       "    </tr>\n",
       "    <tr>\n",
       "      <th>193886</th>\n",
       "      <td>Leal (2018)</td>\n",
       "      <td>Action|Crime|Drama</td>\n",
       "    </tr>\n",
       "  </tbody>\n",
       "</table>\n",
       "<p>58098 rows × 2 columns</p>\n",
       "</div>"
      ],
      "text/plain": [
       "                                           title  \\\n",
       "movieId                                            \n",
       "1                               Toy Story (1995)   \n",
       "2                                 Jumanji (1995)   \n",
       "3                        Grumpier Old Men (1995)   \n",
       "4                       Waiting to Exhale (1995)   \n",
       "5             Father of the Bride Part II (1995)   \n",
       "...                                          ...   \n",
       "193876                   The Great Glinka (1946)   \n",
       "193878   Les tribulations d'une caissière (2011)   \n",
       "193880                  Her Name Was Mumu (2016)   \n",
       "193882                              Flora (2017)   \n",
       "193886                               Leal (2018)   \n",
       "\n",
       "                                              genres  \n",
       "movieId                                               \n",
       "1        Adventure|Animation|Children|Comedy|Fantasy  \n",
       "2                         Adventure|Children|Fantasy  \n",
       "3                                     Comedy|Romance  \n",
       "4                               Comedy|Drama|Romance  \n",
       "5                                             Comedy  \n",
       "...                                              ...  \n",
       "193876                            (no genres listed)  \n",
       "193878                                        Comedy  \n",
       "193880                                         Drama  \n",
       "193882                 Adventure|Drama|Horror|Sci-Fi  \n",
       "193886                            Action|Crime|Drama  \n",
       "\n",
       "[58098 rows x 2 columns]"
      ]
     },
     "execution_count": 85,
     "metadata": {},
     "output_type": "execute_result"
    }
   ],
   "source": [
    "df_movieId"
   ]
  },
  {
   "cell_type": "code",
   "execution_count": 88,
   "metadata": {},
   "outputs": [
    {
     "ename": "ValueError",
     "evalue": "Shape of passed values is (1, 58098), indices imply (27753444, 58098)",
     "output_type": "error",
     "traceback": [
      "\u001b[1;31m---------------------------------------------------------------------------\u001b[0m",
      "\u001b[1;31mValueError\u001b[0m                                Traceback (most recent call last)",
      "\u001b[1;32mc:\\ProgramData\\Anaconda3\\envs\\DataScience\\lib\\site-packages\\pandas\\core\\internals\\managers.py\u001b[0m in \u001b[0;36mcreate_block_manager_from_arrays\u001b[1;34m(arrays, names, axes)\u001b[0m\n\u001b[0;32m   1692\u001b[0m         \u001b[0mblocks\u001b[0m \u001b[1;33m=\u001b[0m \u001b[0mform_blocks\u001b[0m\u001b[1;33m(\u001b[0m\u001b[0marrays\u001b[0m\u001b[1;33m,\u001b[0m \u001b[0mnames\u001b[0m\u001b[1;33m,\u001b[0m \u001b[0maxes\u001b[0m\u001b[1;33m)\u001b[0m\u001b[1;33m\u001b[0m\u001b[1;33m\u001b[0m\u001b[0m\n\u001b[1;32m-> 1693\u001b[1;33m         \u001b[0mmgr\u001b[0m \u001b[1;33m=\u001b[0m \u001b[0mBlockManager\u001b[0m\u001b[1;33m(\u001b[0m\u001b[0mblocks\u001b[0m\u001b[1;33m,\u001b[0m \u001b[0maxes\u001b[0m\u001b[1;33m)\u001b[0m\u001b[1;33m\u001b[0m\u001b[1;33m\u001b[0m\u001b[0m\n\u001b[0m\u001b[0;32m   1694\u001b[0m         \u001b[0mmgr\u001b[0m\u001b[1;33m.\u001b[0m\u001b[0m_consolidate_inplace\u001b[0m\u001b[1;33m(\u001b[0m\u001b[1;33m)\u001b[0m\u001b[1;33m\u001b[0m\u001b[1;33m\u001b[0m\u001b[0m\n",
      "\u001b[1;32mc:\\ProgramData\\Anaconda3\\envs\\DataScience\\lib\\site-packages\\pandas\\core\\internals\\managers.py\u001b[0m in \u001b[0;36m__init__\u001b[1;34m(self, blocks, axes, do_integrity_check)\u001b[0m\n\u001b[0;32m    148\u001b[0m         \u001b[1;32mif\u001b[0m \u001b[0mdo_integrity_check\u001b[0m\u001b[1;33m:\u001b[0m\u001b[1;33m\u001b[0m\u001b[1;33m\u001b[0m\u001b[0m\n\u001b[1;32m--> 149\u001b[1;33m             \u001b[0mself\u001b[0m\u001b[1;33m.\u001b[0m\u001b[0m_verify_integrity\u001b[0m\u001b[1;33m(\u001b[0m\u001b[1;33m)\u001b[0m\u001b[1;33m\u001b[0m\u001b[1;33m\u001b[0m\u001b[0m\n\u001b[0m\u001b[0;32m    150\u001b[0m \u001b[1;33m\u001b[0m\u001b[0m\n",
      "\u001b[1;32mc:\\ProgramData\\Anaconda3\\envs\\DataScience\\lib\\site-packages\\pandas\\core\\internals\\managers.py\u001b[0m in \u001b[0;36m_verify_integrity\u001b[1;34m(self)\u001b[0m\n\u001b[0;32m    328\u001b[0m             \u001b[1;32mif\u001b[0m \u001b[0mblock\u001b[0m\u001b[1;33m.\u001b[0m\u001b[0mshape\u001b[0m\u001b[1;33m[\u001b[0m\u001b[1;36m1\u001b[0m\u001b[1;33m:\u001b[0m\u001b[1;33m]\u001b[0m \u001b[1;33m!=\u001b[0m \u001b[0mmgr_shape\u001b[0m\u001b[1;33m[\u001b[0m\u001b[1;36m1\u001b[0m\u001b[1;33m:\u001b[0m\u001b[1;33m]\u001b[0m\u001b[1;33m:\u001b[0m\u001b[1;33m\u001b[0m\u001b[1;33m\u001b[0m\u001b[0m\n\u001b[1;32m--> 329\u001b[1;33m                 \u001b[1;32mraise\u001b[0m \u001b[0mconstruction_error\u001b[0m\u001b[1;33m(\u001b[0m\u001b[0mtot_items\u001b[0m\u001b[1;33m,\u001b[0m \u001b[0mblock\u001b[0m\u001b[1;33m.\u001b[0m\u001b[0mshape\u001b[0m\u001b[1;33m[\u001b[0m\u001b[1;36m1\u001b[0m\u001b[1;33m:\u001b[0m\u001b[1;33m]\u001b[0m\u001b[1;33m,\u001b[0m \u001b[0mself\u001b[0m\u001b[1;33m.\u001b[0m\u001b[0maxes\u001b[0m\u001b[1;33m)\u001b[0m\u001b[1;33m\u001b[0m\u001b[1;33m\u001b[0m\u001b[0m\n\u001b[0m\u001b[0;32m    330\u001b[0m         \u001b[1;32mif\u001b[0m \u001b[0mlen\u001b[0m\u001b[1;33m(\u001b[0m\u001b[0mself\u001b[0m\u001b[1;33m.\u001b[0m\u001b[0mitems\u001b[0m\u001b[1;33m)\u001b[0m \u001b[1;33m!=\u001b[0m \u001b[0mtot_items\u001b[0m\u001b[1;33m:\u001b[0m\u001b[1;33m\u001b[0m\u001b[1;33m\u001b[0m\u001b[0m\n",
      "\u001b[1;31mValueError\u001b[0m: Shape of passed values is (1, 58098), indices imply (27753444, 58098)",
      "\nDuring handling of the above exception, another exception occurred:\n",
      "\u001b[1;31mValueError\u001b[0m                                Traceback (most recent call last)",
      "\u001b[1;32m<ipython-input-88-703eea44062b>\u001b[0m in \u001b[0;36m<module>\u001b[1;34m\u001b[0m\n\u001b[0;32m      5\u001b[0m \u001b[1;33m\u001b[0m\u001b[0m\n\u001b[0;32m      6\u001b[0m \u001b[0mdata\u001b[0m \u001b[1;33m=\u001b[0m \u001b[1;33m{\u001b[0m\u001b[0mdf_col\u001b[0m\u001b[1;33m[\u001b[0m\u001b[0mj\u001b[0m\u001b[1;33m]\u001b[0m\u001b[1;33m:\u001b[0m\u001b[0mpd\u001b[0m\u001b[1;33m.\u001b[0m\u001b[0marrays\u001b[0m\u001b[1;33m.\u001b[0m\u001b[0mSparseArray\u001b[0m\u001b[1;33m(\u001b[0m\u001b[0mnp\u001b[0m\u001b[1;33m.\u001b[0m\u001b[0mnan\u001b[0m\u001b[1;33m,\u001b[0m\u001b[0mfill_value\u001b[0m\u001b[1;33m=\u001b[0m\u001b[0mnp\u001b[0m\u001b[1;33m.\u001b[0m\u001b[0mnan\u001b[0m\u001b[1;33m)\u001b[0m \u001b[1;32mfor\u001b[0m \u001b[0mj\u001b[0m \u001b[1;32min\u001b[0m \u001b[0mrange\u001b[0m\u001b[1;33m(\u001b[0m\u001b[0mlen\u001b[0m\u001b[1;33m(\u001b[0m\u001b[0mdf_col\u001b[0m\u001b[1;33m)\u001b[0m\u001b[1;33m)\u001b[0m\u001b[1;33m}\u001b[0m\u001b[1;33m\u001b[0m\u001b[1;33m\u001b[0m\u001b[0m\n\u001b[1;32m----> 7\u001b[1;33m \u001b[0mdf_ratings\u001b[0m  \u001b[1;33m=\u001b[0m \u001b[0mpd\u001b[0m\u001b[1;33m.\u001b[0m\u001b[0mDataFrame\u001b[0m\u001b[1;33m(\u001b[0m\u001b[0mcolumns\u001b[0m\u001b[1;33m=\u001b[0m\u001b[0mdf_col\u001b[0m\u001b[1;33m,\u001b[0m\u001b[0mindex\u001b[0m\u001b[1;33m=\u001b[0m\u001b[0mdf_row\u001b[0m\u001b[1;33m,\u001b[0m\u001b[0mdata\u001b[0m\u001b[1;33m=\u001b[0m\u001b[0mdata\u001b[0m\u001b[1;33m)\u001b[0m\u001b[1;33m\u001b[0m\u001b[1;33m\u001b[0m\u001b[0m\n\u001b[0m\u001b[0;32m      8\u001b[0m \u001b[1;33m\u001b[0m\u001b[0m\n\u001b[0;32m      9\u001b[0m \u001b[1;33m\u001b[0m\u001b[0m\n",
      "\u001b[1;32mc:\\ProgramData\\Anaconda3\\envs\\DataScience\\lib\\site-packages\\pandas\\core\\frame.py\u001b[0m in \u001b[0;36m__init__\u001b[1;34m(self, data, index, columns, dtype, copy)\u001b[0m\n\u001b[0;32m    466\u001b[0m \u001b[1;33m\u001b[0m\u001b[0m\n\u001b[0;32m    467\u001b[0m         \u001b[1;32melif\u001b[0m \u001b[0misinstance\u001b[0m\u001b[1;33m(\u001b[0m\u001b[0mdata\u001b[0m\u001b[1;33m,\u001b[0m \u001b[0mdict\u001b[0m\u001b[1;33m)\u001b[0m\u001b[1;33m:\u001b[0m\u001b[1;33m\u001b[0m\u001b[1;33m\u001b[0m\u001b[0m\n\u001b[1;32m--> 468\u001b[1;33m             \u001b[0mmgr\u001b[0m \u001b[1;33m=\u001b[0m \u001b[0minit_dict\u001b[0m\u001b[1;33m(\u001b[0m\u001b[0mdata\u001b[0m\u001b[1;33m,\u001b[0m \u001b[0mindex\u001b[0m\u001b[1;33m,\u001b[0m \u001b[0mcolumns\u001b[0m\u001b[1;33m,\u001b[0m \u001b[0mdtype\u001b[0m\u001b[1;33m=\u001b[0m\u001b[0mdtype\u001b[0m\u001b[1;33m)\u001b[0m\u001b[1;33m\u001b[0m\u001b[1;33m\u001b[0m\u001b[0m\n\u001b[0m\u001b[0;32m    469\u001b[0m         \u001b[1;32melif\u001b[0m \u001b[0misinstance\u001b[0m\u001b[1;33m(\u001b[0m\u001b[0mdata\u001b[0m\u001b[1;33m,\u001b[0m \u001b[0mma\u001b[0m\u001b[1;33m.\u001b[0m\u001b[0mMaskedArray\u001b[0m\u001b[1;33m)\u001b[0m\u001b[1;33m:\u001b[0m\u001b[1;33m\u001b[0m\u001b[1;33m\u001b[0m\u001b[0m\n\u001b[0;32m    470\u001b[0m             \u001b[1;32mimport\u001b[0m \u001b[0mnumpy\u001b[0m\u001b[1;33m.\u001b[0m\u001b[0mma\u001b[0m\u001b[1;33m.\u001b[0m\u001b[0mmrecords\u001b[0m \u001b[1;32mas\u001b[0m \u001b[0mmrecords\u001b[0m\u001b[1;33m\u001b[0m\u001b[1;33m\u001b[0m\u001b[0m\n",
      "\u001b[1;32mc:\\ProgramData\\Anaconda3\\envs\\DataScience\\lib\\site-packages\\pandas\\core\\internals\\construction.py\u001b[0m in \u001b[0;36minit_dict\u001b[1;34m(data, index, columns, dtype)\u001b[0m\n\u001b[0;32m    281\u001b[0m             \u001b[0marr\u001b[0m \u001b[1;32mif\u001b[0m \u001b[1;32mnot\u001b[0m \u001b[0mis_datetime64tz_dtype\u001b[0m\u001b[1;33m(\u001b[0m\u001b[0marr\u001b[0m\u001b[1;33m)\u001b[0m \u001b[1;32melse\u001b[0m \u001b[0marr\u001b[0m\u001b[1;33m.\u001b[0m\u001b[0mcopy\u001b[0m\u001b[1;33m(\u001b[0m\u001b[1;33m)\u001b[0m \u001b[1;32mfor\u001b[0m \u001b[0marr\u001b[0m \u001b[1;32min\u001b[0m \u001b[0marrays\u001b[0m\u001b[1;33m\u001b[0m\u001b[1;33m\u001b[0m\u001b[0m\n\u001b[0;32m    282\u001b[0m         ]\n\u001b[1;32m--> 283\u001b[1;33m     \u001b[1;32mreturn\u001b[0m \u001b[0marrays_to_mgr\u001b[0m\u001b[1;33m(\u001b[0m\u001b[0marrays\u001b[0m\u001b[1;33m,\u001b[0m \u001b[0mdata_names\u001b[0m\u001b[1;33m,\u001b[0m \u001b[0mindex\u001b[0m\u001b[1;33m,\u001b[0m \u001b[0mcolumns\u001b[0m\u001b[1;33m,\u001b[0m \u001b[0mdtype\u001b[0m\u001b[1;33m=\u001b[0m\u001b[0mdtype\u001b[0m\u001b[1;33m)\u001b[0m\u001b[1;33m\u001b[0m\u001b[1;33m\u001b[0m\u001b[0m\n\u001b[0m\u001b[0;32m    284\u001b[0m \u001b[1;33m\u001b[0m\u001b[0m\n\u001b[0;32m    285\u001b[0m \u001b[1;33m\u001b[0m\u001b[0m\n",
      "\u001b[1;32mc:\\ProgramData\\Anaconda3\\envs\\DataScience\\lib\\site-packages\\pandas\\core\\internals\\construction.py\u001b[0m in \u001b[0;36marrays_to_mgr\u001b[1;34m(arrays, arr_names, index, columns, dtype, verify_integrity)\u001b[0m\n\u001b[0;32m     91\u001b[0m     \u001b[0maxes\u001b[0m \u001b[1;33m=\u001b[0m \u001b[1;33m[\u001b[0m\u001b[0mcolumns\u001b[0m\u001b[1;33m,\u001b[0m \u001b[0mindex\u001b[0m\u001b[1;33m]\u001b[0m\u001b[1;33m\u001b[0m\u001b[1;33m\u001b[0m\u001b[0m\n\u001b[0;32m     92\u001b[0m \u001b[1;33m\u001b[0m\u001b[0m\n\u001b[1;32m---> 93\u001b[1;33m     \u001b[1;32mreturn\u001b[0m \u001b[0mcreate_block_manager_from_arrays\u001b[0m\u001b[1;33m(\u001b[0m\u001b[0marrays\u001b[0m\u001b[1;33m,\u001b[0m \u001b[0marr_names\u001b[0m\u001b[1;33m,\u001b[0m \u001b[0maxes\u001b[0m\u001b[1;33m)\u001b[0m\u001b[1;33m\u001b[0m\u001b[1;33m\u001b[0m\u001b[0m\n\u001b[0m\u001b[0;32m     94\u001b[0m \u001b[1;33m\u001b[0m\u001b[0m\n\u001b[0;32m     95\u001b[0m \u001b[1;33m\u001b[0m\u001b[0m\n",
      "\u001b[1;32mc:\\ProgramData\\Anaconda3\\envs\\DataScience\\lib\\site-packages\\pandas\\core\\internals\\managers.py\u001b[0m in \u001b[0;36mcreate_block_manager_from_arrays\u001b[1;34m(arrays, names, axes)\u001b[0m\n\u001b[0;32m   1695\u001b[0m         \u001b[1;32mreturn\u001b[0m \u001b[0mmgr\u001b[0m\u001b[1;33m\u001b[0m\u001b[1;33m\u001b[0m\u001b[0m\n\u001b[0;32m   1696\u001b[0m     \u001b[1;32mexcept\u001b[0m \u001b[0mValueError\u001b[0m \u001b[1;32mas\u001b[0m \u001b[0me\u001b[0m\u001b[1;33m:\u001b[0m\u001b[1;33m\u001b[0m\u001b[1;33m\u001b[0m\u001b[0m\n\u001b[1;32m-> 1697\u001b[1;33m         \u001b[1;32mraise\u001b[0m \u001b[0mconstruction_error\u001b[0m\u001b[1;33m(\u001b[0m\u001b[0mlen\u001b[0m\u001b[1;33m(\u001b[0m\u001b[0marrays\u001b[0m\u001b[1;33m)\u001b[0m\u001b[1;33m,\u001b[0m \u001b[0marrays\u001b[0m\u001b[1;33m[\u001b[0m\u001b[1;36m0\u001b[0m\u001b[1;33m]\u001b[0m\u001b[1;33m.\u001b[0m\u001b[0mshape\u001b[0m\u001b[1;33m,\u001b[0m \u001b[0maxes\u001b[0m\u001b[1;33m,\u001b[0m \u001b[0me\u001b[0m\u001b[1;33m)\u001b[0m\u001b[1;33m\u001b[0m\u001b[1;33m\u001b[0m\u001b[0m\n\u001b[0m\u001b[0;32m   1698\u001b[0m \u001b[1;33m\u001b[0m\u001b[0m\n\u001b[0;32m   1699\u001b[0m \u001b[1;33m\u001b[0m\u001b[0m\n",
      "\u001b[1;31mValueError\u001b[0m: Shape of passed values is (1, 58098), indices imply (27753444, 58098)"
     ]
    }
   ],
   "source": [
    "# form the ratings matrix and create a model which recommends the top 5-most rated movies\n",
    "# create ticket time list: ticket times are in intervals of 5 minutes from 9am-11pm (Rome time [CET])\n",
    "df_col = df_movieId.index\n",
    "df_row = df.index\n",
    "\n",
    "data = {df_col[j]:pd.arrays.SparseArray(np.nan,fill_value=np.nan) for j in range(len(df_col))}\n",
    "df_ratings  = pd.DataFrame(columns=df_col,index=df_row,data=data)\n",
    "\n",
    "\n",
    "\n",
    "\n"
   ]
  },
  {
   "cell_type": "code",
   "execution_count": null,
   "metadata": {},
   "outputs": [],
   "source": []
  }
 ],
 "metadata": {
  "kernelspec": {
   "display_name": "physics",
   "language": "python",
   "name": "python3"
  },
  "language_info": {
   "codemirror_mode": {
    "name": "ipython",
    "version": 3
   },
   "file_extension": ".py",
   "mimetype": "text/x-python",
   "name": "python",
   "nbconvert_exporter": "python",
   "pygments_lexer": "ipython3",
   "version": "3.9.16"
  },
  "orig_nbformat": 4
 },
 "nbformat": 4,
 "nbformat_minor": 2
}
