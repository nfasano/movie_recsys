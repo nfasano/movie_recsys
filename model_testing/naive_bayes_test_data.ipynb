{
 "cells": [
  {
   "cell_type": "markdown",
   "metadata": {},
   "source": [
    "## Collaborative filtering implemented via a Naive Bayes model \n",
    "\n",
    "Written by Nicholas Fasano\n",
    "Last edited: 10/17/2023\n",
    "\n",
    "Description: Implement collaborative filtering using a Naive Bayes model (with Laplace smoothing) for imputing missing values from a test ratings matrix. We implement the algorithm using Scipy's sparse matrices in anticipation of scaling this model to the movieLens dataset which is extremely sparse."
   ]
  },
  {
   "cell_type": "code",
   "execution_count": 1,
   "metadata": {},
   "outputs": [],
   "source": [
    "import numpy as np\n",
    "import scipy.sparse as sps"
   ]
  },
  {
   "cell_type": "code",
   "execution_count": 2,
   "metadata": {},
   "outputs": [
    {
     "data": {
      "text/plain": [
       "array([[ 1, -1,  1, -1,  1, -1],\n",
       "       [ 1,  1,  0, -1, -1, -1],\n",
       "       [ 0,  1,  1, -1, -1,  0],\n",
       "       [-1, -1, -1,  1,  1,  1],\n",
       "       [-1,  0, -1,  1,  1,  1]])"
      ]
     },
     "execution_count": 2,
     "metadata": {},
     "output_type": "execute_result"
    }
   ],
   "source": [
    "# create test ratings matrix of size num_users x num_items\n",
    "R = np.array([[1,-1,1,-1,1,-1],[1,1,0,-1,-1,-1],[0,1,1,-1,-1,0],[-1,-1,-1,1,1,1],[-1,0,-1,1,1,1]])\n",
    "Rs = sps.coo_array(R)\n",
    "Rsc = Rs.tocsc()\n",
    "Rsr = Rs.tocsr()\n",
    "R"
   ]
  },
  {
   "cell_type": "code",
   "execution_count": 3,
   "metadata": {},
   "outputs": [],
   "source": [
    "# get number of users and items\n",
    "num_users = R.shape[0]\n",
    "num_items = R.shape[1]\n",
    "\n",
    "# get number of nonzero entries in each row and each column \n",
    "nnz_entries_per_col = np.diff(Rsc.indptr)\n",
    "nnz_entries_per_row = np.diff(Rsr.indptr)"
   ]
  },
  {
   "cell_type": "code",
   "execution_count": 10,
   "metadata": {},
   "outputs": [
    {
     "name": "stdout",
     "output_type": "stream",
     "text": [
      "prediction: user 1 will rate item 2 a value of 1\n",
      "prediction: user 2 will rate item 0 a value of 1\n",
      "prediction: user 2 will rate item 5 a value of -1\n",
      "prediction: user 4 will rate item 1 a value of -1\n"
     ]
    }
   ],
   "source": [
    "# implement Naive Bayes model with Laplace smoothing\n",
    "alpha = 0 # Laplace smoothing (alpha = 0 means no smoothing)\n",
    "scoring_options = [-1, 1]\n",
    "num_scoring_options = len(scoring_options)\n",
    "new_movie_id = np.array(range(num_items))\n",
    "\n",
    "# loop over all missing ratings and print the prediction to the screen\n",
    "\n",
    "# loop over all users \n",
    "for juser in range(num_users): \n",
    "    juser_rated = Rsr.indices[Rsr.indptr[juser]:Rsr.indptr[juser+1]] \n",
    "    to_rate = np.delete(new_movie_id,juser_rated)\n",
    "\n",
    "    # loop over all items that user did not rate\n",
    "    for jitem in to_rate: \n",
    "        rating_prediction = []\n",
    "\n",
    "        # compute probability of rating for all possible ratings  \n",
    "        for jprob in scoring_options:\n",
    "            jaa = Rsc.data[Rsc.indptr[jitem]:Rsc.indptr[jitem+1]] == jprob           \n",
    "            aa = Rsc.indices[Rsc.indptr[jitem]:Rsc.indptr[jitem+1]][jaa]  # all users that rated item jitem as jprob\n",
    "            prior = (np.count_nonzero(jaa) + alpha)/(nnz_entries_per_col[jitem] + num_scoring_options*alpha)       \n",
    "            Pr = 1\n",
    "\n",
    "            # loop over items that juser rated   \n",
    "            for j in juser_rated:                          \n",
    "                ind_j0 = Rsc.indptr[j]\n",
    "                ind_j1 = Rsc.indptr[j+1]\n",
    "                bb = Rsc.indices[ind_j0:ind_j1] # all users that rated item j\n",
    "                cc = Rsc.data[ind_j0:ind_j1]          \n",
    "                bp = np.isin(bb,aa,assume_unique=True)         \n",
    "                Pr = Pr * (np.count_nonzero(cc[bp] == cc[bb == juser]) + alpha)/ (np.count_nonzero(bp) + num_scoring_options*alpha)\n",
    "            \n",
    "            rating_prediction.append(prior*Pr)\n",
    "\n",
    "        print(f'prediction: user {juser} will rate item {jitem} a value of {scoring_options[np.argmax(rating_prediction)]}')"
   ]
  }
 ],
 "metadata": {
  "kernelspec": {
   "display_name": "recsys_movie",
   "language": "python",
   "name": "python3"
  },
  "language_info": {
   "codemirror_mode": {
    "name": "ipython",
    "version": 3
   },
   "file_extension": ".py",
   "mimetype": "text/x-python",
   "name": "python",
   "nbconvert_exporter": "python",
   "pygments_lexer": "ipython3",
   "version": "3.9.18"
  },
  "orig_nbformat": 4
 },
 "nbformat": 4,
 "nbformat_minor": 2
}
