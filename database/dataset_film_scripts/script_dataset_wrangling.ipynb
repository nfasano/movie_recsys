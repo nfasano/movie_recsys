{
 "cells": [
  {
   "cell_type": "markdown",
   "metadata": {},
   "source": [
    "## Clean film script dataset and find matching IMDb_id and tmdb_id\n",
    "\n",
    "Description: \n",
    "- load in raw dataset of film scripts obtained from webscrapers\n",
    "- clean any inconsistencies or mistakes\n",
    "- assign each film script an IMDb_id and tmdb_id\n",
    "\n",
    "This script is meant to be run only one time (i.e. when the data was first webscraped). Further updating should be done using the data_updating notebook which is integrated into the data pipeline"
   ]
  },
  {
   "cell_type": "code",
   "execution_count": null,
   "metadata": {},
   "outputs": [],
   "source": [
    "import pandas as pd\n",
    "import numpy as np\n",
    "import requests\n",
    "from matplotlib import pyplot as plt\n",
    "import pickle\n",
    "import time"
   ]
  },
  {
   "cell_type": "code",
   "execution_count": null,
   "metadata": {},
   "outputs": [],
   "source": [
    "# import raw (uncleaned) film script dataset\n",
    "path_to_csv = (\n",
    "    \"scraped_scripts\\\\springfield_movie_scripts_2023_01_13.csv\"\n",
    ")\n",
    "df = pd.read_csv(path_to_csv, index_col=[0])\n",
    "\n",
    "df.head()"
   ]
  },
  {
   "cell_type": "code",
   "execution_count": null,
   "metadata": {},
   "outputs": [],
   "source": [
    "# create Movie Year feature using information from Movie Title column\n",
    "df[\"Movie Year\"] = df[\"Movie Title\"].map(lambda x: x[-5:-1])\n",
    "df[\"Movie Title\"] = df[\"Movie Title\"].map(lambda x: x[0:-6])\n",
    "\n",
    "# manually inspect and fix data errors such as movie being released in year 0000 or 0147\n",
    "print(df[\"Movie Year\"].unique())\n",
    "print()\n",
    "print(df.loc[df[\"Movie Year\"] == \"0147\", [\"Movie Title\", \"Movie Year\"]])\n",
    "\n",
    "# manually go in and fix the spotted errors. Use IMDb to find correct information\n",
    "df.loc[12856, \"Movie Title\"] = \"Hollows Grove\"\n",
    "df.loc[12224, \"Movie Title\"] = \"Alien Battlefield Earth\"\n",
    "df.loc[8151, \"Movie Title\"] = \"Disappearance\"\n",
    "\n",
    "df.loc[df[\"Movie Year\"] == \"0000\", \"Movie Year\"] = \"1986\"\n",
    "df.loc[df[\"Movie Year\"] == \"2050\", \"Movie Year\"] = \"2017\"\n",
    "df.loc[df[\"Movie Year\"] == \"0147\", \"Movie Year\"] = \"2014\"\n",
    "df.loc[df[\"Movie Year\"] == \"arth\", \"Movie Year\"] = \"2021\"\n",
    "\n",
    "# df_orig[\"Movie Year\"] = df_orig[\"Movie Year\"].astype(\"int\")\n",
    "\n",
    "# reorder and rename columns\n",
    "df = df[[\"Movie Title\", \"Movie Year\", \"Movie Script Link\", \"Script Text\"]]\n",
    "df.columns = [\"movie_title\", \"movie_year\", \"springfield_link\", \"script_text\"]\n",
    "df.head()"
   ]
  },
  {
   "cell_type": "code",
   "execution_count": null,
   "metadata": {},
   "outputs": [],
   "source": [
    "# clean up title names: remove white space and convert 'title, the' to 'the title'\n",
    "df[\"movie_title\"] = df[\"movie_title\"].str.strip()\n",
    "df[\"movie_title\"] = [\n",
    "    \"The \" + jmovie_title[0:-5] if jmovie_title.endswith(\", The\") else jmovie_title\n",
    "    for jmovie_title in df[\"movie_title\"]\n",
    "]"
   ]
  },
  {
   "cell_type": "code",
   "execution_count": null,
   "metadata": {},
   "outputs": [],
   "source": [
    "# inspect movies with duplicate name and year\n",
    "duplicates = df[[\"movie_title\", \"movie_year\"]].value_counts()\n",
    "duplicates = duplicates[duplicates > 1]\n",
    "print(f'Number of duplicates: {len(duplicates)}')\n",
    "for jmovie in duplicates.index:\n",
    "    print(df.query(\"movie_title == @jmovie[0] and movie_year == @jmovie[1]\"))\n",
    "    "
   ]
  },
  {
   "cell_type": "code",
   "execution_count": null,
   "metadata": {},
   "outputs": [],
   "source": [
    "# The door and the avengers are not duplicates but have the same name and year\n",
    "# drop all other duplicates from the database and reset the index\n",
    "jdrop = []\n",
    "for j in duplicates.index:\n",
    "    if j[0].lower() == \"the door\" or j[0].lower() == \"the avengers\":\n",
    "        print(j[0])\n",
    "    else:\n",
    "        jdrop.append(df.query(\"movie_title == @j[0] and movie_year == @j[1]\").index[1])\n",
    "df = df.drop(jdrop, axis=0)\n",
    "df = df.reset_index(drop=True)"
   ]
  },
  {
   "cell_type": "code",
   "execution_count": null,
   "metadata": {},
   "outputs": [],
   "source": [
    "# drop movies with less than 75 words\n",
    "# these scripts contain either none or \"More Movie Scripts | Request a Movie Transcript\"\n",
    "df[\"num_words\"] = [len(jscript) for jscript in df[\"script_text\"]]\n",
    "df = df.drop(df[df[\"num_words\"] < 75].index, axis=0)\n",
    "df = df.drop(\"num_words\", axis=1)\n",
    "df = df.reset_index(drop=True)"
   ]
  },
  {
   "cell_type": "markdown",
   "metadata": {},
   "source": [
    "## Synthesize film script dataset with IMDb dataset by assigning each movie in film script dataset an IMDb_id"
   ]
  },
  {
   "cell_type": "markdown",
   "metadata": {},
   "source": [
    "### method a) match tables based on title name"
   ]
  },
  {
   "cell_type": "code",
   "execution_count": null,
   "metadata": {},
   "outputs": [],
   "source": [
    "# make a copy of original dataframe \n",
    "df_orig = df.copy()\n",
    "\n",
    "# Now preprocess new movie script dataframe titles\n",
    "df['movie_title'] = df['movie_title'].str.lower()\n",
    "df['movie_title'] = df['movie_title'].str.strip()\n",
    "df['movie_year'] = df['movie_year'].astype(int)"
   ]
  },
  {
   "cell_type": "code",
   "execution_count": null,
   "metadata": {},
   "outputs": [],
   "source": [
    "# load in IMDB database\n",
    "path_to_tsv = 'C:\\\\Users\\\\Nick\\\\Documents\\\\DataScience\\\\databases\\\\IMDB_database\\\\2023_02_12_IMDbDataFiles\\\\titleBasics.tsv'\n",
    "df_imdb = pd.read_csv(path_to_tsv, sep='\\t')\n",
    "\n",
    "# preprocess imdb data titles\n",
    "df_imdb['primaryTitle'] = df_imdb['primaryTitle'].str.lower()\n",
    "df_imdb['originalTitle'] = df_imdb['originalTitle'].str.lower()\n",
    "df_imdb['startYear'] = df_imdb['startYear'].replace('\\\\N','0').astype(int)"
   ]
  },
  {
   "cell_type": "code",
   "execution_count": null,
   "metadata": {},
   "outputs": [],
   "source": [
    "# iterate through all rows (movie scripts) of dataframe\n",
    "# and attempt to find a matching title and/or year in the script dataframe\n",
    "# with one in the imdb dataset. If no match is found or if several matches are found\n",
    "# return 'NULL'. We will return to them later. The following code correctly matches\n",
    "# about 95% of movies and took 272 minutes to run this code cell\n",
    "tt_all = []\n",
    "year_all = []\n",
    "jredo = []\n",
    "for j in range(len(df)):\n",
    "    \n",
    "    ij = df_imdb['primaryTitle'] == df.loc[j,'Movie Title']\n",
    "    if(np.any(ij)):\n",
    "        if(np.sum(ij) == 1):\n",
    "            tt_all.append(df_imdb.loc[ij,'tconst'].values[0])\n",
    "            year_all.append(df_imdb.loc[ij,'startYear'].values[0])\n",
    "        if(np.sum(ij) > 1):\n",
    "            # filter by titleType and year\n",
    "            dfyear = df.loc[j,'Movie Year']\n",
    "            dfyearp = dfyear+1\n",
    "            dfyearm = dfyear-1\n",
    "            df_title_year = df_imdb[ij].query(\"(titleType == 'movie' or titleType == 'tvMovie' or titleType == 'video') and (startYear == @dfyear or startYear == @dfyearp or startYear == @dfyearm)\")\n",
    "            if(len(df_title_year) == 1):\n",
    "                tt_all.append(df_title_year['tconst'].values[0])\n",
    "                year_all.append(df_title_year['startYear'].values[0])\n",
    "            elif(len(df_title_year) > 1):\n",
    "                if(len(df_title_year.query(\"titleType == 'movie' or titleType == 'tvMovie'\")) == 1):\n",
    "                    temp = df_title_year.query(\"titleType == 'movie' or titleType == 'tvMovie'\")\n",
    "                    tt_all.append(temp['tconst'].values[0])\n",
    "                    year_all.append(temp['startYear'].values[0])                   \n",
    "                else:\n",
    "                    tt_all.append([j for j in df_title_year['tconst'].values[:]])\n",
    "                    year_all.append(df_title_year['startYear'].values[0])\n",
    "            else:\n",
    "                jredo.append(j)\n",
    "                tt_all.append('NULL')\n",
    "                year_all.append('NULL')\n",
    "    elif(np.any(df_imdb['originalTitle'] == df.loc[j,'Movie Title'])):\n",
    "        ij = df_imdb['originalTitle'] == df.loc[j,'Movie Title']\n",
    "        if(np.sum(ij) == 1):\n",
    "            tt_all.append(df_imdb.loc[ij,'tconst'].values[0])\n",
    "            year_all.append(df_imdb.loc[ij,'startYear'].values[0])\n",
    "        if(np.sum(ij) > 1):\n",
    "            # filter by titleType and year\n",
    "            dfyear = df.loc[j,'Movie Year']\n",
    "            dfyearp = dfyear+1\n",
    "            dfyearm = dfyear-1\n",
    "            df_title_year = df_imdb[ij].query(\"(titleType == 'movie' or titleType == 'tvMovie' or titleType == 'video') and (startYear == @dfyear or startYear == @dfyearp or startYear == @dfyearm)\")\n",
    "            if(len(df_title_year) == 1):\n",
    "                tt_all.append(df_title_year['tconst'].values[0])\n",
    "                year_all.append(df_title_year['startYear'].values[0])\n",
    "            elif(len(df_title_year) > 1):\n",
    "                if(len(df_title_year.query(\"titleType == 'movie' or titleType == 'tvMovie'\")) == 1):\n",
    "                    temp = df_title_year.query(\"titleType == 'movie' or titleType == 'tvMovie'\")\n",
    "                    tt_all.append(temp['tconst'].values[0])\n",
    "                    year_all.append(temp['startYear'].values[0])                   \n",
    "                else:\n",
    "                    tt_all.append([j for j in df_title_year['tconst'].values[:]])\n",
    "                    year_all.append(df_title_year['startYear'].values[0])\n",
    "            else:\n",
    "                jredo.append(j)\n",
    "                tt_all.append('NULL')\n",
    "                year_all.append('NULL')\n",
    "    else:\n",
    "        jredo.append(j)\n",
    "        tt_all.append('NULL')\n",
    "        year_all.append('NULL')"
   ]
  },
  {
   "cell_type": "code",
   "execution_count": null,
   "metadata": {},
   "outputs": [],
   "source": [
    "# add tconst to original dataframe \n",
    "df_orig['imdb_id'] = tt_all\n",
    "\n",
    "# for multiple tconsts, keep only the first one in the list\n",
    "df_orig['imdb_id'] = [jk.replace('[','').replace(']','').replace(\"'\",'').split(', ')[0] if \"['tt\" in jk else jk for jk in df_orig['imdb_id'].tolist()]\n",
    "\n",
    "# create IMDb link to movie based on imdb_id\n",
    "df_orig['imdb_link'] = 'https://www.imdb.com/title/' + df_orig['imdb_id'] + '/'\n",
    "\n",
    "# CHECKPOINT SAVE - save updated dataset that has been cleaned and contains IMDb_id\n",
    "# df_orig.to_csv('data_cleaning_and_synthesis_out\\\\springfield_movie_scripts_2023_01_13_clean.csv')"
   ]
  },
  {
   "cell_type": "markdown",
   "metadata": {},
   "source": [
    "## Synthesize film script dataset with tmdb dataset by assigning each movie in film scripts dataset the corresponding tmdb_id. Use tmdb API"
   ]
  },
  {
   "cell_type": "markdown",
   "metadata": {},
   "source": [
    "### methoda a) call tmdb api using imdb_id"
   ]
  },
  {
   "cell_type": "code",
   "execution_count": null,
   "metadata": {},
   "outputs": [],
   "source": [
    "tmdb_poster = []\n",
    "imdb_id2 = []\n",
    "tmdb_id = []\n",
    "count = 0\n",
    "for j, jtt in enumerate(df_orig[\"imdb_id\"]):\n",
    "    url = \"https://api.themoviedb.org/3/movie/{}?api_key=075d83b3063def6fdd12763959a9086e&language=en-US\".format(\n",
    "        jtt\n",
    "    )\n",
    "\n",
    "    if j % 2000 == 0:\n",
    "        print(j)\n",
    "    try:\n",
    "        data = requests.get(url)\n",
    "        data.raise_for_status()\n",
    "        data = data.json()\n",
    "        tmdb_poster.append('https://image.tmdb.org/t/p/w500/' + data[\"poster_path\"])\n",
    "        tmdb_id.append(data[\"id\"])\n",
    "        imdb_id2.append(data[\"imdb_id\"])\n",
    "    except:\n",
    "        tmdb_poster.append(\"NULL\")\n",
    "        tmdb_id.append(np.nan)\n",
    "        imdb_id2.append(np.nan)\n",
    "        count = count + 1\n",
    "        # if(count%25 == 0):\n",
    "        #     print(count)"
   ]
  },
  {
   "cell_type": "code",
   "execution_count": null,
   "metadata": {},
   "outputs": [],
   "source": [
    "# update df_orig\n",
    "df_orig['tmdb_id'] = tmdb_id\n",
    "df_orig['tmdb_poster_link'] = tmdb_poster\n",
    "df_orig['imdb_id2'] = imdb_id2"
   ]
  },
  {
   "cell_type": "code",
   "execution_count": null,
   "metadata": {},
   "outputs": [],
   "source": [
    "# test to make sure that tmdb reported imdb_id matches imdb_id from IMDb dataset\n",
    "df_test = df_orig.query(\"tmdb_poster_link != 'NULL'\").copy()\n",
    "print(len(df_test))\n",
    "print(np.sum(df_test['imdb_id'] != df_test['imdb_id2']))\n",
    "df_orig = df_orig.drop('imdb_id2', axis = 1)"
   ]
  },
  {
   "cell_type": "markdown",
   "metadata": {},
   "source": [
    "### method b) call tmdb (search) api using movie name"
   ]
  },
  {
   "cell_type": "code",
   "execution_count": null,
   "metadata": {},
   "outputs": [],
   "source": [
    "tmdb_id = []\n",
    "tmdb_poster = []\n",
    "df_copy = df_orig[df_orig['tmdb_poster_link'] == 'NULL'].copy()\n",
    "for j, movie_title in enumerate(df_copy['movie_title']): \n",
    "    url = \"http://api.themoviedb.org/3/search/movie?api_key=075d83b3063def6fdd12763959a9086e&query={}\".format(\n",
    "        movie_title.replace(\" \", \"+\")\n",
    "    )\n",
    "    if(j%500 == 0):\n",
    "        print(j)\n",
    "    try:\n",
    "        data = requests.get(url)\n",
    "        data.raise_for_status()\n",
    "        data = data.json()\n",
    "        if(data['total_results'] < 1):\n",
    "            tmdb_id.append(\"NULL\")\n",
    "            tmdb_poster.append(\"NULL\")           \n",
    "        elif(data['total_results'] < 2):\n",
    "            tmdb_id.append(data['results'][0]['id'])\n",
    "            tmdb_poster.append(data['results'][0]['poster_path'])\n",
    "        else:\n",
    "            tmdb_id.append(\"NULL\")\n",
    "            tmdb_poster.append(\"NULL\")    \n",
    "            # print('input movie:' + movie_title)\n",
    "            # for jj, jmovie in enumerate(data['results']):\n",
    "            #     print(str(jj) + ': ' + jmovie['title'])\n",
    "\n",
    "            # time.sleep(1)\n",
    "            # user_input = int(input(\"enter a value (-1 returns null): \"))\n",
    "            # if user_input >= 0:\n",
    "            #     tmdb_id.append(data['results'][user_input]['id'])\n",
    "            #     tmdb_poster.append(data['results'][user_input]['poster_path'])\n",
    "            # else:\n",
    "            #     tmdb_id.append(\"NULL\")\n",
    "            #     tmdb_poster.append(\"NULL\")    \n",
    "    except:\n",
    "        tmdb_id.append(\"NULL\")\n",
    "        tmdb_poster.append(\"NULL\")       "
   ]
  },
  {
   "cell_type": "code",
   "execution_count": null,
   "metadata": {},
   "outputs": [],
   "source": [
    "# update df_orig\n",
    "tmdb_poster = [j if type(j) == str else 'NULL' for j in tmdb_poster]\n",
    "df_orig.loc[df_copy.index,'tmdb_poster_link'] = ['https://image.tmdb.org/t/p/w500/' + jposter if jposter != 'NULL' else 'NULL' for jposter in tmdb_poster]\n",
    "df_orig.loc[df_copy.index,'tmdb_id'] = tmdb_id"
   ]
  },
  {
   "cell_type": "code",
   "execution_count": null,
   "metadata": {},
   "outputs": [],
   "source": [
    "# finally, attempt to back out imdb id if imdb_id is null but tmdb_id is known\n",
    "# this method works well for movies that have quirky spelling or had title changes\n",
    "\n",
    "df_orig['imdb_id'] = df_orig['imdb_id'].fillna('NULL')\n",
    "df_copy = df_orig.query(\"imdb_id == 'NULL' and tmdb_id != 'NULL'\").copy()\n",
    "\n",
    "tmdb_poster = []\n",
    "imdb_id2 = []\n",
    "tmdb_id = []\n",
    "for j, jtt in enumerate(df_copy[\"tmdb_id\"]):\n",
    "    url = \"https://api.themoviedb.org/3/movie/{}?api_key=075d83b3063def6fdd12763959a9086e&language=en-US\".format(\n",
    "        jtt\n",
    "    )\n",
    "\n",
    "    if j % 2000 == 0:\n",
    "        print(j)\n",
    "    try:\n",
    "        data = requests.get(url)\n",
    "        data.raise_for_status()\n",
    "        data = data.json()\n",
    "        tmdb_poster.append('https://image.tmdb.org/t/p/w500/' + data[\"poster_path\"])\n",
    "        tmdb_id.append(data[\"id\"])\n",
    "        imdb_id2.append(data[\"imdb_id\"])\n",
    "    except:\n",
    "        tmdb_poster.append(\"NULL\")\n",
    "        tmdb_id.append(np.nan)\n",
    "        imdb_id2.append(np.nan)"
   ]
  },
  {
   "cell_type": "code",
   "execution_count": null,
   "metadata": {},
   "outputs": [],
   "source": [
    "# update df_orig\n",
    "imdb_id2 = [j if type(j) == str else 'NULL' for j in imdb_id2]\n",
    "imdb_id2 = ['NULL' if j == '' else j for j in imdb_id2]\n",
    "df_orig.loc[df_copy.index,'imdb_id'] = imdb_id2\n",
    "df_orig.loc[df_copy.index,'imdb_link'] = 'https://www.imdb.com/title/' + df_copy['imdb_id2'] + '/'"
   ]
  },
  {
   "cell_type": "code",
   "execution_count": null,
   "metadata": {},
   "outputs": [],
   "source": [
    "# do some final type casting for consistent outputs\n",
    "df_orig['tmdb_id'] = df_orig['tmdb_id'].fillna(-1).astype(int)\n",
    "df_orig.loc[df_orig['imdb_id'] == 'nan','imdb_id'] = 'NULL'\n",
    "df_orig['imdb_link'] = df_orig['imdb_link'].fillna('NULL')\n",
    "df_orig['tmdb_poster_link'] = df_orig['tmdb_poster_link'].fillna('NULL')\n",
    "df_orig['imdb_link'] = ['NULL' if j == 'https://www.imdb.com/title/NULL/' else j for j in df_orig['imdb_link']]\n",
    "df_orig.info()"
   ]
  },
  {
   "cell_type": "code",
   "execution_count": null,
   "metadata": {},
   "outputs": [],
   "source": [
    "# FINAL SAVE -- ALL OTHER CHANGES TO DATAFRAME WILL BE DONE INPLACE USING data_updating.ipynb notebook\n",
    "df_orig.to_csv(\n",
    "    \"data_cleaning_and_synthesis_out\\\\springfield_movie_scripts_2023_01_13_clean.csv\"\n",
    ")"
   ]
  }
 ],
 "metadata": {
  "kernelspec": {
   "display_name": "recsys_movie",
   "language": "python",
   "name": "python3"
  },
  "language_info": {
   "codemirror_mode": {
    "name": "ipython",
    "version": 3
   },
   "file_extension": ".py",
   "mimetype": "text/x-python",
   "name": "python",
   "nbconvert_exporter": "python",
   "pygments_lexer": "ipython3",
   "version": "3.9.18"
  },
  "orig_nbformat": 4
 },
 "nbformat": 4,
 "nbformat_minor": 2
}
