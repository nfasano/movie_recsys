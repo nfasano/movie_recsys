{
 "cells": [
  {
   "cell_type": "code",
   "execution_count": 2,
   "metadata": {},
   "outputs": [],
   "source": [
    "import numpy as np\n",
    "import pandas as pd\n",
    "import requests\n",
    "import pickle\n",
    "import urllib.request "
   ]
  },
  {
   "cell_type": "markdown",
   "metadata": {},
   "source": [
    "## Load in cleaned script database with tmdbIDs and script text"
   ]
  },
  {
   "cell_type": "code",
   "execution_count": null,
   "metadata": {},
   "outputs": [],
   "source": [
    "df = pd.read_csv('..\\\\database\\\\dataset_film_scripts\\\\springfield_movie_scripts_2023_01_13_clean.csv', index_col=[0])\n",
    "df = df[df['tmdb_id'] > 0]"
   ]
  },
  {
   "cell_type": "markdown",
   "metadata": {},
   "source": [
    "## First collect photo and description data from TMDb"
   ]
  },
  {
   "cell_type": "code",
   "execution_count": null,
   "metadata": {},
   "outputs": [],
   "source": [
    "overview = ['']*len(df)\n",
    "for j, tmdb_id in enumerate(df):\n",
    "    url = \"https://api.themoviedb.org/3/movie/{}?api_key=075d83b3063def6fdd12763959a9086e&language=en-US\".format(\n",
    "        tmdb_id\n",
    "    )\n",
    "    try:\n",
    "        data = requests.get(url)\n",
    "        data.raise_for_status()\n",
    "        data = data.json()\n",
    "        url_poster = \"https://image.tmdb.org/t/p/w500/\" + data[\"poster_path\"]\n",
    "        urllib.request.urlretrieve(url_poster, f\"..\\\\database\\\\dataset_tmdb\\\\posters\\\\tmdb_{tmdb_id}.png\")\n",
    "        overview[j] = data[\"overview\"]\n",
    "    except:\n",
    "        overview[j] = 'NULL'\n",
    "\n",
    "    if(j % 100 == 0):\n",
    "        print(j)\n",
    "        # with open(\"overview.txt\", \"wb\") as f:\n",
    "        #     pickle.dump(overview, f)\n",
    "        \n"
   ]
  },
  {
   "cell_type": "code",
   "execution_count": null,
   "metadata": {},
   "outputs": [],
   "source": [
    "dff = pd.DataFrame(zip(df['tmdb_id'], overview), columns=['tmdb_id', 'tmdb_description'])\n",
    "dff.to_csv('df_tmdb_description.csv')"
   ]
  }
 ],
 "metadata": {
  "kernelspec": {
   "display_name": "recsys_movie",
   "language": "python",
   "name": "python3"
  },
  "language_info": {
   "codemirror_mode": {
    "name": "ipython",
    "version": 3
   },
   "file_extension": ".py",
   "mimetype": "text/x-python",
   "name": "python",
   "nbconvert_exporter": "python",
   "pygments_lexer": "ipython3",
   "version": "3.9.18"
  }
 },
 "nbformat": 4,
 "nbformat_minor": 2
}
