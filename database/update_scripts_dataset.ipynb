{
 "cells": [
  {
   "cell_type": "markdown",
   "metadata": {},
   "source": [
    "## update_scripts_dataset.ipynb\n",
    "\n",
    "Description: \n",
    "- Update film script dataset to correct missing or incorrect data.\n",
    "\n",
    "External Dependencies:\n",
    "- springfield_movie_scripts.csv from \"dataset_film_scripts\\\\springfield_movie_scripts.csv\"\n",
    "\n",
    "Returns:\n",
    "- updated springfield_movie_scripts.csv\"\n",
    "- updated df_spaces_upload.csv\""
   ]
  },
  {
   "cell_type": "code",
   "execution_count": null,
   "metadata": {},
   "outputs": [],
   "source": [
    "import pandas as pd\n",
    "import numpy as np\n",
    "import requests\n",
    "from build_df_spaces_upload import build_df_spaces_upload"
   ]
  },
  {
   "cell_type": "code",
   "execution_count": null,
   "metadata": {},
   "outputs": [],
   "source": [
    "# define updating functions\n",
    "def df_update(df, movie_id, update_dict):\n",
    "    for jcol in update_dict:\n",
    "        if jcol in df.columns:\n",
    "            # make the update\n",
    "            df.loc[movie_id, jcol] = update_dict[jcol]\n",
    "\n",
    "            # if jcol == \"imdb_id\", update imdb_link\n",
    "            if jcol == \"imdb_id\":\n",
    "                df.loc[movie_id, \"imdb_link\"] = construct_imdb_link(\n",
    "                    df.loc[movie_id, \"imdb_id\"]\n",
    "                )\n",
    "\n",
    "            # if jcol == \"tmdb_id\", update tmdb_poster_link\n",
    "            if jcol == \"tmdb_id\":\n",
    "                df.loc[movie_id, \"tmdb_poster_link\"] = fetch_tmdb_poster_link(\n",
    "                    df.loc[movie_id, \"tmdb_id\"]\n",
    "                )\n",
    "        else:\n",
    "            print(\"WARNING:\" + jcol + \" is not a valid column name.\")\n",
    "\n",
    "    return df\n",
    "\n",
    "\n",
    "def construct_imdb_link(imdb_id):\n",
    "    return \"https://www.imdb.com/title/\" + imdb_id + \"/\"\n",
    "\n",
    "\n",
    "def locate_movie_id(df, col_name, col_value):\n",
    "    return df.query(col_name + \" == @col_value\")\n",
    "\n",
    "\n",
    "def fetch_tmdb_poster_link(tmdb_id):\n",
    "    # make api call to themoviedb.org using tmdb_id to get link to poster\n",
    "    # return \"NULL\" if 404 error is raised when making api request\n",
    "    url = \"https://api.themoviedb.org/3/movie/{}?api_key=075d83b3063def6fdd12763959a9086e&language=en-US\".format(\n",
    "        tmdb_id\n",
    "    )\n",
    "    try:\n",
    "        data = requests.get(url)\n",
    "        data.raise_for_status()\n",
    "        data = data.json()\n",
    "        return \"https://image.tmdb.org/t/p/w500/\" + data[\"poster_path\"]\n",
    "    except:\n",
    "        return \"NULL\""
   ]
  },
  {
   "cell_type": "code",
   "execution_count": null,
   "metadata": {},
   "outputs": [],
   "source": [
    "# Step 1: Load in current script dataset\n",
    "df = pd.read_csv(\n",
    "    \"dataset_film_scripts\\\\springfield_movie_scripts.csv\",\n",
    "    index_col=[0],\n",
    ")\n",
    "col_names = df.columns.tolist()\n",
    "print(f\"Valid Column names to update:\\n{col_names}\")"
   ]
  },
  {
   "cell_type": "code",
   "execution_count": null,
   "metadata": {},
   "outputs": [],
   "source": [
    "# Step2: Locate movie_id by movie name, imdb_id, or tmdb_id\n",
    "col_value = \"Elf\"\n",
    "col_name = \"movie_title\"  # 'imdb_id', 'tmdb_id', or 'movie_name'\n",
    "locate_movie_id(df, col_name=col_name, col_value=col_value)"
   ]
  },
  {
   "cell_type": "code",
   "execution_count": null,
   "metadata": {},
   "outputs": [],
   "source": [
    "# Step 3: Perform update\n",
    "movie_id = 33385\n",
    "update_dict = {\"movie_title\": \"WALL-E\", \"imdb_id\": \"tt0910970\", \"tmdb_id\": 10681}\n",
    "\n",
    "print(\n",
    "    f'Original entry:\\n {df.loc[movie_id].drop(\"script_text\").to_markdown(tablefmt=\"grid\")}\\n'\n",
    ")\n",
    "\n",
    "df = df_update(df=df, movie_id=movie_id, update_dict=update_dict)\n",
    "\n",
    "print(\n",
    "    f'Updated entry:\\n{df.loc[movie_id].drop(\"script_text\").to_markdown(tablefmt=\"grid\")}'\n",
    ")"
   ]
  },
  {
   "cell_type": "code",
   "execution_count": null,
   "metadata": {},
   "outputs": [],
   "source": [
    "# Step 4: Push changes to the csv file and update synthesized scripts and imdb dataset\n",
    "df.to_csv(\"dataset_film_scripts\\\\springfield_movie_scripts.csv\")\n",
    "\n",
    "df_new = build_df_spaces_upload()\n",
    "df_new.to_csv(\"df_spaces_upload.csv\")"
   ]
  }
 ],
 "metadata": {
  "kernelspec": {
   "display_name": "recsys_movie",
   "language": "python",
   "name": "python3"
  },
  "language_info": {
   "codemirror_mode": {
    "name": "ipython",
    "version": 3
   },
   "file_extension": ".py",
   "mimetype": "text/x-python",
   "name": "python",
   "nbconvert_exporter": "python",
   "pygments_lexer": "ipython3",
   "version": "3.9.18"
  },
  "orig_nbformat": 4
 },
 "nbformat": 4,
 "nbformat_minor": 2
}
