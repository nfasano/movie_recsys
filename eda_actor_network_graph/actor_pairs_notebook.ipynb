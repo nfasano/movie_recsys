{
 "cells": [
  {
   "cell_type": "code",
   "execution_count": 1,
   "metadata": {},
   "outputs": [],
   "source": [
    "import numpy as np\n",
    "import pandas as pd\n",
    "import networkx as nx\n",
    "from matplotlib import pyplot as plt\n",
    "\n",
    "\n",
    "\n",
    "\n",
    "from pyvis.network import Network\n",
    "\n",
    "\n"
   ]
  },
  {
   "cell_type": "code",
   "execution_count": 152,
   "metadata": {},
   "outputs": [
    {
     "data": {
      "text/html": [
       "<div>\n",
       "<style scoped>\n",
       "    .dataframe tbody tr th:only-of-type {\n",
       "        vertical-align: middle;\n",
       "    }\n",
       "\n",
       "    .dataframe tbody tr th {\n",
       "        vertical-align: top;\n",
       "    }\n",
       "\n",
       "    .dataframe thead th {\n",
       "        text-align: right;\n",
       "    }\n",
       "</style>\n",
       "<table border=\"1\" class=\"dataframe\">\n",
       "  <thead>\n",
       "    <tr style=\"text-align: right;\">\n",
       "      <th></th>\n",
       "      <th>source</th>\n",
       "      <th>target</th>\n",
       "      <th>weight</th>\n",
       "    </tr>\n",
       "  </thead>\n",
       "  <tbody>\n",
       "    <tr>\n",
       "      <th>0</th>\n",
       "      <td>Lionel Atwill</td>\n",
       "      <td>Morton Barteaux</td>\n",
       "      <td>1</td>\n",
       "    </tr>\n",
       "    <tr>\n",
       "      <th>1</th>\n",
       "      <td>David Sale</td>\n",
       "      <td>Johnny Lockwood</td>\n",
       "      <td>1</td>\n",
       "    </tr>\n",
       "    <tr>\n",
       "      <th>2</th>\n",
       "      <td>Ran Yi</td>\n",
       "      <td>Zhao Minglei</td>\n",
       "      <td>1</td>\n",
       "    </tr>\n",
       "    <tr>\n",
       "      <th>3</th>\n",
       "      <td>Gurie Sheffield</td>\n",
       "      <td>Kendall Gilmore</td>\n",
       "      <td>1</td>\n",
       "    </tr>\n",
       "    <tr>\n",
       "      <th>4</th>\n",
       "      <td>Goran Kovacevic</td>\n",
       "      <td>Jugoslav Kujundzic</td>\n",
       "      <td>1</td>\n",
       "    </tr>\n",
       "  </tbody>\n",
       "</table>\n",
       "</div>"
      ],
      "text/plain": [
       "            source              target  weight\n",
       "0    Lionel Atwill     Morton Barteaux       1\n",
       "1       David Sale     Johnny Lockwood       1\n",
       "2           Ran Yi        Zhao Minglei       1\n",
       "3  Gurie Sheffield     Kendall Gilmore       1\n",
       "4  Goran Kovacevic  Jugoslav Kujundzic       1"
      ]
     },
     "execution_count": 152,
     "metadata": {},
     "output_type": "execute_result"
    }
   ],
   "source": [
    "df = pd.read_csv(\"actor_actor_pairs_movie_final.csv\",header=None,names=['source','target','weight'])\n",
    "df.head()"
   ]
  },
  {
   "cell_type": "code",
   "execution_count": 153,
   "metadata": {},
   "outputs": [
    {
     "name": "stdout",
     "output_type": "stream",
     "text": [
      "<class 'pandas.core.frame.DataFrame'>\n",
      "RangeIndex: 21565150 entries, 0 to 21565149\n",
      "Data columns (total 3 columns):\n",
      " #   Column  Dtype \n",
      "---  ------  ----- \n",
      " 0   source  object\n",
      " 1   target  object\n",
      " 2   weight  int64 \n",
      "dtypes: int64(1), object(2)\n",
      "memory usage: 493.6+ MB\n"
     ]
    }
   ],
   "source": [
    "df.info()"
   ]
  },
  {
   "cell_type": "code",
   "execution_count": 166,
   "metadata": {},
   "outputs": [
    {
     "ename": "KeyboardInterrupt",
     "evalue": "",
     "output_type": "error",
     "traceback": [
      "\u001b[1;31m---------------------------------------------------------------------------\u001b[0m",
      "\u001b[1;31mKeyboardInterrupt\u001b[0m                         Traceback (most recent call last)",
      "\u001b[1;31mKeyboardInterrupt\u001b[0m: "
     ]
    }
   ],
   "source": [
    "dftemp = pd.concat([df['source'],df['target']],ignore_index=True).value_counts()"
   ]
  },
  {
   "cell_type": "code",
   "execution_count": 158,
   "metadata": {},
   "outputs": [],
   "source": [
    "jkeep = 400\n",
    "node_labels = dftemp[dftemp>jkeep].index"
   ]
  },
  {
   "cell_type": "code",
   "execution_count": 165,
   "metadata": {},
   "outputs": [
    {
     "data": {
      "text/plain": [
       "Index(['William Shakespeare', 'Kevin MacLeod', 'Ron Jeremy', 'Tom Byron',\n",
       "       'Mick Blue', 'Mark Davis', 'Sean Michaels', 'Erik Everhard',\n",
       "       'Joey Silvera', 'Eric Roberts',\n",
       "       ...\n",
       "       'Lito Anzures', 'Blair Harris', 'Giorgos Triandafyllou', 'Mazhar Khan',\n",
       "       'Alexander Hall', 'Axel GraatkjÃ¦r', 'Matthias Fuchs',\n",
       "       'Kenneth Cranham', 'Jung Jin-woo', 'Jeffrey Schenck'],\n",
       "      dtype='object', length=6873)"
      ]
     },
     "execution_count": 165,
     "metadata": {},
     "output_type": "execute_result"
    }
   ],
   "source": [
    "node_labels"
   ]
  },
  {
   "cell_type": "code",
   "execution_count": 160,
   "metadata": {},
   "outputs": [],
   "source": [
    "num_node_labels = len(node_labels)\n",
    "node_encoding = list(range(num_node_labels))\n",
    "\n",
    "map_key = {node_labels[j]:node_encoding[j] for j in range(num_node_labels)}\n",
    "df['source'] = df['source'].map(map_key)\n",
    "df['target'] = df['target'].map(map_key)"
   ]
  },
  {
   "cell_type": "code",
   "execution_count": 162,
   "metadata": {},
   "outputs": [],
   "source": [
    "df = df.dropna()"
   ]
  },
  {
   "cell_type": "code",
   "execution_count": 13,
   "metadata": {},
   "outputs": [
    {
     "data": {
      "text/plain": [
       "[[2, 3, 5], [3, 4, 5], [2, 3, 2]]"
      ]
     },
     "execution_count": 13,
     "metadata": {},
     "output_type": "execute_result"
    }
   ],
   "source": [
    "a = [[5,2,3],[3,4,5],[2,3,2]]\n",
    "a[0].sort()\n",
    "a"
   ]
  },
  {
   "cell_type": "code",
   "execution_count": 10,
   "metadata": {},
   "outputs": [],
   "source": [
    "a"
   ]
  },
  {
   "cell_type": "code",
   "execution_count": 43,
   "metadata": {},
   "outputs": [
    {
     "name": "stdout",
     "output_type": "stream",
     "text": [
      "[[1 2 3]\n",
      " [3 4 5]\n",
      " [2 3 2]\n",
      " [1 4 6]]\n",
      "[ 6 12  7 11]\n",
      "[2.         4.         2.33333333 3.66666667]\n",
      "[[1 2 3]\n",
      " [3 4 5]\n",
      " [2 2 3]\n",
      " [1 4 6]]\n",
      "[[1 2 2]\n",
      " [1 3 3]\n",
      " [2 4 5]\n",
      " [3 4 6]]\n",
      "[1 1 2 2 2 3 3 3 4 4 5 6]\n"
     ]
    }
   ],
   "source": [
    "a = np.array([[1,2,3],[3,4,5],[2,3,2],[1,4,6]])\n",
    "print(a)\n",
    "\n",
    "print(np.sum(a, axis=1)) # sum across columns (return size is equal to num_rows)\n",
    "\n",
    "print(np.mean(a, axis=1)) # mean across columns (return size is equal to num_rows)\n",
    "\n",
    "print(np.sort(a, axis=1)) # sort across the columns (i.e. sort the individual rows)\n",
    "\n",
    "print(np.sort(a, axis=0)) # sort across the rows (i.e. sort the individual columns)\n",
    "\n",
    "print(np.sort(a, axis=None)) # flatten the array and then sort"
   ]
  },
  {
   "cell_type": "code",
   "execution_count": 45,
   "metadata": {},
   "outputs": [
    {
     "name": "stdout",
     "output_type": "stream",
     "text": [
      "   a  b  c\n",
      "0  1  2  3\n",
      "1  3  4  5\n",
      "2  2  3  2\n",
      "3  1  4  6\n",
      "\n",
      "0     6\n",
      "1    12\n",
      "2     7\n",
      "3    11\n",
      "dtype: int64\n",
      "\n",
      "0    2.000000\n",
      "1    4.000000\n",
      "2    2.333333\n",
      "3    3.666667\n",
      "dtype: float64\n",
      "\n",
      "   a  b  c\n",
      "0  1  2  3\n",
      "3  1  4  6\n",
      "2  2  3  2\n",
      "1  3  4  5\n",
      "\n",
      "0     6\n",
      "1    12\n",
      "2     7\n",
      "3    11\n",
      "dtype: int64\n"
     ]
    }
   ],
   "source": [
    "df = pd.DataFrame(a,columns=['a','b','c'])\n",
    "print(df.head())\n",
    "print()\n",
    "print(df.sum(axis=1))\n",
    "print()\n",
    "print(df.mean(axis=1))\n",
    "print()\n",
    "print(df.sort_values(by=['a'],axis=0))\n",
    "print()\n",
    "print(df.apply(sum,axis=1))\n",
    "\n"
   ]
  },
  {
   "cell_type": "code",
   "execution_count": 163,
   "metadata": {},
   "outputs": [],
   "source": [
    "# compute size of nodes based on number of connections\n",
    "node_size = []\n",
    "for jactor in node_encoding:\n",
    "    actor_weight = df[(df['target'] == jactor) | (df['source'] == jactor)]['weight']\n",
    "    node_size.append(len(actor_weight)*np.sum(actor_weight))\n",
    "node_size = 20*np.array(node_size)/np.max(node_size)"
   ]
  },
  {
   "cell_type": "code",
   "execution_count": 164,
   "metadata": {},
   "outputs": [
    {
     "name": "stdout",
     "output_type": "stream",
     "text": [
      "actors_network.html\n"
     ]
    }
   ],
   "source": [
    "net = Network(notebook=True,cdn_resources='remote',bgcolor='#222222',font_color='white',height='750px',width='100%',select_menu=True,filter_menu=True)\n",
    "net.add_nodes(node_encoding,label=node_labels,size=node_size)\n",
    "net.add_edges(edges)\n",
    "net.repulsion(node_distance=200, spring_length=2)\n",
    "net.show_buttons()\n",
    "net.show(\"actors_network.html\");"
   ]
  },
  {
   "cell_type": "code",
   "execution_count": null,
   "metadata": {},
   "outputs": [],
   "source": []
  },
  {
   "cell_type": "code",
   "execution_count": null,
   "metadata": {},
   "outputs": [],
   "source": []
  },
  {
   "cell_type": "code",
   "execution_count": null,
   "metadata": {},
   "outputs": [],
   "source": [
    "# example of network taken from Medium post\n",
    "# net = Network(notebook=True,cdn_resources='remote',bgcolor='#222222',font_color='white',height='750px',width='100%',select_menu=True,filter_menu=True)\n",
    "# net.add_nodes([0,1],label=['Alex','Carthy'])\n",
    "# net.add_edges([(0,1,10)])\n",
    "# net.repulsion(node_distance=100, spring_length=20)\n",
    "# net.show_buttons()\n",
    "# net.show(\"list_of_nodes.html\");"
   ]
  }
 ],
 "metadata": {
  "kernelspec": {
   "display_name": "Python 3",
   "language": "python",
   "name": "python3"
  },
  "language_info": {
   "codemirror_mode": {
    "name": "ipython",
    "version": 3
   },
   "file_extension": ".py",
   "mimetype": "text/x-python",
   "name": "python",
   "nbconvert_exporter": "python",
   "pygments_lexer": "ipython3",
   "version": "3.8.5"
  }
 },
 "nbformat": 4,
 "nbformat_minor": 2
}
