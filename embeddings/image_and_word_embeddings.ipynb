{
 "cells": [
  {
   "cell_type": "code",
   "execution_count": null,
   "metadata": {},
   "outputs": [],
   "source": [
    "pip install -U sentence-transformers\n",
    "pip install fiftyone\n",
    "pip install torch torchvision umap-learn\n",
    "pip install \"ipywidgets>=8.0, <9\""
   ]
  },
  {
   "cell_type": "code",
   "execution_count": 1,
   "metadata": {},
   "outputs": [],
   "source": [
    "import cv2\n",
    "import numpy as np\n",
    "import pandas as pd\n",
    "import requests\n",
    "import pickle\n",
    "import urllib.request \n",
    "\n",
    "import fiftyone.brain as fob\n",
    "import fiftyone as fo\n",
    "import fiftyone.zoo as foz\n",
    "from sentence_transformers import SentenceTransformer, util"
   ]
  },
  {
   "cell_type": "markdown",
   "metadata": {},
   "source": [
    "## form dataframe with tmdb desc, poster, and script text"
   ]
  },
  {
   "cell_type": "code",
   "execution_count": null,
   "metadata": {},
   "outputs": [],
   "source": [
    "import os"
   ]
  },
  {
   "cell_type": "code",
   "execution_count": 242,
   "metadata": {},
   "outputs": [],
   "source": [
    "df = pd.read_csv('..\\\\database\\\\dataset_film_scripts\\\\springfield_movie_scripts_2023_01_13_clean.csv', index_col=[0])\n",
    "df = df[df['tmdb_id'] > 0]\n",
    "\n",
    "dff = pd.read_csv('..\\\\database\\\\dataset_tmdb\\\\df_tmdb_description.csv', index_col=[0])\n",
    "\n",
    "poster_list = os.listdir('..\\\\database\\\\dataset_tmdb\\\\posters')\n",
    "\n",
    "df_spaces = pd.read_csv('..\\\\database\\\\dataset_spaces_upload.csv', index_col=[0])\n",
    "df_spaces = df_spaces.drop_duplicates(subset='imdb_id', keep=False)\n",
    "df_spaces = df_spaces[['imdb_id', 'genre', 'average_rating', 'num_votes']]"
   ]
  },
  {
   "cell_type": "code",
   "execution_count": 243,
   "metadata": {},
   "outputs": [],
   "source": [
    "# drop all duplicates from df and dff\n",
    "df = df.drop_duplicates(subset=['tmdb_id'], keep=False)\n",
    "dff = dff.drop_duplicates(subset=['tmdb_id'], keep=False)\n",
    "\n",
    "dff = dff[~dff['tmdb_description'].isna()]"
   ]
  },
  {
   "cell_type": "code",
   "execution_count": 244,
   "metadata": {},
   "outputs": [
    {
     "data": {
      "text/plain": [
       "32173"
      ]
     },
     "execution_count": 244,
     "metadata": {},
     "output_type": "execute_result"
    }
   ],
   "source": [
    "# find subset of tmdb_ids that are in posters, desc, and script\n",
    "tmdb_id_posters = [int(j[5:-4]) for j in poster_list]\n",
    "tmdb_id_desc = list(dff['tmdb_id'])\n",
    "tmdb_id_script = list(df['tmdb_id'])\n",
    "\n",
    "# find tmdb ids that have poster, tmdb description, and film script\n",
    "tmdb_id_combined = [j for j in tmdb_id_desc if j in tmdb_id_posters]\n",
    "tmdb_id_combined = [j for j in tmdb_id_combined if j in tmdb_id_script]\n",
    "len(tmdb_id_combined)"
   ]
  },
  {
   "cell_type": "code",
   "execution_count": 245,
   "metadata": {},
   "outputs": [],
   "source": [
    "# drop rows that are not in tmdb_id_combined\n",
    "dff = dff[dff['tmdb_id'].isin(tmdb_id_combined)]\n",
    "df = df[df['tmdb_id'].isin(tmdb_id_combined)]\n"
   ]
  },
  {
   "cell_type": "code",
   "execution_count": 246,
   "metadata": {},
   "outputs": [],
   "source": [
    "poster_list = [poster_list[j] for j in range(len(tmdb_id_posters)) if tmdb_id_posters[j] in tmdb_id_combined]\n",
    "tmdb_id_posters = [int(j[5:-4]) for j in poster_list]\n",
    "df_posters = pd.DataFrame(list(zip(tmdb_id_posters, poster_list)), columns=['tmdb_id', 'poster_img'])"
   ]
  },
  {
   "cell_type": "code",
   "execution_count": 318,
   "metadata": {},
   "outputs": [],
   "source": [
    "df_embedding = df[['imdb_id','tmdb_id','movie_title', 'movie_year', 'script_text']].copy()\n",
    "df_embedding = df_embedding.join(dff.set_index('tmdb_id'), on='tmdb_id', how='left')\n",
    "df_embedding = df_embedding.join(df_posters.set_index('tmdb_id'), on='tmdb_id', how='left')\n",
    "df_embedding = df_embedding.join(df_spaces.set_index('imdb_id'), on='imdb_id', how='left')\n",
    "\n",
    "df_embedding.to_csv('df_embeddings.csv')"
   ]
  },
  {
   "cell_type": "markdown",
   "metadata": {},
   "source": [
    "# build embeddings for tmdb description text"
   ]
  },
  {
   "cell_type": "code",
   "execution_count": 356,
   "metadata": {},
   "outputs": [],
   "source": [
    "model = SentenceTransformer('multi-qa-MiniLM-L6-cos-v1')"
   ]
  },
  {
   "cell_type": "code",
   "execution_count": 258,
   "metadata": {},
   "outputs": [],
   "source": [
    "# will take ~10 minutes to embed all tmdb descriptions\n",
    "embeddings_tmdb_desc = [model.encode(jscript) for jscript in df_embedding['tmdb_description']]\n",
    "\n",
    "# print(\"Similarity:\", util.dot_score(query_embedding, passage_embedding))"
   ]
  },
  {
   "cell_type": "markdown",
   "metadata": {},
   "source": [
    "# build embeddings for script text"
   ]
  },
  {
   "cell_type": "code",
   "execution_count": 357,
   "metadata": {},
   "outputs": [],
   "source": [
    "# will take ~2 hours to embed all scripts\n",
    "embeddings_scripts = [model.encode(jscript) for jscript in df_embedding['script_text']]"
   ]
  },
  {
   "cell_type": "code",
   "execution_count": 363,
   "metadata": {},
   "outputs": [],
   "source": [
    "genres = [j.split(',') for j in df_embedding['genre']]\n",
    "genre = []\n",
    "for j in genres:\n",
    "    for k in j:\n",
    "        if(k not in genre):\n",
    "            genre.append(k)"
   ]
  },
  {
   "cell_type": "code",
   "execution_count": 364,
   "metadata": {},
   "outputs": [
    {
     "data": {
      "text/plain": [
       "['Romance',\n",
       " 'Comedy',\n",
       " 'Drama',\n",
       " 'Thriller',\n",
       " 'Documentary',\n",
       " 'Biography',\n",
       " 'Music',\n",
       " 'Horror',\n",
       " 'War',\n",
       " 'Family',\n",
       " 'Western',\n",
       " 'Adventure',\n",
       " 'Crime',\n",
       " 'Animation',\n",
       " 'Mystery',\n",
       " 'Fantasy',\n",
       " 'Musical',\n",
       " 'Sci-Fi',\n",
       " 'Action',\n",
       " 'Film-Noir',\n",
       " 'Short',\n",
       " 'History',\n",
       " 'Sport',\n",
       " 'Adult',\n",
       " '\\\\N',\n",
       " 'Talk-Show',\n",
       " 'News',\n",
       " 'NA',\n",
       " 'Game-Show',\n",
       " 'Reality-TV']"
      ]
     },
     "execution_count": 364,
     "metadata": {},
     "output_type": "execute_result"
    }
   ],
   "source": [
    "genre"
   ]
  },
  {
   "cell_type": "markdown",
   "metadata": {},
   "source": [
    "# build embeddings for tmdb poster data"
   ]
  },
  {
   "cell_type": "code",
   "execution_count": 321,
   "metadata": {},
   "outputs": [
    {
     "data": {
      "text/html": [
       "<div>\n",
       "<style scoped>\n",
       "    .dataframe tbody tr th:only-of-type {\n",
       "        vertical-align: middle;\n",
       "    }\n",
       "\n",
       "    .dataframe tbody tr th {\n",
       "        vertical-align: top;\n",
       "    }\n",
       "\n",
       "    .dataframe thead th {\n",
       "        text-align: right;\n",
       "    }\n",
       "</style>\n",
       "<table border=\"1\" class=\"dataframe\">\n",
       "  <thead>\n",
       "    <tr style=\"text-align: right;\">\n",
       "      <th></th>\n",
       "      <th>imdb_id</th>\n",
       "      <th>tmdb_id</th>\n",
       "      <th>movie_title</th>\n",
       "      <th>movie_year</th>\n",
       "      <th>script_text</th>\n",
       "      <th>tmdb_description</th>\n",
       "      <th>poster_img</th>\n",
       "      <th>genre</th>\n",
       "      <th>average_rating</th>\n",
       "      <th>num_votes</th>\n",
       "    </tr>\n",
       "  </thead>\n",
       "  <tbody>\n",
       "    <tr>\n",
       "      <th>0</th>\n",
       "      <td>tt10919164</td>\n",
       "      <td>472886</td>\n",
       "      <td>A 2nd Hand Lover</td>\n",
       "      <td>2015</td>\n",
       "      <td>Wow! Amazing! What a beautiful place. Im meet...</td>\n",
       "      <td>Ajay Rao is an aspiring rockstar, who comes to...</td>\n",
       "      <td>tmdb_472886.png</td>\n",
       "      <td>Romance</td>\n",
       "      <td>4.7</td>\n",
       "      <td>6.0</td>\n",
       "    </tr>\n",
       "    <tr>\n",
       "      <th>1</th>\n",
       "      <td>tt5684466</td>\n",
       "      <td>372399</td>\n",
       "      <td>A Aa</td>\n",
       "      <td>2016</td>\n",
       "      <td>3 My every birthday, Mom hopes for something....</td>\n",
       "      <td>The love affair, conspired by creation, betwee...</td>\n",
       "      <td>tmdb_372399.png</td>\n",
       "      <td>Comedy,Drama,Romance</td>\n",
       "      <td>6.8</td>\n",
       "      <td>3310.0</td>\n",
       "    </tr>\n",
       "    <tr>\n",
       "      <th>2</th>\n",
       "      <td>tt15331880</td>\n",
       "      <td>938971</td>\n",
       "      <td>A Baby at Any Cost</td>\n",
       "      <td>2022</td>\n",
       "      <td>0 Jen? Jen? Jen? Oops... sorry! Jason? Oh, sh...</td>\n",
       "      <td>When a surrogate grows too fond of the baby sh...</td>\n",
       "      <td>tmdb_938971.png</td>\n",
       "      <td>Thriller</td>\n",
       "      <td>5.6</td>\n",
       "      <td>147.0</td>\n",
       "    </tr>\n",
       "    <tr>\n",
       "      <th>3</th>\n",
       "      <td>tt5212918</td>\n",
       "      <td>438424</td>\n",
       "      <td>A Bad Idea Gone Wrong</td>\n",
       "      <td>2017</td>\n",
       "      <td>1 - The tropical places, you know, thats the ...</td>\n",
       "      <td>Two would-be thieves forge a surprising relati...</td>\n",
       "      <td>tmdb_438424.png</td>\n",
       "      <td>Comedy</td>\n",
       "      <td>5.8</td>\n",
       "      <td>1246.0</td>\n",
       "    </tr>\n",
       "    <tr>\n",
       "      <th>4</th>\n",
       "      <td>tt6359956</td>\n",
       "      <td>431530</td>\n",
       "      <td>A Bad Moms Christmas</td>\n",
       "      <td>2017</td>\n",
       "      <td>1 My name is Amy Mitchell, and this year Ive ...</td>\n",
       "      <td>Amy, Kiki and Carla – three under-appreciated ...</td>\n",
       "      <td>tmdb_431530.png</td>\n",
       "      <td>Comedy</td>\n",
       "      <td>5.6</td>\n",
       "      <td>54137.0</td>\n",
       "    </tr>\n",
       "  </tbody>\n",
       "</table>\n",
       "</div>"
      ],
      "text/plain": [
       "      imdb_id  tmdb_id            movie_title  movie_year  \\\n",
       "0  tt10919164   472886       A 2nd Hand Lover        2015   \n",
       "1   tt5684466   372399                   A Aa        2016   \n",
       "2  tt15331880   938971     A Baby at Any Cost        2022   \n",
       "3   tt5212918   438424  A Bad Idea Gone Wrong        2017   \n",
       "4   tt6359956   431530   A Bad Moms Christmas        2017   \n",
       "\n",
       "                                         script_text  \\\n",
       "0   Wow! Amazing! What a beautiful place. Im meet...   \n",
       "1   3 My every birthday, Mom hopes for something....   \n",
       "2   0 Jen? Jen? Jen? Oops... sorry! Jason? Oh, sh...   \n",
       "3   1 - The tropical places, you know, thats the ...   \n",
       "4   1 My name is Amy Mitchell, and this year Ive ...   \n",
       "\n",
       "                                    tmdb_description       poster_img  \\\n",
       "0  Ajay Rao is an aspiring rockstar, who comes to...  tmdb_472886.png   \n",
       "1  The love affair, conspired by creation, betwee...  tmdb_372399.png   \n",
       "2  When a surrogate grows too fond of the baby sh...  tmdb_938971.png   \n",
       "3  Two would-be thieves forge a surprising relati...  tmdb_438424.png   \n",
       "4  Amy, Kiki and Carla – three under-appreciated ...  tmdb_431530.png   \n",
       "\n",
       "                  genre  average_rating  num_votes  \n",
       "0               Romance             4.7        6.0  \n",
       "1  Comedy,Drama,Romance             6.8     3310.0  \n",
       "2              Thriller             5.6      147.0  \n",
       "3                Comedy             5.8     1246.0  \n",
       "4                Comedy             5.6    54137.0  "
      ]
     },
     "execution_count": 321,
     "metadata": {},
     "output_type": "execute_result"
    }
   ],
   "source": [
    "df_embedding.head()"
   ]
  },
  {
   "cell_type": "code",
   "execution_count": 365,
   "metadata": {},
   "outputs": [],
   "source": [
    "df_embedding['average_rating'] = df_embedding['average_rating'].fillna(-1)\n",
    "df_embedding['num_votes'] = df_embedding['num_votes'].fillna(-1)\n",
    "df_embedding['genre'] = df_embedding['genre'].fillna('NA')"
   ]
  },
  {
   "cell_type": "code",
   "execution_count": 366,
   "metadata": {},
   "outputs": [],
   "source": [
    "data_path = \"C:\\\\Users\\\\Nick\\\\Documents\\\\DataScience\\\\movie_recsys\\\\database\\\\dataset_tmdb\\\\posters\\\\\""
   ]
  },
  {
   "cell_type": "code",
   "execution_count": 367,
   "metadata": {},
   "outputs": [
    {
     "name": "stdout",
     "output_type": "stream",
     "text": [
      "0\n",
      "1000\n",
      "2000\n",
      "3000\n",
      "4000\n",
      "5000\n",
      "6000\n",
      "7000\n",
      "8000\n",
      "9000\n",
      "10000\n",
      "11000\n",
      "12000\n",
      "13000\n",
      "14000\n",
      "15000\n",
      "16000\n",
      "17000\n",
      "18000\n",
      "19000\n",
      "20000\n",
      "21000\n",
      "22000\n",
      "23000\n",
      "24000\n",
      "25000\n",
      "26000\n",
      "27000\n",
      "28000\n",
      "29000\n",
      "30000\n",
      "31000\n",
      "32000\n"
     ]
    }
   ],
   "source": [
    "dataset = fo.Dataset()\n",
    "for j in range(len(df_embedding)):\n",
    "    file_str = data_path + df_embedding.iloc[j]['poster_img']\n",
    "    sample = fo.Sample(filepath=file_str)\n",
    "    dataset.add_sample(sample)\n",
    "    # sample['id'] = df_embedding.iloc[j]['tmdb_id']\n",
    "    sample['genre'] = df_embedding.iloc[j]['genre'].split(',')\n",
    "    sample['movie_year'] = df_embedding.iloc[j]['movie_year']\n",
    "    sample['movie_title'] = df_embedding.iloc[j]['movie_title']\n",
    "    sample['average_rating'] = df_embedding.iloc[j]['average_rating']\n",
    "    sample['num_votes'] = df_embedding.iloc[j]['num_votes']\n",
    "    sample.save()\n",
    "    if(j%1000 == 0):\n",
    "        print(j)"
   ]
  },
  {
   "cell_type": "code",
   "execution_count": 379,
   "metadata": {},
   "outputs": [],
   "source": [
    "datatemp = dataset"
   ]
  },
  {
   "cell_type": "code",
   "execution_count": 380,
   "metadata": {},
   "outputs": [
    {
     "name": "stdout",
     "output_type": "stream",
     "text": [
      "True\n",
      "  45% |█████|-------| 14437/32173 [1.1h elapsed, 1.5h remaining, 2.7 samples/s]    "
     ]
    }
   ],
   "source": [
    "# Load a resnet from the model zoo\n",
    "model = foz.load_zoo_model(\"resnet50-imagenet-torch\")\n",
    "\n",
    "# Verify that the model exposes embeddings\n",
    "print(model.has_embeddings)\n",
    "# True\n",
    "\n",
    "# Compute embeddings for each image\n",
    "embeddings = datatemp.compute_embeddings(model)\n",
    "print(embeddings.shape)\n",
    "# 10000 x 2048\n",
    "\n",
    "\n"
   ]
  },
  {
   "cell_type": "code",
   "execution_count": 373,
   "metadata": {},
   "outputs": [
    {
     "data": {
      "text/plain": [
       "2.2222222222222223"
      ]
     },
     "execution_count": 373,
     "metadata": {},
     "output_type": "execute_result"
    }
   ],
   "source": [
    "32000/4/3600"
   ]
  },
  {
   "cell_type": "code",
   "execution_count": 376,
   "metadata": {},
   "outputs": [
    {
     "name": "stdout",
     "output_type": "stream",
     "text": [
      "Generating visualization...\n",
      "UMAP(n_components=3, random_state=51, verbose=True)\n",
      "Sat Oct 21 21:41:39 2023 Construct fuzzy simplicial set\n"
     ]
    },
    {
     "name": "stderr",
     "output_type": "stream",
     "text": [
      "c:\\Users\\Nick\\.conda\\envs\\recsys_movie\\lib\\site-packages\\umap\\umap_.py:1943: UserWarning:\n",
      "\n",
      "n_jobs value -1 overridden to 1 by setting random_state. Use no seed for parallelism.\n",
      "\n"
     ]
    },
    {
     "name": "stdout",
     "output_type": "stream",
     "text": [
      "Sat Oct 21 21:41:39 2023 Finding Nearest Neighbors\n",
      "Sat Oct 21 21:41:39 2023 Finished Nearest Neighbor Search\n",
      "Sat Oct 21 21:41:39 2023 Construct embedding\n"
     ]
    },
    {
     "data": {
      "application/vnd.jupyter.widget-view+json": {
       "model_id": "bbce5bfc9ebe49d088eb66a2e4564013",
       "version_major": 2,
       "version_minor": 0
      },
      "text/plain": [
       "Epochs completed:   0%|            0/500 [00:00]"
      ]
     },
     "metadata": {},
     "output_type": "display_data"
    },
    {
     "name": "stdout",
     "output_type": "stream",
     "text": [
      "\tcompleted  0  /  500 epochs\n",
      "\tcompleted  50  /  500 epochs\n",
      "\tcompleted  100  /  500 epochs\n",
      "\tcompleted  150  /  500 epochs\n",
      "\tcompleted  200  /  500 epochs\n",
      "\tcompleted  250  /  500 epochs\n",
      "\tcompleted  300  /  500 epochs\n",
      "\tcompleted  350  /  500 epochs\n",
      "\tcompleted  400  /  500 epochs\n",
      "\tcompleted  450  /  500 epochs\n",
      "Sat Oct 21 21:41:41 2023 Finished embedding\n",
      "Generating visualization...\n",
      "UMAP(n_components=3, random_state=51, verbose=True)\n",
      "Sat Oct 21 21:41:41 2023 Construct fuzzy simplicial set\n"
     ]
    },
    {
     "name": "stderr",
     "output_type": "stream",
     "text": [
      "c:\\Users\\Nick\\.conda\\envs\\recsys_movie\\lib\\site-packages\\umap\\umap_.py:1943: UserWarning:\n",
      "\n",
      "n_jobs value -1 overridden to 1 by setting random_state. Use no seed for parallelism.\n",
      "\n"
     ]
    },
    {
     "name": "stdout",
     "output_type": "stream",
     "text": [
      "Sat Oct 21 21:41:41 2023 Finding Nearest Neighbors\n",
      "Sat Oct 21 21:41:41 2023 Finished Nearest Neighbor Search\n",
      "Sat Oct 21 21:41:41 2023 Construct embedding\n"
     ]
    },
    {
     "data": {
      "application/vnd.jupyter.widget-view+json": {
       "model_id": "c0a8fd62748a4bcfacb1025c1827c95c",
       "version_major": 2,
       "version_minor": 0
      },
      "text/plain": [
       "Epochs completed:   0%|            0/500 [00:00]"
      ]
     },
     "metadata": {},
     "output_type": "display_data"
    },
    {
     "name": "stdout",
     "output_type": "stream",
     "text": [
      "\tcompleted  0  /  500 epochs\n",
      "\tcompleted  50  /  500 epochs\n",
      "\tcompleted  100  /  500 epochs\n",
      "\tcompleted  150  /  500 epochs\n",
      "\tcompleted  200  /  500 epochs\n",
      "\tcompleted  250  /  500 epochs\n",
      "\tcompleted  300  /  500 epochs\n",
      "\tcompleted  350  /  500 epochs\n",
      "\tcompleted  400  /  500 epochs\n",
      "\tcompleted  450  /  500 epochs\n",
      "Sat Oct 21 21:41:43 2023 Finished embedding\n",
      "Generating visualization...\n",
      "UMAP(n_components=3, random_state=51, verbose=True)\n",
      "Sat Oct 21 21:41:43 2023 Construct fuzzy simplicial set\n"
     ]
    },
    {
     "name": "stderr",
     "output_type": "stream",
     "text": [
      "c:\\Users\\Nick\\.conda\\envs\\recsys_movie\\lib\\site-packages\\umap\\umap_.py:1943: UserWarning:\n",
      "\n",
      "n_jobs value -1 overridden to 1 by setting random_state. Use no seed for parallelism.\n",
      "\n"
     ]
    },
    {
     "name": "stdout",
     "output_type": "stream",
     "text": [
      "Sat Oct 21 21:41:43 2023 Finding Nearest Neighbors\n",
      "Sat Oct 21 21:41:43 2023 Finished Nearest Neighbor Search\n",
      "Sat Oct 21 21:41:43 2023 Construct embedding\n"
     ]
    },
    {
     "data": {
      "application/vnd.jupyter.widget-view+json": {
       "model_id": "f1e09d98d125497fa68c36f4b1afc818",
       "version_major": 2,
       "version_minor": 0
      },
      "text/plain": [
       "Epochs completed:   0%|            0/500 [00:00]"
      ]
     },
     "metadata": {},
     "output_type": "display_data"
    },
    {
     "name": "stdout",
     "output_type": "stream",
     "text": [
      "\tcompleted  0  /  500 epochs\n",
      "\tcompleted  50  /  500 epochs\n",
      "\tcompleted  100  /  500 epochs\n",
      "\tcompleted  150  /  500 epochs\n",
      "\tcompleted  200  /  500 epochs\n",
      "\tcompleted  250  /  500 epochs\n",
      "\tcompleted  300  /  500 epochs\n",
      "\tcompleted  350  /  500 epochs\n",
      "\tcompleted  400  /  500 epochs\n",
      "\tcompleted  450  /  500 epochs\n",
      "Sat Oct 21 21:41:45 2023 Finished embedding\n"
     ]
    }
   ],
   "source": [
    "# Compute 2D representation using pre-computed embeddings\n",
    "results = fob.compute_visualization(\n",
    "    datatemp,\n",
    "    embeddings=embeddings_tmdb_desc[0:1000],\n",
    "    num_dims=3,\n",
    "    brain_key=\"word_embeddings_tmdb\",\n",
    "    verbose=True,\n",
    "    seed=51,\n",
    ")\n",
    "\n",
    "# Compute 2D representation using pre-computed embeddings\n",
    "results = fob.compute_visualization(\n",
    "    datatemp,\n",
    "    embeddings=embeddings_scripts[0:1000],\n",
    "    num_dims=3,\n",
    "    brain_key=\"word_embeddings_scripts\",\n",
    "    verbose=True,\n",
    "    seed=51,\n",
    ")\n",
    "\n",
    "\n",
    "# Compute 2D representation using pre-computed embeddings\n",
    "results = fob.compute_visualization(\n",
    "    datatemp,\n",
    "    embeddings=embeddings[0:1000],\n",
    "    num_dims=3,\n",
    "    brain_key=\"image_embeddings\",\n",
    "    verbose=True,\n",
    "    seed=51,\n",
    ")\n",
    "\n"
   ]
  },
  {
   "cell_type": "code",
   "execution_count": null,
   "metadata": {},
   "outputs": [],
   "source": [
    "session = fo.launch_app(datatemp)\n",
    "\n",
    "plot = results.visualize(\n",
    "    labels=\"ground_truth.label\",\n",
    "    labels_title=\"time of day\",\n",
    "    axis_equal=True,\n",
    ")\n",
    "\n",
    "\n",
    "# Attach plot to session\n",
    "# session.plots.attach(plot)\n",
    "\n"
   ]
  },
  {
   "cell_type": "code",
   "execution_count": null,
   "metadata": {},
   "outputs": [],
   "source": []
  }
 ],
 "metadata": {
  "kernelspec": {
   "display_name": "recsys_movie",
   "language": "python",
   "name": "python3"
  },
  "language_info": {
   "codemirror_mode": {
    "name": "ipython",
    "version": 3
   },
   "file_extension": ".py",
   "mimetype": "text/x-python",
   "name": "python",
   "nbconvert_exporter": "python",
   "pygments_lexer": "ipython3",
   "version": "3.9.18"
  }
 },
 "nbformat": 4,
 "nbformat_minor": 2
}
