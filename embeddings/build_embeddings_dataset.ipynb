{
 "cells": [
  {
   "cell_type": "code",
   "execution_count": null,
   "metadata": {},
   "outputs": [],
   "source": [
    "import numpy as np\n",
    "import pandas as pd\n",
    "import os"
   ]
  },
  {
   "cell_type": "markdown",
   "metadata": {},
   "source": [
    "## form dataframe with tmdb desc, poster, and script text"
   ]
  },
  {
   "cell_type": "code",
   "execution_count": null,
   "metadata": {},
   "outputs": [],
   "source": [
    "df = pd.read_csv(\n",
    "    \"..\\\\database\\\\dataset_film_scripts\\\\springfield_movie_scripts_2023_01_13_clean.csv\",\n",
    "    index_col=[0],\n",
    ")\n",
    "df = df[df[\"tmdb_id\"] > 0]\n",
    "\n",
    "dff = pd.read_csv(\"..\\\\database\\\\dataset_tmdb\\\\df_tmdb_description.csv\", index_col=[0])\n",
    "\n",
    "poster_list = os.listdir(\"..\\\\database\\\\dataset_tmdb\\\\posters\")\n",
    "\n",
    "df_spaces = pd.read_csv(\"..\\\\database\\\\dataset_spaces_upload.csv\", index_col=[0])\n",
    "df_spaces = df_spaces.drop_duplicates(subset=\"imdb_id\", keep=False)\n",
    "df_spaces = df_spaces[[\"imdb_id\", \"genre\", \"average_rating\", \"num_votes\"]]"
   ]
  },
  {
   "cell_type": "code",
   "execution_count": null,
   "metadata": {},
   "outputs": [],
   "source": [
    "# drop all duplicates from df and dff\n",
    "df = df.drop_duplicates(subset=[\"tmdb_id\"], keep=False)\n",
    "dff = dff.drop_duplicates(subset=[\"tmdb_id\"], keep=False)\n",
    "\n",
    "dff = dff[~dff[\"tmdb_description\"].isna()]"
   ]
  },
  {
   "cell_type": "code",
   "execution_count": null,
   "metadata": {},
   "outputs": [
    {
     "data": {
      "text/plain": [
       "32173"
      ]
     },
     "metadata": {},
     "output_type": "display_data"
    }
   ],
   "source": [
    "# find subset of tmdb_ids that are in posters, desc, and script\n",
    "tmdb_id_posters = [int(j[5:-4]) for j in poster_list]\n",
    "tmdb_id_desc = list(dff[\"tmdb_id\"])\n",
    "tmdb_id_script = list(df[\"tmdb_id\"])\n",
    "\n",
    "# find tmdb ids that have poster, tmdb description, and film script\n",
    "tmdb_id_combined = [j for j in tmdb_id_desc if j in tmdb_id_posters]\n",
    "tmdb_id_combined = [j for j in tmdb_id_combined if j in tmdb_id_script]\n",
    "len(tmdb_id_combined)"
   ]
  },
  {
   "cell_type": "code",
   "execution_count": null,
   "metadata": {},
   "outputs": [],
   "source": [
    "# drop rows that are not in tmdb_id_combined\n",
    "dff = dff[dff[\"tmdb_id\"].isin(tmdb_id_combined)]\n",
    "df = df[df[\"tmdb_id\"].isin(tmdb_id_combined)]"
   ]
  },
  {
   "cell_type": "code",
   "execution_count": null,
   "metadata": {},
   "outputs": [],
   "source": [
    "poster_list = [\n",
    "    poster_list[j]\n",
    "    for j in range(len(tmdb_id_posters))\n",
    "    if tmdb_id_posters[j] in tmdb_id_combined\n",
    "]\n",
    "tmdb_id_posters = [int(j[5:-4]) for j in poster_list]\n",
    "df_posters = pd.DataFrame(\n",
    "    list(zip(tmdb_id_posters, poster_list)), columns=[\"tmdb_id\", \"poster_img\"]\n",
    ")"
   ]
  },
  {
   "cell_type": "code",
   "execution_count": null,
   "metadata": {},
   "outputs": [],
   "source": [
    "df_embedding = df[\n",
    "    [\"imdb_id\", \"tmdb_id\", \"movie_title\", \"movie_year\", \"script_text\"]\n",
    "].copy()\n",
    "df_embedding = df_embedding.join(dff.set_index(\"tmdb_id\"), on=\"tmdb_id\", how=\"left\")\n",
    "df_embedding = df_embedding.join(\n",
    "    df_posters.set_index(\"tmdb_id\"), on=\"tmdb_id\", how=\"left\"\n",
    ")\n",
    "df_embedding = df_embedding.join(\n",
    "    df_spaces.set_index(\"imdb_id\"), on=\"imdb_id\", how=\"left\"\n",
    ")\n",
    "\n",
    "df_embedding[\"average_rating\"] = df_embedding[\"average_rating\"].fillna(-1)\n",
    "df_embedding[\"num_votes\"] = df_embedding[\"num_votes\"].fillna(-1)\n",
    "df_embedding[\"genre\"] = df_embedding[\"genre\"].fillna(\"None Listed\")\n",
    "df_embedding.loc[\n",
    "    df_embedding[df_embedding[\"genre\"] == \"\\\\N\"].index, \"genre\"\n",
    "] = \"None Listed\"\n",
    "df_embedding[\"script_id\"] = df_embedding.index\n",
    "df_embedding = df_embedding.reset_index(drop=True)\n",
    "\n",
    "df_embedding = df_embedding[\n",
    "    [\n",
    "        \"movie_title\",\n",
    "        \"movie_year\",\n",
    "        \"genre\",\n",
    "        \"average_rating\",\n",
    "        \"num_votes\",\n",
    "        \"script_text\",\n",
    "        \"tmdb_description\",\n",
    "        \"poster_img\",\n",
    "        \"tmdb_id\",\n",
    "        \"imdb_id\",\n",
    "        \"script_id\",\n",
    "    ]\n",
    "]\n",
    "\n",
    "df_embedding.to_csv(\"df_embeddings.csv\")"
   ]
  }
 ],
 "metadata": {
  "kernelspec": {
   "display_name": "recsys_movie",
   "language": "python",
   "name": "python3"
  },
  "language_info": {
   "name": "python",
   "version": "3.9.18"
  }
 },
 "nbformat": 4,
 "nbformat_minor": 2
}
