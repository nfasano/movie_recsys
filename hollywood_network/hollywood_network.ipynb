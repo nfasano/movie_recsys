{
 "cells": [
  {
   "cell_type": "code",
   "execution_count": 8,
   "metadata": {},
   "outputs": [],
   "source": [
    "import pandas as pd\n",
    "import numpy as np\n",
    "import pickle\n",
    "\n",
    "import pypyodbc as podbc\n",
    "from pyvis.network import Network\n",
    "\n",
    "\n",
    "import warnings\n",
    "warnings.filterwarnings(\"ignore\", category=UserWarning)\n",
    "\n",
    "\n"
   ]
  },
  {
   "cell_type": "code",
   "execution_count": 2,
   "metadata": {},
   "outputs": [],
   "source": [
    "DRIVER_NAME = 'SQL SERVER'\n",
    "SERVER_NAME = 'NicksComputer\\SQLEXPRESS'\n",
    "DATABASE_NAME = 'movie_recsys'\n",
    "\n",
    "connection_string = f\"\"\"\n",
    "DRIVER={{{DRIVER_NAME}}};\n",
    "SERVER={SERVER_NAME};\n",
    "DATABASE={DATABASE_NAME};\n",
    "Trust_Connection=yes;\n",
    "\"\"\"\n",
    "\n",
    "conn = podbc.connect(connection_string)"
   ]
  },
  {
   "cell_type": "markdown",
   "metadata": {},
   "source": [
    "## Print top 5 rows from each table"
   ]
  },
  {
   "cell_type": "code",
   "execution_count": 3,
   "metadata": {},
   "outputs": [
    {
     "name": "stdout",
     "output_type": "stream",
     "text": [
      "Name Basics\n",
      "|    | nconst    | primaryname   |   birthyear |   deathyear | primaryprofession             | knownfortitles                          |\n",
      "|---:|:----------|:--------------|------------:|------------:|:------------------------------|:----------------------------------------|\n",
      "|  0 | nm0649057 | Wim Opbrouck  |        1969 |           0 | actor,writer                  | tt0275154,tt5258726,tt3892822,tt0126764 |\n",
      "|  1 | nm0649059 | Carina Opdam  |           0 |           0 | art_director,costume_designer | tt0138207                               |\n",
      "|  2 | nm0649060 | Travis Opdyke |           0 |           0 | actor                         | tt0165833                               |\n",
      "|  3 | nm0649061 | Opec          |           0 |           0 | actress                       | tt0181377                               |\n",
      "|  4 | nm0649062 | Nancy Opel    |           0 |           0 | actress,costume_designer      | tt1515193,tt0203259,tt0266747,tt0119349 |\n",
      "\n",
      "Title Basics\n",
      "|    | tconst    | titletype   | primarytitle           | originaltitle          |   isadult |   startyear |   endyear |   runtimeminutes | genres                   |\n",
      "|---:|:----------|:------------|:-----------------------|:-----------------------|----------:|------------:|----------:|-----------------:|:-------------------------|\n",
      "|  0 | tt0000001 | short       | Carmencita             | Carmencita             |         0 |        1894 |         0 |                1 | Documentary,Short        |\n",
      "|  1 | tt0000002 | short       | Le clown et ses chiens | Le clown et ses chiens |         0 |        1892 |         0 |                5 | Animation,Short          |\n",
      "|  2 | tt0000003 | short       | Pauvre Pierrot         | Pauvre Pierrot         |         0 |        1892 |         0 |                4 | Animation,Comedy,Romance |\n",
      "|  3 | tt0000004 | short       | Un bon bock            | Un bon bock            |         0 |        1892 |         0 |               12 | Animation,Short          |\n",
      "|  4 | tt0000005 | short       | Blacksmith Scene       | Blacksmith Scene       |         0 |        1893 |         0 |                1 | Comedy,Short             |\n",
      "\n",
      "Title Crew\n",
      "|    | tconst     | directors   | writers   |\n",
      "|---:|:-----------|:------------|:----------|\n",
      "|  0 | tt10817940 | \\N          | \\N        |\n",
      "|  1 | tt10817942 | \\N          | \\N        |\n",
      "|  2 | tt10817944 | \\N          | \\N        |\n",
      "|  3 | tt10817946 | \\N          | \\N        |\n",
      "|  4 | tt10817948 | \\N          | \\N        |\n",
      "\n",
      "Title Episodes\n",
      "|    | tconst    | parenttconst   |   seasonnumber |   episodenumber |\n",
      "|---:|:----------|:---------------|---------------:|----------------:|\n",
      "|  0 | tt8873612 | tt8870676      |              1 |               1 |\n",
      "|  1 | tt8873616 | tt8870676      |              1 |               2 |\n",
      "|  2 | tt8873620 | tt8870676      |              1 |               3 |\n",
      "|  3 | tt8873626 | tt8870676      |              1 |               4 |\n",
      "|  4 | tt8873628 | tt8870676      |              1 |               5 |\n",
      "\n",
      "Title Principals\n",
      "|    | tconst    |   ordering | nconst    | category        | job                     | characters   |\n",
      "|---:|:----------|-----------:|:----------|:----------------|:------------------------|:-------------|\n",
      "|  0 | tt0713428 |          6 | nm0293750 | writer          | writer                  | \\N           |\n",
      "|  1 | tt0713428 |          7 | nm0007163 | producer        | executive producer      | \\N           |\n",
      "|  2 | tt0713428 |          8 | nm0454349 | composer        | \\N                      | \\N           |\n",
      "|  3 | tt0713428 |          9 | nm0643761 | cinematographer | director of photography | \\N           |\n",
      "|  4 | tt0713429 |         10 | nm0643761 | cinematographer | director of photography | \\N           |\n",
      "\n",
      "Title Ratings\n",
      "|    | tconst    |   averagerating |   numvotes |\n",
      "|---:|:----------|----------------:|-----------:|\n",
      "|  0 | tt0000001 |             5.7 |       1949 |\n",
      "|  1 | tt0000002 |             5.8 |        264 |\n",
      "|  2 | tt0000003 |             6.5 |       1782 |\n",
      "|  3 | tt0000004 |             5.6 |        179 |\n",
      "|  4 | tt0000005 |             6.2 |       2582 |\n",
      "\n"
     ]
    }
   ],
   "source": [
    "sql = []\n",
    "table_str = []\n",
    "\n",
    "table_str.append('Name Basics')\n",
    "table_str.append('Title Basics')\n",
    "table_str.append('Title Crew')\n",
    "table_str.append('Title Episodes')\n",
    "table_str.append('Title Principals')\n",
    "table_str.append('Title Ratings')\n",
    "sql.append(\"\"\"\n",
    "           SELECT TOP(5) *\n",
    "           FROM nameBasics \n",
    "           \"\"\")\n",
    "sql.append(\"\"\"\n",
    "           SELECT TOP(5) *\n",
    "           FROM titleBasics \n",
    "           \"\"\")\n",
    "sql.append(\"\"\"\n",
    "           SELECT TOP(5) *\n",
    "           FROM titleCrew\n",
    "           \"\"\")\n",
    "sql.append(\"\"\"\n",
    "           SELECT TOP(5) *\n",
    "           FROM titleEpisode\n",
    "           \"\"\")\n",
    "sql.append(\"\"\"\n",
    "           SELECT TOP(5) *\n",
    "           FROM titlePrincipals \n",
    "           \"\"\")\n",
    "sql.append(\"\"\"\n",
    "           SELECT TOP(5) *\n",
    "           FROM titleRatings\n",
    "           \"\"\")\n",
    "\n",
    "for j, jsql in enumerate(sql):\n",
    "    print(table_str[j])\n",
    "    print(pd.read_sql_query(jsql, conn).to_markdown() + '\\n')\n",
    "\n",
    "\n",
    "\n"
   ]
  },
  {
   "cell_type": "markdown",
   "metadata": {},
   "source": [
    "## Query some basic information from the database"
   ]
  },
  {
   "cell_type": "code",
   "execution_count": null,
   "metadata": {},
   "outputs": [],
   "source": [
    "print('Is Kate Winslet in the database?')\n",
    "sql = \"\"\"\n",
    "SELECT TOP(10) *\n",
    "FROM nameBasics \n",
    "WHERE primaryName LIKE 'Bruce Scivally'\n",
    "\"\"\"\n",
    "pd.read_sql_query(sql, conn)"
   ]
  },
  {
   "cell_type": "code",
   "execution_count": null,
   "metadata": {},
   "outputs": [],
   "source": [
    "print('Is Morgan Freeman in the database?')\n",
    "sql = \"\"\"\n",
    "SELECT TOP(10) *\n",
    "FROM nameBasics\n",
    "WHERE primaryName LIKE '%%'\n",
    "\"\"\"\n",
    "\n",
    "pd.read_sql_query(sql, conn).head()\n"
   ]
  },
  {
   "cell_type": "code",
   "execution_count": null,
   "metadata": {},
   "outputs": [],
   "source": [
    "print('Is King of Queens in the database?')\n",
    "sql = \"\"\"\n",
    "SELECT TOP(1) tconst, titleType, primaryTitle\n",
    "FROM titleBasics\n",
    "WHERE primaryTitle LIKE '%king of queens%'\n",
    "\"\"\"\n",
    "\n",
    "pd.read_sql_query(sql, conn).head()"
   ]
  },
  {
   "cell_type": "code",
   "execution_count": null,
   "metadata": {},
   "outputs": [],
   "source": [
    "print('Are there any duplicate actors/actresses in the database?')\n",
    "sql=\"\"\"\n",
    "SELECT DISTINCT primaryName, count(primaryName) AS countActor\n",
    "FROM nameBasics\n",
    "WHERE primaryProfession LIKE '%actor%' OR\n",
    "\t  primaryProfession LIKE '%actress%'\n",
    "GROUP BY primaryName ORDER BY countActor DESC\n",
    "\"\"\"\n",
    "print(pd.read_sql_query(sql, conn).head(50).to_markdown())"
   ]
  },
  {
   "cell_type": "code",
   "execution_count": null,
   "metadata": {},
   "outputs": [],
   "source": [
    "print(\"What is the longest running show on television? sort by seasonNumber and then episode number\")\n",
    "sql=\"\"\"\n",
    "SELECT TOP(5) tB.primaryTitle, MAX(tE.seasonNumber) as SN, MAX(tE.episodeNumber) as EN,  \n",
    "    MAX(tE.episodeNumber)*MAX(tE.seasonNumber) AS EpCount\n",
    "FROM titleEpisode AS tE INNER JOIN titleBasics as tB ON tE.parentTconst=tB.tconst\n",
    "GROUP BY tB.primaryTitle\n",
    "HAVING MAX(tE.episodeNumber)*MAX(tE.seasonNumber) > 8000\n",
    "ORDER BY EpCount DESC\n",
    "\"\"\"\n",
    "pd.read_sql_query(sql, conn).head()\n"
   ]
  },
  {
   "cell_type": "code",
   "execution_count": null,
   "metadata": {},
   "outputs": [],
   "source": [
    "print('IMDB top 50')\n",
    "\n",
    "sql=\"\"\"\n",
    "SELECT tb.primaryTitle, tr.averageRating, tr.numVotes, tb.titleType\n",
    "FROM titleRatings as tr JOIN titleBasics as tb on tr.tconst = tb.tconst\n",
    "WHERE tr.numVotes > 50000 and tb.titleType LIKE 'movie'\n",
    "ORDER BY CAST(tr.averageRating AS FLOAT) DESC, CAST(tr.numVotes AS INT) DESC\n",
    "\"\"\"\n",
    "\n",
    "print(pd.read_sql_query(sql, conn).head(50).to_markdown())"
   ]
  },
  {
   "cell_type": "markdown",
   "metadata": {},
   "source": [
    "## Create actor-actor network"
   ]
  },
  {
   "cell_type": "code",
   "execution_count": 4,
   "metadata": {},
   "outputs": [
    {
     "name": "stdout",
     "output_type": "stream",
     "text": [
      "Which two actors have worked together the most\n",
      "Takes 25 minutes to execute All rows from CTE0 (~7million total) yields 21,565,150 Rows\n",
      "|    | name1                        | name2                      |   num_appearances |\n",
      "|---:|:-----------------------------|:---------------------------|------------------:|\n",
      "|  0 | Laxmikant Shantaram Kudalkar | Pyarelal Ramprasad Sharma  |               248 |\n",
      "|  1 | Veronique Del Rosario-Corpus | Vincent Del Rosario III    |               200 |\n",
      "|  2 | Jacob Grimm                  | Wilhelm Grimm              |               195 |\n",
      "|  3 | ShÃ´ji Sakai                 | Yutaka Ikejima             |               176 |\n",
      "|  4 | Kevin Dunn                   | Vince McMahon              |               163 |\n",
      "|  5 | Kuninori Yamazaki            | Sachi Hamano               |               146 |\n",
      "|  6 | Hsing-Lung Chiang            | Runme Shaw                 |               132 |\n",
      "|  7 | Chris Ridenhour              | David Michael Latt         |               132 |\n",
      "|  8 | Minoru Inao                  | ShÃ´ji Sakai               |               127 |\n",
      "|  9 | Ã‡etin GÃ¼rtop               | TÃ¼rker Inanoglu           |               124 |\n",
      "| 10 | Hsing-Lung Chiang            | Run Run Shaw               |               124 |\n",
      "| 11 | Satoru Kobayashi             | Tomoki Yanagida            |               121 |\n",
      "| 12 | ShÃ´ji Sakai                 | ShÃ´ji Shimizu             |               115 |\n",
      "| 13 | Anandji Veerji Shah          | Kalyanji Veerji Shah       |               112 |\n",
      "| 14 | KyÃ´ko Godai                 | ShÃ´ji Sakai               |               112 |\n",
      "| 15 | Gopalakrishna Paruchuri      | Paruchuri Venkateswara Rao |               112 |\n",
      "| 16 | Menahem Golan                | Yoram Globus               |               111 |\n",
      "| 17 | Sakae Nitta                  | Yukio Chiba                |               111 |\n",
      "| 18 | Leonardo Benvenuti           | Piero De Bernardi          |               108 |\n",
      "| 19 | Danielle Winter              | Jordan Hill                |               107 |\n",
      "| 20 | Kevin Dunn                   | Mark Calaway               |               106 |\n",
      "| 21 | KyÃ´ko Godai                 | Yutaka Ikejima             |               104 |\n",
      "| 22 | Anand Chitragupth            | Milind Chitragupth         |               104 |\n",
      "| 23 | Sakae Nitta                  | ShÃ´ji Sakai               |               100 |\n",
      "| 24 | Kevin Murphy                 | Michael J. Nelson          |                99 |\n",
      "| 25 | Guido De Angelis             | Maurizio De Angelis        |                99 |\n",
      "| 26 | Chris Ridenhour              | Christopher Cano           |                98 |\n",
      "| 27 | Kinya Ogawa                  | Mayumi SanjÃ´              |                97 |\n",
      "| 28 | Christopher Cano             | David Michael Latt         |                97 |\n",
      "| 29 | Leon Edery                   | Moshe Edery                |                96 |\n",
      "| 30 | Franco Castellano            | Giuseppe Moccia            |                94 |\n",
      "| 31 | Cheol-hyeok Lee              | Dong-Chun Hyeon            |                94 |\n",
      "| 32 | ShÃ´ji Sakai                 | Yukio Chiba                |                93 |\n",
      "| 33 | Bill Corbett                 | Michael J. Nelson          |                92 |\n",
      "| 34 | Bill Corbett                 | Kevin Murphy               |                92 |\n",
      "| 35 | Mototsugu Watanabe           | ShÃ´ji Sakai               |                92 |\n",
      "| 36 | Agenore Incrocci             | Furio Scarpelli            |                90 |\n",
      "| 37 | Joseph Merhi                 | Richard Pepin              |                90 |\n",
      "| 38 | Jaikishan Dayabhai Panchal   | Shankarsingh Raghuwanshi   |                89 |\n",
      "| 39 | Fu-Ling Wang                 | Hsing-Lung Chiang          |                89 |\n",
      "| 40 | ShÃ´ji Sakai                 | Teruo Oka                  |                88 |\n",
      "| 41 | Masahide Iioka               | ShÃ´ji Sakai               |                87 |\n",
      "| 42 | Jeffery Beach                | Phillip J. Roth            |                85 |\n",
      "| 43 | Giuseppe Giacosa             | Luigi Illica               |                84 |\n",
      "| 44 | Hitomi Oba                   | ShÃ´ji Sakai               |                82 |\n",
      "| 45 | Jeffrey Schenck              | Peter Sullivan             |                80 |\n",
      "| 46 | Mark Calaway                 | Vince McMahon              |                79 |\n",
      "| 47 | Calum Waddell                | Naomi Holwill              |                77 |\n",
      "| 48 | Berker Inanoglu              | Safa Ã–nal                 |                77 |\n",
      "| 49 | Masashi Inayoshi             | ShÃ´ji Sakai               |                77 |\n"
     ]
    }
   ],
   "source": [
    "print('Which two actors have worked together the most')\n",
    "print('Takes 25 minutes to execute All rows from CTE0 (~7million total) yields 21,565,150 Rows')\n",
    "sql=\"\"\"\n",
    "    With \n",
    "    CTE0 as (\n",
    "        SELECT tp.tconst, tp.nconst \n",
    "        FROM titlePrincipals as tp JOIN titleBasics as tb on tb.tconst = tp.tconst\n",
    "        WHERE (tb.titleType LIKE 'movie' OR tb.titleType LIKE 'tvMovie' OR tb.titleType LIKE 'video') \n",
    "        AND tb.startYear > 1950 AND tb.isAdult = 0 AND tb.runtimeMinutes > 20\n",
    "    ),\n",
    "\tCTE1 as (\n",
    "\t\tSELECT tp.tconst as tconst, nb.primaryName as primaryName\n",
    "\t\tFROM CTE0 as tp JOIN nameBasics as nb on nb.nconst = tp.nconst\n",
    "\t),\n",
    "\tCTE2 AS (\n",
    "\t\tSELECT c1.primaryName as name1, c2.primaryName as name2\n",
    "\t\tFROM CTE1 as c1 JOIN CTE1 as c2 on c1.tconst=c2.tconst\n",
    "\t\tWHERE c1.primaryName != c2.primaryName AND c1.primaryName < c2.primaryName \n",
    "\t)\n",
    "\tSELECT name1, name2, COUNT(name1) as num_appearances\n",
    "\tFROM CTE2\n",
    "\tGROUP BY name1, name2\n",
    "    ORDER BY num_appearances DESC\n",
    "    \"\"\"\n",
    "\n",
    "df_final = pd.read_sql_query(sql, conn)\n",
    "print(df_final.head(50).to_markdown())\n",
    "# df_final.to_csv('df_final.csv')"
   ]
  },
  {
   "cell_type": "code",
   "execution_count": null,
   "metadata": {},
   "outputs": [],
   "source": [
    "df_final = pd.read_csv('df_final.csv', index_col=[0])"
   ]
  },
  {
   "cell_type": "code",
   "execution_count": 263,
   "metadata": {},
   "outputs": [],
   "source": [
    "df = df_final.copy()\n",
    "df.columns = ['source', 'target', 'weight']"
   ]
  },
  {
   "cell_type": "code",
   "execution_count": 264,
   "metadata": {},
   "outputs": [],
   "source": [
    "df = df[df['weight'] > 2.5]"
   ]
  },
  {
   "cell_type": "code",
   "execution_count": 265,
   "metadata": {},
   "outputs": [],
   "source": [
    "# keep only names that appear in the list 20 times \n",
    "dftemp = pd.concat([df['source'], df['target']], ignore_index=True).value_counts()\n",
    "jkeep = 5\n",
    "node_labels = dftemp[(dftemp > jkeep)].index\n",
    "\n",
    "num_node_labels = len(node_labels)\n",
    "node_encoding = list(range(num_node_labels))\n",
    "\n",
    "map_key = {node_labels[j]:node_encoding[j] for j in range(num_node_labels)}\n",
    "df['source'] = df['source'].map(map_key)\n",
    "df['target'] = df['target'].map(map_key)\n",
    "\n",
    "df = df.dropna()"
   ]
  },
  {
   "cell_type": "code",
   "execution_count": 271,
   "metadata": {},
   "outputs": [],
   "source": [
    "with open(\"hollywood_celebs.txt\", \"rb\") as f:\n",
    "    hollywood_celebs = pickle.load(f)\n",
    "hollywood_celebs = hollywood_celebs[0:200]"
   ]
  },
  {
   "cell_type": "code",
   "execution_count": 272,
   "metadata": {},
   "outputs": [],
   "source": [
    "actor_name = [map_key[j] for j in hollywood_celebs if j in list(map_key.keys())]\n",
    "df = df[df['source'].isin(actor_name) | df['target'].isin(actor_name)]"
   ]
  },
  {
   "cell_type": "code",
   "execution_count": 273,
   "metadata": {},
   "outputs": [],
   "source": [
    "edges = [(df.iloc[j]['source'], df.iloc[j]['target'], df.iloc[j]['weight']) for j in range(len(df)) if df.iloc[j]['weight']>1]"
   ]
  },
  {
   "cell_type": "code",
   "execution_count": 274,
   "metadata": {},
   "outputs": [],
   "source": [
    "unique_nodes = list(np.unique(list(df['source'].astype(int)) + list(df['target'].astype(int))))\n",
    "# compute size of nodes based on number of connections\n",
    "node_size = []\n",
    "for jactor in unique_nodes:\n",
    "    actor_weight = df[(df['target'] == jactor) | (df['source'] == jactor)]['weight']\n",
    "    node_size.append(np.sum(actor_weight))\n",
    "node_size = 150*np.array(node_size)/np.max(node_size)"
   ]
  },
  {
   "cell_type": "code",
   "execution_count": 279,
   "metadata": {},
   "outputs": [
    {
     "name": "stdout",
     "output_type": "stream",
     "text": [
      "hollywood_network.html\n",
      "939 1513\n"
     ]
    }
   ],
   "source": [
    "net = Network(notebook=True, cdn_resources='remote',\n",
    "              bgcolor='#222222', font_color='white', height='500px',\n",
    "              width='100%', select_menu=True, filter_menu=True)\n",
    "net.add_nodes(unique_nodes, label=node_labels[unique_nodes], size=node_size)\n",
    "\n",
    "net.add_nodes(unique_nodes, size=node_size)\n",
    "net.add_edges(edges)\n",
    "net.repulsion(node_distance=200, spring_length=10)\n",
    "net.show_buttons()\n",
    "net.show(\"hollywood_network.html\");\n",
    "\n",
    "print(len(unique_nodes), len(edges))"
   ]
  },
  {
   "cell_type": "markdown",
   "metadata": {},
   "source": [
    "## Create Gradio app"
   ]
  },
  {
   "cell_type": "code",
   "execution_count": 261,
   "metadata": {},
   "outputs": [],
   "source": [
    "with open(\"spaces_upload\\\\unique_nodes.txt\", \"wb\") as f:\n",
    "    pickle.dump(unique_nodes, f)\n",
    "with open(\"spaces_upload\\\\node_labels.txt\", \"wb\") as f:\n",
    "    pickle.dump(node_labels, f)\n",
    "with open(\"spaces_upload\\\\edges.txt\", \"wb\") as f:\n",
    "    pickle.dump(edges, f)\n",
    "df.to_csv('spaces_upload\\\\df_out.csv')"
   ]
  },
  {
   "cell_type": "code",
   "execution_count": 184,
   "metadata": {},
   "outputs": [
    {
     "name": "stdout",
     "output_type": "stream",
     "text": [
      "Running on local URL:  http://127.0.0.1:7872\n",
      "\n",
      "To create a public link, set `share=True` in `launch()`.\n"
     ]
    },
    {
     "data": {
      "text/html": [
       "<div><iframe src=\"http://127.0.0.1:7872/\" width=\"100%\" height=\"500\" allow=\"autoplay; camera; microphone; clipboard-read; clipboard-write;\" frameborder=\"0\" allowfullscreen></iframe></div>"
      ],
      "text/plain": [
       "<IPython.core.display.HTML object>"
      ]
     },
     "metadata": {},
     "output_type": "display_data"
    },
    {
     "data": {
      "text/plain": []
     },
     "execution_count": 184,
     "metadata": {},
     "output_type": "execute_result"
    }
   ],
   "source": [
    "import gradio as gr\n",
    "\n",
    "def needs_analysis():\n",
    "    # compute size of nodes based on number of connections\n",
    "    node_size = []\n",
    "    for jactor in unique_nodes:\n",
    "        actor_weight = df[(df['target'] == jactor) | (df['source'] == jactor)]['weight']\n",
    "        node_size.append(np.sum(actor_weight))\n",
    "    node_size = 50*np.array(node_size)/np.max(node_size)\n",
    "\n",
    "    net = Network(notebook=True,cdn_resources='remote',bgcolor='#222222',font_color='white',height='750px',width='100%',select_menu=True,filter_menu=True)\n",
    "    net.add_nodes(unique_nodes, label=node_labels[unique_nodes], size=node_size)\n",
    "\n",
    "    net.add_edges(edges)\n",
    "    net.repulsion(node_distance=200, spring_length=10)\n",
    "    # net.show_buttons()\n",
    "    net.toggle_physics(False)\n",
    "    html = net.generate_html()\n",
    "    #need to remove ' from HTML\n",
    "    html = html.replace(\"'\", \"\\\"\")\n",
    "    \n",
    "    return f\"\"\"<iframe style=\"width: 100%; height: 600px;margin:0 auto\" name=\"result\" allow=\"midi; geolocation; microphone; camera; \n",
    "    display-capture; encrypted-media;\" sandbox=\"allow-modals allow-forms \n",
    "    allow-scripts allow-same-origin allow-popups \n",
    "    allow-top-navigation-by-user-activation allow-downloads\" allowfullscreen=\"\" \n",
    "    allowpaymentrequest=\"\" frameborder=\"0\" srcdoc='{html}'></iframe>\"\"\"\n",
    "\n",
    "with gr.Blocks() as demo:\n",
    "    gr.HTML(value=needs_analysis())\n",
    "\n",
    "# demo = gr.Interface(\n",
    "#     needs_analysis,\n",
    "#     inputs=None,\n",
    "#     outputs=gr.outputs.HTML(),\n",
    "#     title=\"pyvis_in_gradio\",\n",
    "#     allow_flagging='never'\n",
    "# )\n",
    "\n",
    "demo.launch()"
   ]
  }
 ],
 "metadata": {
  "kernelspec": {
   "display_name": "recsys_movie",
   "language": "python",
   "name": "python3"
  },
  "language_info": {
   "codemirror_mode": {
    "name": "ipython",
    "version": 3
   },
   "file_extension": ".py",
   "mimetype": "text/x-python",
   "name": "python",
   "nbconvert_exporter": "python",
   "pygments_lexer": "ipython3",
   "version": "3.9.18"
  }
 },
 "nbformat": 4,
 "nbformat_minor": 2
}
