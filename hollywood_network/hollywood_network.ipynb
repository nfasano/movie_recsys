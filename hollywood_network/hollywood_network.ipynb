{
 "cells": [
  {
   "cell_type": "markdown",
   "metadata": {},
   "source": [
    "## hollywood_network/hollywood_network.ipynb\n",
    "\n",
    "External Dependencies:\n",
    "- IMDb Non-Commercial Datasets\n",
    "\n",
    "Returns:\n",
    "- hollywood_network.html: A html file that will display an interactive network graph"
   ]
  },
  {
   "cell_type": "code",
   "execution_count": 1,
   "metadata": {},
   "outputs": [],
   "source": [
    "import pandas as pd\n",
    "import numpy as np\n",
    "import pickle\n",
    "\n",
    "import pypyodbc as podbc\n",
    "from pyvis.network import Network\n",
    "\n",
    "import warnings\n",
    "\n",
    "warnings.filterwarnings(\"ignore\", category=UserWarning)"
   ]
  },
  {
   "cell_type": "code",
   "execution_count": 2,
   "metadata": {},
   "outputs": [],
   "source": [
    "DRIVER_NAME = \"SQL SERVER\"\n",
    "SERVER_NAME = \"NicksComputer\\SQLEXPRESS\"\n",
    "DATABASE_NAME = \"movie_recsys\"\n",
    "\n",
    "connection_string = f\"\"\"\n",
    "DRIVER={{{DRIVER_NAME}}};\n",
    "SERVER={SERVER_NAME};\n",
    "DATABASE={DATABASE_NAME};\n",
    "Trust_Connection=yes;\n",
    "\"\"\"\n",
    "\n",
    "conn = podbc.connect(connection_string)"
   ]
  },
  {
   "cell_type": "markdown",
   "metadata": {},
   "source": [
    "## Print top 5 rows from each table"
   ]
  },
  {
   "cell_type": "code",
   "execution_count": 3,
   "metadata": {},
   "outputs": [
    {
     "name": "stdout",
     "output_type": "stream",
     "text": [
      "Name Basics\n",
      "|    | nconst    | primaryname   |   birthyear |   deathyear | primaryprofession             | knownfortitles                          |\n",
      "|---:|:----------|:--------------|------------:|------------:|:------------------------------|:----------------------------------------|\n",
      "|  0 | nm0649057 | Wim Opbrouck  |        1969 |           0 | actor,writer                  | tt0275154,tt5258726,tt3892822,tt0126764 |\n",
      "|  1 | nm0649059 | Carina Opdam  |           0 |           0 | art_director,costume_designer | tt0138207                               |\n",
      "|  2 | nm0649060 | Travis Opdyke |           0 |           0 | actor                         | tt0165833                               |\n",
      "|  3 | nm0649061 | Opec          |           0 |           0 | actress                       | tt0181377                               |\n",
      "|  4 | nm0649062 | Nancy Opel    |           0 |           0 | actress,costume_designer      | tt1515193,tt0203259,tt0266747,tt0119349 |\n",
      "\n",
      "Title Basics\n",
      "|    | tconst    | titletype   | primarytitle           | originaltitle          |   isadult |   startyear |   endyear |   runtimeminutes | genres                   |\n",
      "|---:|:----------|:------------|:-----------------------|:-----------------------|----------:|------------:|----------:|-----------------:|:-------------------------|\n",
      "|  0 | tt0000001 | short       | Carmencita             | Carmencita             |         0 |        1894 |         0 |                1 | Documentary,Short        |\n",
      "|  1 | tt0000002 | short       | Le clown et ses chiens | Le clown et ses chiens |         0 |        1892 |         0 |                5 | Animation,Short          |\n",
      "|  2 | tt0000003 | short       | Pauvre Pierrot         | Pauvre Pierrot         |         0 |        1892 |         0 |                4 | Animation,Comedy,Romance |\n",
      "|  3 | tt0000004 | short       | Un bon bock            | Un bon bock            |         0 |        1892 |         0 |               12 | Animation,Short          |\n",
      "|  4 | tt0000005 | short       | Blacksmith Scene       | Blacksmith Scene       |         0 |        1893 |         0 |                1 | Comedy,Short             |\n",
      "\n",
      "Title Crew\n",
      "|    | tconst     | directors   | writers   |\n",
      "|---:|:-----------|:------------|:----------|\n",
      "|  0 | tt10817940 | \\N          | \\N        |\n",
      "|  1 | tt10817942 | \\N          | \\N        |\n",
      "|  2 | tt10817944 | \\N          | \\N        |\n",
      "|  3 | tt10817946 | \\N          | \\N        |\n",
      "|  4 | tt10817948 | \\N          | \\N        |\n",
      "\n",
      "Title Episodes\n",
      "|    | tconst    | parenttconst   |   seasonnumber |   episodenumber |\n",
      "|---:|:----------|:---------------|---------------:|----------------:|\n",
      "|  0 | tt8873612 | tt8870676      |              1 |               1 |\n",
      "|  1 | tt8873616 | tt8870676      |              1 |               2 |\n",
      "|  2 | tt8873620 | tt8870676      |              1 |               3 |\n",
      "|  3 | tt8873626 | tt8870676      |              1 |               4 |\n",
      "|  4 | tt8873628 | tt8870676      |              1 |               5 |\n",
      "\n",
      "Title Principals\n",
      "|    | tconst    |   ordering | nconst    | category        | job                     | characters   |\n",
      "|---:|:----------|-----------:|:----------|:----------------|:------------------------|:-------------|\n",
      "|  0 | tt0713428 |          6 | nm0293750 | writer          | writer                  | \\N           |\n",
      "|  1 | tt0713428 |          7 | nm0007163 | producer        | executive producer      | \\N           |\n",
      "|  2 | tt0713428 |          8 | nm0454349 | composer        | \\N                      | \\N           |\n",
      "|  3 | tt0713428 |          9 | nm0643761 | cinematographer | director of photography | \\N           |\n",
      "|  4 | tt0713429 |         10 | nm0643761 | cinematographer | director of photography | \\N           |\n",
      "\n",
      "Title Ratings\n",
      "|    | tconst    |   averagerating |   numvotes |\n",
      "|---:|:----------|----------------:|-----------:|\n",
      "|  0 | tt0000001 |             5.7 |       1949 |\n",
      "|  1 | tt0000002 |             5.8 |        264 |\n",
      "|  2 | tt0000003 |             6.5 |       1782 |\n",
      "|  3 | tt0000004 |             5.6 |        179 |\n",
      "|  4 | tt0000005 |             6.2 |       2582 |\n",
      "\n"
     ]
    }
   ],
   "source": [
    "sql = []\n",
    "table_str = []\n",
    "\n",
    "table_str.append(\"Name Basics\")\n",
    "table_str.append(\"Title Basics\")\n",
    "table_str.append(\"Title Crew\")\n",
    "table_str.append(\"Title Episodes\")\n",
    "table_str.append(\"Title Principals\")\n",
    "table_str.append(\"Title Ratings\")\n",
    "sql.append(\n",
    "    \"\"\"\n",
    "           SELECT TOP(5) *\n",
    "           FROM nameBasics \n",
    "           \"\"\"\n",
    ")\n",
    "sql.append(\n",
    "    \"\"\"\n",
    "           SELECT TOP(5) *\n",
    "           FROM titleBasics \n",
    "           \"\"\"\n",
    ")\n",
    "sql.append(\n",
    "    \"\"\"\n",
    "           SELECT TOP(5) *\n",
    "           FROM titleCrew\n",
    "           \"\"\"\n",
    ")\n",
    "sql.append(\n",
    "    \"\"\"\n",
    "           SELECT TOP(5) *\n",
    "           FROM titleEpisode\n",
    "           \"\"\"\n",
    ")\n",
    "sql.append(\n",
    "    \"\"\"\n",
    "           SELECT TOP(5) *\n",
    "           FROM titlePrincipals \n",
    "           \"\"\"\n",
    ")\n",
    "sql.append(\n",
    "    \"\"\"\n",
    "           SELECT TOP(5) *\n",
    "           FROM titleRatings\n",
    "           \"\"\"\n",
    ")\n",
    "\n",
    "for j, jsql in enumerate(sql):\n",
    "    print(table_str[j])\n",
    "    print(pd.read_sql_query(jsql, conn).to_markdown() + \"\\n\")"
   ]
  },
  {
   "cell_type": "markdown",
   "metadata": {},
   "source": [
    "## Query some basic information from the database"
   ]
  },
  {
   "cell_type": "code",
   "execution_count": null,
   "metadata": {},
   "outputs": [],
   "source": [
    "print(\"Is Kate Winslet in the database?\")\n",
    "sql = \"\"\"\n",
    "SELECT TOP(10) *\n",
    "FROM nameBasics \n",
    "WHERE primaryName LIKE 'Bruce Scivally'\n",
    "\"\"\"\n",
    "pd.read_sql_query(sql, conn)"
   ]
  },
  {
   "cell_type": "code",
   "execution_count": null,
   "metadata": {},
   "outputs": [],
   "source": [
    "print(\"Is Morgan Freeman in the database?\")\n",
    "sql = \"\"\"\n",
    "SELECT TOP(10) *\n",
    "FROM nameBasics\n",
    "WHERE primaryName LIKE '%%'\n",
    "\"\"\"\n",
    "\n",
    "pd.read_sql_query(sql, conn).head()"
   ]
  },
  {
   "cell_type": "code",
   "execution_count": null,
   "metadata": {},
   "outputs": [],
   "source": [
    "print(\"Is King of Queens in the database?\")\n",
    "sql = \"\"\"\n",
    "SELECT TOP(1) tconst, titleType, primaryTitle\n",
    "FROM titleBasics\n",
    "WHERE primaryTitle LIKE '%king of queens%'\n",
    "\"\"\"\n",
    "\n",
    "pd.read_sql_query(sql, conn).head()"
   ]
  },
  {
   "cell_type": "code",
   "execution_count": null,
   "metadata": {},
   "outputs": [],
   "source": [
    "print(\"Are there any duplicate actors/actresses in the database?\")\n",
    "sql = \"\"\"\n",
    "SELECT DISTINCT primaryName, count(primaryName) AS countActor\n",
    "FROM nameBasics\n",
    "WHERE primaryProfession LIKE '%actor%' OR\n",
    "\t  primaryProfession LIKE '%actress%'\n",
    "GROUP BY primaryName ORDER BY countActor DESC\n",
    "\"\"\"\n",
    "print(pd.read_sql_query(sql, conn).head(50).to_markdown())"
   ]
  },
  {
   "cell_type": "code",
   "execution_count": null,
   "metadata": {},
   "outputs": [],
   "source": [
    "print(\n",
    "    \"What is the longest running show on television? sort by seasonNumber and then episode number\"\n",
    ")\n",
    "sql = \"\"\"\n",
    "SELECT TOP(5) tB.primaryTitle, MAX(tE.seasonNumber) as SN, MAX(tE.episodeNumber) as EN,  \n",
    "    MAX(tE.episodeNumber)*MAX(tE.seasonNumber) AS EpCount\n",
    "FROM titleEpisode AS tE INNER JOIN titleBasics as tB ON tE.parentTconst=tB.tconst\n",
    "GROUP BY tB.primaryTitle\n",
    "HAVING MAX(tE.episodeNumber)*MAX(tE.seasonNumber) > 8000\n",
    "ORDER BY EpCount DESC\n",
    "\"\"\"\n",
    "pd.read_sql_query(sql, conn).head()"
   ]
  },
  {
   "cell_type": "code",
   "execution_count": null,
   "metadata": {},
   "outputs": [],
   "source": [
    "print(\"IMDB top 50\")\n",
    "\n",
    "sql = \"\"\"\n",
    "SELECT tb.primaryTitle, tr.averageRating, tr.numVotes, tb.titleType\n",
    "FROM titleRatings as tr JOIN titleBasics as tb on tr.tconst = tb.tconst\n",
    "WHERE tr.numVotes > 50000 and tb.titleType LIKE 'movie'\n",
    "ORDER BY CAST(tr.averageRating AS FLOAT) DESC, CAST(tr.numVotes AS INT) DESC\n",
    "\"\"\"\n",
    "\n",
    "print(pd.read_sql_query(sql, conn).head(50).to_markdown())"
   ]
  },
  {
   "cell_type": "markdown",
   "metadata": {},
   "source": [
    "## Create actor-actor network"
   ]
  },
  {
   "cell_type": "code",
   "execution_count": null,
   "metadata": {},
   "outputs": [],
   "source": [
    "print(\"Which two actors have worked together the most\")\n",
    "print(\n",
    "    \"Takes 25 minutes to execute All rows from CTE0 (~7million total) yields 21,565,150 Rows\"\n",
    ")\n",
    "sql = \"\"\"\n",
    "With CTE0 as (\n",
    "\tSELECT tp.tconst, tp.nconst \n",
    "\tFROM titlePrincipals as tp JOIN titleBasics as tb on tb.tconst = tp.tconst\n",
    "\tWHERE (tb.titleType LIKE 'movie' OR tb.titleType LIKE 'tvMovie' OR tb.titleType LIKE 'video') \n",
    "\tAND tb.startYear > 1950 AND tb.isAdult = 0 AND tb.runtimeMinutes > 20\n",
    "),\n",
    "CTE1 as (\n",
    "\tSELECT tp.tconst as tconst, nb.primaryName as primaryName\n",
    "\tFROM CTE0 as tp JOIN nameBasics as nb on nb.nconst = tp.nconst\n",
    "),\n",
    "CTE2 AS (\n",
    "\tSELECT c1.primaryName as name1, c2.primaryName as name2\n",
    "\tFROM CTE1 as c1 JOIN CTE1 as c2 on c1.tconst=c2.tconst\n",
    "\tWHERE c1.primaryName != c2.primaryName AND c1.primaryName < c2.primaryName \n",
    ")\n",
    "\tSELECT name1, name2, COUNT(name1) as num_appearances\n",
    "\tFROM CTE2\n",
    "\tGROUP BY name1, name2\n",
    "    ORDER BY num_appearances DESC\n",
    "    \"\"\"\n",
    "\n",
    "df_network = pd.read_sql_query(sql, conn)\n",
    "print(df_network.head(50).to_markdown())\n",
    "# df_network.to_csv('df_network.csv')"
   ]
  },
  {
   "cell_type": "code",
   "execution_count": 2,
   "metadata": {},
   "outputs": [],
   "source": [
    "df_network = pd.read_csv(\"df_network.csv\", index_col=[0])"
   ]
  },
  {
   "cell_type": "code",
   "execution_count": 54,
   "metadata": {},
   "outputs": [],
   "source": [
    "df = df_network.copy()\n",
    "df.columns = [\"source\", \"target\", \"weight\"]"
   ]
  },
  {
   "cell_type": "code",
   "execution_count": 55,
   "metadata": {},
   "outputs": [],
   "source": [
    "# load in list of top 500 hollywood celebs\n",
    "# as generated by ChatGPT\n",
    "with open(\"hollywood_celebs.txt\", \"rb\") as f:\n",
    "    hollywood_celebs = pickle.load(f)\n",
    "df = df[df[\"source\"].isin(hollywood_celebs) & df[\"target\"].isin(hollywood_celebs)]"
   ]
  },
  {
   "cell_type": "code",
   "execution_count": 56,
   "metadata": {},
   "outputs": [],
   "source": [
    "# drop edges with only one connection\n",
    "df = df[df[\"weight\"] > 1]\n",
    "\n",
    "# keep only celebs that have at least nkeep edges\n",
    "nkeep = 5\n",
    "num_edges_per_celeb = pd.concat(\n",
    "    [df[\"source\"], df[\"target\"]], ignore_index=True\n",
    ").value_counts()\n",
    "num_edges_per_celeb = num_edges_per_celeb[(num_edges_per_celeb > nkeep)]\n",
    "\n",
    "# get list of celeb_names\n",
    "celeb_names = num_edges_per_celeb.index\n",
    "num_celebs = len(celeb_names)\n",
    "\n",
    "# map actor names to a unique integer\n",
    "celeb_encoding = list(range(num_celebs))\n",
    "map_key = {celeb_names[j]: celeb_encoding[j] for j in range(num_celebs)}\n",
    "df[\"source\"] = df[\"source\"].map(map_key)\n",
    "df[\"target\"] = df[\"target\"].map(map_key)\n",
    "\n",
    "df = df.dropna()"
   ]
  },
  {
   "cell_type": "code",
   "execution_count": 57,
   "metadata": {},
   "outputs": [],
   "source": [
    "# form edges - tuples with entries (source, target, weight)\n",
    "edges = [\n",
    "    (df.iloc[j][\"source\"], df.iloc[j][\"target\"], df.iloc[j][\"weight\"])\n",
    "    for j in range(len(df))\n",
    "    if df.iloc[j][\"weight\"] > 1\n",
    "]"
   ]
  },
  {
   "cell_type": "code",
   "execution_count": 58,
   "metadata": {},
   "outputs": [],
   "source": [
    "# compute size of nodes based on number of connections\n",
    "node_size = []\n",
    "for jceleb in range(num_celebs):\n",
    "    actor_weight = df[(df[\"target\"] == jceleb) | (df[\"source\"] == jceleb)][\"weight\"]\n",
    "    node_size.append(np.sum(actor_weight))\n",
    "node_size = 120 * np.array(node_size) / np.max(node_size)"
   ]
  },
  {
   "cell_type": "code",
   "execution_count": 59,
   "metadata": {},
   "outputs": [
    {
     "name": "stdout",
     "output_type": "stream",
     "text": [
      "hollywood_network.html\n",
      "182 755\n"
     ]
    }
   ],
   "source": [
    "net = Network(\n",
    "    notebook=True,\n",
    "    cdn_resources=\"remote\",\n",
    "    bgcolor=\"#222222\",\n",
    "    font_color=\"white\",\n",
    "    height=\"1000px\",\n",
    "    width=\"100%\",\n",
    "    select_menu=True,\n",
    "    filter_menu=True,\n",
    ")\n",
    "\n",
    "net.add_nodes(celeb_encoding, label=celeb_names[celeb_encoding], size=node_size)\n",
    "net.add_edges(edges)\n",
    "net.repulsion(node_distance=2400, spring_length=400)\n",
    "net.show_buttons()\n",
    "net.show(\"hollywood_network.html\")\n",
    "\n",
    "print(len(celeb_encoding), len(edges))"
   ]
  }
 ],
 "metadata": {
  "kernelspec": {
   "display_name": "recsys_movie",
   "language": "python",
   "name": "python3"
  },
  "language_info": {
   "codemirror_mode": {
    "name": "ipython",
    "version": 3
   },
   "file_extension": ".py",
   "mimetype": "text/x-python",
   "name": "python",
   "nbconvert_exporter": "python",
   "pygments_lexer": "ipython3",
   "version": "3.9.18"
  }
 },
 "nbformat": 4,
 "nbformat_minor": 2
}
