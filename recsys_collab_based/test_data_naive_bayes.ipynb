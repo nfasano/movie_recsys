{
 "cells": [
  {
   "cell_type": "code",
   "execution_count": 7,
   "metadata": {},
   "outputs": [],
   "source": [
    "import numpy as np\n",
    "import scipy.sparse as sps\n",
    "import scipy as sp\n",
    "from matplotlib import pyplot as plt\n",
    "\n"
   ]
  },
  {
   "cell_type": "code",
   "execution_count": 8,
   "metadata": {},
   "outputs": [
    {
     "data": {
      "text/plain": [
       "array([[ 1, -1,  1, -1,  1, -1],\n",
       "       [ 1,  1,  0, -1, -1, -1],\n",
       "       [ 0,  1,  1, -1, -1,  0],\n",
       "       [-1, -1, -1,  1,  1,  1],\n",
       "       [-1,  0, -1,  1,  1,  1]])"
      ]
     },
     "execution_count": 8,
     "metadata": {},
     "output_type": "execute_result"
    }
   ],
   "source": [
    "# create numpy array\n",
    "R = np.array([[1,-1,1,-1,1,-1],[1,1,0,-1,-1,-1],[0,1,1,-1,-1,0],[-1,-1,-1,1,1,1],[-1,0,-1,1,1,1]])\n",
    "R"
   ]
  },
  {
   "cell_type": "code",
   "execution_count": 9,
   "metadata": {},
   "outputs": [],
   "source": [
    "Rs = sps.coo_array(R)\n",
    "Rsc = Rs.tocsc()\n",
    "Rsr = Rs.tocsr()"
   ]
  },
  {
   "cell_type": "code",
   "execution_count": 10,
   "metadata": {},
   "outputs": [],
   "source": [
    "#\n",
    "num_users = 5\n",
    "num_items = 6\n",
    "\n",
    "#\n",
    "nnz_entries_per_col = np.diff(Rsc.indptr)\n",
    "nnz_entries_per_row = np.diff(Rsr.indptr)\n",
    "\n",
    "nonzero_rows = Rsc.nonzero()[0]\n",
    "nonzero_cols = Rsc.nonzero()[1]\n",
    "\n"
   ]
  },
  {
   "cell_type": "code",
   "execution_count": 16,
   "metadata": {},
   "outputs": [
    {
     "data": {
      "text/plain": [
       "array([[0.00065, 0.04167],\n",
       "       [0.0026 , 0.0625 ],\n",
       "       [0.0625 , 0.0026 ],\n",
       "       [0.02344, 0.00116]])"
      ]
     },
     "execution_count": 16,
     "metadata": {},
     "output_type": "execute_result"
    }
   ],
   "source": [
    "# implement Naive Bayes model with Laplace smoothing\n",
    "\n",
    "alpha = 1\n",
    "scoring_options = [-1,1]\n",
    "num_scoring_options = len(scoring_options)\n",
    "new_movie_id = np.array(range(num_items))\n",
    "\n",
    "rfin =[]\n",
    "# loop over all users \n",
    "for juser in range(num_users): \n",
    "    juser_rated = Rsr.indices[Rsr.indptr[juser]:Rsr.indptr[juser+1]] \n",
    "    to_rate = np.delete(new_movie_id,juser_rated)\n",
    "\n",
    "    # loop over all items that user did not rate\n",
    "    for jitem in to_rate: \n",
    "        rpred = []\n",
    "\n",
    "        # compute probability of rating for all possible ratings  \n",
    "        for jprob in scoring_options:\n",
    "            jaa = Rsc.data[Rsc.indptr[jitem]:Rsc.indptr[jitem+1]] == jprob           \n",
    "            aa = Rsc.indices[Rsc.indptr[jitem]:Rsc.indptr[jitem+1]][jaa]  # all users that rated item jitem as jprob\n",
    "            prior = (np.count_nonzero(jaa) + alpha)/(nnz_entries_per_col[jitem] + num_scoring_options*alpha)       \n",
    "            Pr = 1\n",
    "\n",
    "            # loop over items that juser rated   \n",
    "            for j in juser_rated:                          \n",
    "                ind_j0 = Rsc.indptr[j]\n",
    "                ind_j1 = Rsc.indptr[j+1]\n",
    "                bb = Rsc.indices[ind_j0:ind_j1] # all users that rated item j\n",
    "                cc = Rsc.data[ind_j0:ind_j1]          \n",
    "                bp = np.isin(bb,aa,assume_unique=True)         \n",
    "                Pr = Pr * (np.count_nonzero(cc[bp] == cc[bb == juser]) + alpha)/ (np.count_nonzero(bp) + num_scoring_options*alpha)\n",
    "\n",
    "            rpred.append(prior*Pr)\n",
    "        \n",
    "        rfin.append(rpred)\n",
    "\n",
    "np.round(rfin,5)\n"
   ]
  }
 ],
 "metadata": {
  "kernelspec": {
   "display_name": "recsys_movie",
   "language": "python",
   "name": "python3"
  },
  "language_info": {
   "codemirror_mode": {
    "name": "ipython",
    "version": 3
   },
   "file_extension": ".py",
   "mimetype": "text/x-python",
   "name": "python",
   "nbconvert_exporter": "python",
   "pygments_lexer": "ipython3",
   "version": "3.9.16"
  },
  "orig_nbformat": 4
 },
 "nbformat": 4,
 "nbformat_minor": 2
}
