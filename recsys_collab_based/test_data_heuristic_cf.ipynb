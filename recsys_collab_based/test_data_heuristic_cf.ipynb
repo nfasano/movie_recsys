{
 "cells": [
  {
   "cell_type": "code",
   "execution_count": 2,
   "metadata": {},
   "outputs": [],
   "source": [
    "import numpy as np\n",
    "import scipy.sparse as sps\n",
    "import scipy as sp\n",
    "from matplotlib import pyplot as plt\n",
    "\n"
   ]
  },
  {
   "cell_type": "code",
   "execution_count": 3,
   "metadata": {},
   "outputs": [
    {
     "data": {
      "text/plain": [
       "array([[7, 6, 7, 4, 5, 4],\n",
       "       [6, 7, 0, 4, 3, 4],\n",
       "       [0, 3, 3, 1, 1, 0],\n",
       "       [1, 2, 2, 3, 3, 4],\n",
       "       [1, 0, 1, 2, 3, 3]])"
      ]
     },
     "execution_count": 3,
     "metadata": {},
     "output_type": "execute_result"
    }
   ],
   "source": [
    "# create numpy array\n",
    "R = np.array([[7,6,7,4,5,4],[6,7,0,4,3,4],[0,3,3,1,1,0],[1,2,2,3,3,4],[1,0,1,2,3,3]])\n",
    "R"
   ]
  },
  {
   "cell_type": "code",
   "execution_count": 4,
   "metadata": {},
   "outputs": [],
   "source": [
    "Rs = sps.coo_array(R)\n",
    "Rsc = Rs.tocsc()\n",
    "Rsr = Rs.tocsr()"
   ]
  },
  {
   "cell_type": "code",
   "execution_count": 29,
   "metadata": {},
   "outputs": [],
   "source": [
    "#\n",
    "num_users = 5\n",
    "num_items = 6\n",
    "\n",
    "#\n",
    "nnz_row_per_col = np.diff(Rsc.indptr)\n",
    "nnz_col_per_row = np.diff(Rsr.indptr)\n",
    "\n",
    "nonzero_rows = Rsc.nonzero()[0]\n",
    "nonzero_cols = Rsc.nonzero()[1]\n",
    "\n",
    "# find mean of each row and column\n",
    "meanCol = Rsc.mean(axis=0)*num_users/nnz_row_per_col\n",
    "meanRow = Rsc.mean(axis=1)*num_items/nnz_col_per_row\n",
    "\n",
    "# find std of each row and column\n",
    "Rsc2 = Rsc**2\n",
    "stdCol = np.sqrt(Rsc2.mean(axis=0)*num_users/nnz_row_per_col - (Rsc.mean(axis=0)*num_users/nnz_row_per_col)**2)\n",
    "stdRow = np.sqrt(Rsc2.mean(axis=1)*num_items/nnz_col_per_row - (Rsc.mean(axis=1)*num_items/nnz_col_per_row)**2)\n",
    "\n",
    "# compute alternate arrays\n",
    "Rsc_mean = Rsc.copy()\n",
    "Rsc_mean.data = Rsc_mean.data - np.take(meanRow, Rsc_mean.indices)\n",
    "Rsc_mean_sq = Rsc_mean**2"
   ]
  },
  {
   "cell_type": "code",
   "execution_count": 120,
   "metadata": {},
   "outputs": [
    {
     "name": "stdout",
     "output_type": "stream",
     "text": [
      "0 []\n",
      "1 [6.013729659957364]\n",
      "2 [3.3463952993809016, 0.8584109681112311]\n",
      "3 []\n",
      "4 [1.5]\n"
     ]
    }
   ],
   "source": [
    "# user-based collaborative filter\n",
    "\n",
    "# compute pearson correlation matrix \n",
    "# O(num_users^2*num_ratings_max)), where num_ratings_max is the maximum number of ratings by a single user\n",
    "\n",
    "# compute numerator of pearson correlation once using matrix multiplication\n",
    "num = Rsc_mean @ np.transpose(Rsc_mean) # returns num_users x num_users covariate matrix\n",
    "num = num.toarray() # num is dense anyway\n",
    "\n",
    "pcorr = np.zeros(shape=(num_users,num_users))\n",
    "for j in range(num_users):\n",
    "    for k in range(num_users):\n",
    "        ij = np.intersect1d(Rsc_mean.getrow(j).indices, Rsc_mean.getrow(k).indices)\n",
    "        den = np.sqrt( np.sum(Rsc_mean_sq[[j],ij]) * np.sum(Rsc_mean_sq[[k],ij]) )\n",
    "\n",
    "        # insert discount factor for when the number of similar ratings between user j and user k is less than beta\n",
    "        beta = -1 # set to -1 to ignore discount factoring\n",
    "        if(len(ij)<beta):\n",
    "            pcorr[k,j] = (num[k,j]/den)*len(ij)/beta\n",
    "        else:\n",
    "            pcorr[k,j] = (num[k,j]/den)\n",
    "\n",
    "# loop over all users and compute prediction for missing users based on k_nearest_neighbors \n",
    "# Time complexity: [O(num_users*k_max)] where k_max is the max number of ratings needed to predict for a user \n",
    "\n",
    "k_sim_users = 2\n",
    "for juser in range(num_users):\n",
    "\n",
    "    # based on pearson correlation, compute unrated movies for juser with k = 2\n",
    "    # find items that juser did not rate\n",
    "\n",
    "    k_unrated_items = list(set(nonzero_cols[nonzero_rows == juser]) ^ set(range(num_items))) # list(set(aa[ja]).symmetric_difference(set(range(num_items))))\n",
    "    rhat = []\n",
    "    for k in k_unrated_items:\n",
    "        # find all users that did not rate kth item\n",
    "        k_unrated_user = list(set(nonzero_rows[nonzero_cols == k]) ^ set(range(num_users)))\n",
    "\n",
    "        # find top kusers that are similar to juser who also rated kth item\n",
    "        kusers = np.argsort(pcorr[juser,:])\n",
    "        kusers = [jk for jk in kusers if jk not in k_unrated_user][-k_sim_users:]        \n",
    "\n",
    "        # filter out users that have a particularly low pcorr\n",
    "        pcorr_filt =  pcorr[juser,kusers]\n",
    "        pcorr_filt[pcorr_filt<0] = 0\n",
    "\n",
    "        if(np.sum(pcorr_filt) == 0):\n",
    "            # no similar users - set rating to mean of current user\n",
    "            rhat.append(meanRow[juser])\n",
    "        else:\n",
    "            # compute rating prediction using kth user\n",
    "            rhat.append(meanRow[juser] + np.dot(Rsc_mean[kusers,[k]],pcorr_filt)/np.sum(pcorr_filt))\n",
    "\n",
    "    print(juser,rhat)"
   ]
  },
  {
   "cell_type": "code",
   "execution_count": 122,
   "metadata": {},
   "outputs": [
    {
     "name": "stdout",
     "output_type": "stream",
     "text": [
      "0 []\n",
      "1 [6.489]\n",
      "2 [3. 1.]\n",
      "3 []\n",
      "4 [1.]\n"
     ]
    }
   ],
   "source": [
    "# Item based collaborative filtering\n",
    "\n",
    "\n",
    "# compute adjusted cosine similarity matrix \n",
    "# Time complexity: O(num_items^2*num_ratings_max), where num_ratings_max is the maximum number of ratings for one item\n",
    "num = np.transpose(Rsc_mean) @ Rsc_mean # returns num_items x num_items covariate matrix\n",
    "num = num.toarray() # num is dense anyway\n",
    "\n",
    "pcorr = np.zeros(shape=(num_items,num_items))\n",
    "for j in range(num_items):\n",
    "    for k in range(num_items):\n",
    "        ij = np.intersect1d(Rsc_mean.getcol(j).indices, Rsc_mean.getcol(k).indices)\n",
    "        den = np.sqrt(np.sum(Rsc_mean_sq[ij,[j]]) * np.sum(Rsc_mean_sq[ij,[k]]))\n",
    "\n",
    "        # insert discount factor for when the number of similar ratings between item j and item k is less than beta\n",
    "        beta = -1 # set to -1 to ignore discount factoring\n",
    "        if(len(ij)<beta):\n",
    "            pcorr[j,k] = (num[j,k]/den)*len(ij)/beta\n",
    "        else:\n",
    "            pcorr[j,k] = (num[j,k]/den)\n",
    "\n",
    "# loop over all items and compute prediction for missing items based on k_nearest_neighbors \n",
    "# Time complexity: O(num_users*k_max) where k_max is the max number of ratings needed to predict for a user \n",
    "\n",
    "k_sim_items = 2\n",
    "for juser in range(num_users):\n",
    "\n",
    "    # find items that juser did not rate \n",
    "    k_unrated_items = list(set(nonzero_cols[nonzero_rows == juser]) ^ set(range(num_items)))\n",
    "\n",
    "    rhat = []\n",
    "    for k in k_unrated_items:\n",
    "\n",
    "        # find top k_sim_items that are similar to item k\n",
    "        kitems = np.argsort(pcorr[k,:])\n",
    "        kitems = [jk for jk in kitems if jk not in k_unrated_items][-k_sim_items:]\n",
    "\n",
    "        # filter out users that have a particularly low pcorr\n",
    "        pcorr_filt =  pcorr[k,kitems]\n",
    "        pcorr_filt[pcorr_filt < 0] = 0\n",
    "\n",
    "        if(np.sum(pcorr_filt) == 0):\n",
    "            # no similar items - set rating to mean of current user\n",
    "            rhat.append(meanRow[juser])\n",
    "        else:\n",
    "            # compute rating prediction using juser and kitems\n",
    "            rhat.append(np.dot(Rsc[[juser],kitems],pcorr_filt)/np.sum(pcorr_filt))\n",
    "\n",
    "    print(juser,np.round(rhat,3))"
   ]
  }
 ],
 "metadata": {
  "kernelspec": {
   "display_name": "recsys_movie",
   "language": "python",
   "name": "python3"
  },
  "language_info": {
   "codemirror_mode": {
    "name": "ipython",
    "version": 3
   },
   "file_extension": ".py",
   "mimetype": "text/x-python",
   "name": "python",
   "nbconvert_exporter": "python",
   "pygments_lexer": "ipython3",
   "version": "3.9.16"
  },
  "orig_nbformat": 4
 },
 "nbformat": 4,
 "nbformat_minor": 2
}
