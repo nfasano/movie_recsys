{
 "cells": [
  {
   "cell_type": "markdown",
   "metadata": {},
   "source": [
    "# Build a CTM"
   ]
  },
  {
   "cell_type": "code",
   "execution_count": 1,
   "metadata": {},
   "outputs": [],
   "source": [
    "import pandas as pd\n",
    "import numpy as np\n",
    "from scipy import sparse\n",
    "import time\n",
    "from collections import defaultdict\n",
    "\n",
    "# import gradio as gr\n",
    "import pickle\n",
    "import matplotlib.pyplot as plt\n",
    "\n",
    "# import functions from surprise library\n",
    "\n",
    "from surprise import SVD, CTM\n",
    "from surprise import Dataset, NormalPredictor, Reader\n",
    "from surprise.model_selection import cross_validate, train_test_split, GridSearchCV\n",
    "from surprise.accuracy import rmse, precision_recall_at_k\n",
    "\n",
    "import line_profiler\n",
    "%load_ext line_profiler"
   ]
  },
  {
   "cell_type": "code",
   "execution_count": 13,
   "metadata": {},
   "outputs": [],
   "source": [
    "# load in tuned model and transformed document-topic matrix\n",
    "lda_main = pickle.load(open('..\\\\recsys_content_based\\\\model_building_out\\\\model_2023_08_16.sav', 'rb'))\n",
    "\n",
    "with open(\"..\\\\recsys_content_based\\\\data_preprocessing_out\\\\word_key.txt\", \"rb\") as f:\n",
    "    word_key = pickle.load(f)\n",
    "\n",
    "# read in movie database\n",
    "df_spaces = pd.read_csv(\"..\\\\database\\\\dataset_spaces_upload.csv\", index_col=[0])\n",
    "\n",
    "# read in scipy sparse matrix\n",
    "X = sparse.load_npz(\"..\\\\recsys_content_based\\\\data_preprocessing_out\\\\X.npz\")\n",
    "with open(\"..\\\\recsys_content_based\\\\model_building_out\\\\Xtran.txt\", \"rb\") as f:\n",
    "    Xtran_main = pickle.load(f)\n"
   ]
  },
  {
   "cell_type": "code",
   "execution_count": 14,
   "metadata": {},
   "outputs": [
    {
     "data": {
      "text/html": [
       "<div>\n",
       "<style scoped>\n",
       "    .dataframe tbody tr th:only-of-type {\n",
       "        vertical-align: middle;\n",
       "    }\n",
       "\n",
       "    .dataframe tbody tr th {\n",
       "        vertical-align: top;\n",
       "    }\n",
       "\n",
       "    .dataframe thead th {\n",
       "        text-align: right;\n",
       "    }\n",
       "</style>\n",
       "<table border=\"1\" class=\"dataframe\">\n",
       "  <thead>\n",
       "    <tr style=\"text-align: right;\">\n",
       "      <th></th>\n",
       "      <th>movie_title</th>\n",
       "      <th>movie_year</th>\n",
       "      <th>imdb_id</th>\n",
       "      <th>tmdb_id</th>\n",
       "      <th>recsys_id</th>\n",
       "    </tr>\n",
       "  </thead>\n",
       "  <tbody>\n",
       "    <tr>\n",
       "      <th>0</th>\n",
       "      <td>A 2nd Hand Lover</td>\n",
       "      <td>2015</td>\n",
       "      <td>tt10919164</td>\n",
       "      <td>472886</td>\n",
       "      <td>0</td>\n",
       "    </tr>\n",
       "    <tr>\n",
       "      <th>1</th>\n",
       "      <td>A Aa</td>\n",
       "      <td>2016</td>\n",
       "      <td>tt5684466</td>\n",
       "      <td>372399</td>\n",
       "      <td>1</td>\n",
       "    </tr>\n",
       "    <tr>\n",
       "      <th>2</th>\n",
       "      <td>A Baby at Any Cost</td>\n",
       "      <td>2022</td>\n",
       "      <td>tt15331880</td>\n",
       "      <td>938971</td>\n",
       "      <td>2</td>\n",
       "    </tr>\n",
       "    <tr>\n",
       "      <th>3</th>\n",
       "      <td>A Bad Idea Gone Wrong</td>\n",
       "      <td>2017</td>\n",
       "      <td>tt5212918</td>\n",
       "      <td>438424</td>\n",
       "      <td>3</td>\n",
       "    </tr>\n",
       "    <tr>\n",
       "      <th>4</th>\n",
       "      <td>A Bad Moms Christmas</td>\n",
       "      <td>2017</td>\n",
       "      <td>tt6359956</td>\n",
       "      <td>431530</td>\n",
       "      <td>4</td>\n",
       "    </tr>\n",
       "  </tbody>\n",
       "</table>\n",
       "</div>"
      ],
      "text/plain": [
       "             movie_title  movie_year     imdb_id  tmdb_id  recsys_id\n",
       "0       A 2nd Hand Lover        2015  tt10919164   472886          0\n",
       "1                   A Aa        2016   tt5684466   372399          1\n",
       "2     A Baby at Any Cost        2022  tt15331880   938971          2\n",
       "3  A Bad Idea Gone Wrong        2017   tt5212918   438424          3\n",
       "4   A Bad Moms Christmas        2017   tt6359956   431530          4"
      ]
     },
     "execution_count": 14,
     "metadata": {},
     "output_type": "execute_result"
    }
   ],
   "source": [
    "# load in cleaned movie scripts dataset\n",
    "df_script = pd.read_csv('..\\\\database\\\\dataset_film_scripts\\\\springfield_movie_scripts_2023_01_13_clean.csv', index_col = [0])\n",
    "df_script = df_script.drop(['script_text', 'springfield_link', 'tmdb_poster_link', 'imdb_link'], axis=1)\n",
    "df_script['recsys_id'] = df_script.index\n",
    "df_script.head()"
   ]
  },
  {
   "cell_type": "code",
   "execution_count": 15,
   "metadata": {},
   "outputs": [
    {
     "name": "stdout",
     "output_type": "stream",
     "text": [
      "   movieId  imdbId   tmdbId\n",
      "0        1  114709    862.0\n",
      "1        2  113497   8844.0\n",
      "2        3  113228  15602.0\n",
      "3        4  114885  31357.0\n",
      "4        5  113041  11862.0\n",
      "   userId  movieId  rating   timestamp\n",
      "0       1      307     3.5  1256677221\n",
      "1       1      481     3.5  1256677456\n",
      "2       1     1091     1.5  1256677471\n",
      "3       1     1257     4.5  1256677460\n",
      "4       1     1449     4.5  1256677264\n"
     ]
    }
   ],
   "source": [
    "# load in movieLens datasets for links and ratings\n",
    "df_movielens = pd.read_csv('..\\\\database\\\\dataset_movieLens\\\\links.csv')\n",
    "print(df_movielens.head())\n",
    "\n",
    "df_movielens_ratings = pd.read_csv('..\\\\database\\\\dataset_movieLens\\\\ratings.csv')\n",
    "print(df_movielens_ratings.head())"
   ]
  },
  {
   "cell_type": "code",
   "execution_count": 16,
   "metadata": {},
   "outputs": [
    {
     "data": {
      "text/html": [
       "<div>\n",
       "<style scoped>\n",
       "    .dataframe tbody tr th:only-of-type {\n",
       "        vertical-align: middle;\n",
       "    }\n",
       "\n",
       "    .dataframe tbody tr th {\n",
       "        vertical-align: top;\n",
       "    }\n",
       "\n",
       "    .dataframe thead th {\n",
       "        text-align: right;\n",
       "    }\n",
       "</style>\n",
       "<table border=\"1\" class=\"dataframe\">\n",
       "  <thead>\n",
       "    <tr style=\"text-align: right;\">\n",
       "      <th></th>\n",
       "      <th>movie_title</th>\n",
       "      <th>movie_year</th>\n",
       "      <th>imdb_id</th>\n",
       "      <th>tmdb_id</th>\n",
       "      <th>recsys_id</th>\n",
       "      <th>movieId</th>\n",
       "      <th>imdbId</th>\n",
       "    </tr>\n",
       "  </thead>\n",
       "  <tbody>\n",
       "    <tr>\n",
       "      <th>3</th>\n",
       "      <td>A Bad Idea Gone Wrong</td>\n",
       "      <td>2017</td>\n",
       "      <td>tt5212918</td>\n",
       "      <td>438424</td>\n",
       "      <td>3</td>\n",
       "      <td>181135.0</td>\n",
       "      <td>5212918.0</td>\n",
       "    </tr>\n",
       "    <tr>\n",
       "      <th>4</th>\n",
       "      <td>A Bad Moms Christmas</td>\n",
       "      <td>2017</td>\n",
       "      <td>tt6359956</td>\n",
       "      <td>431530</td>\n",
       "      <td>4</td>\n",
       "      <td>179953.0</td>\n",
       "      <td>6359956.0</td>\n",
       "    </tr>\n",
       "    <tr>\n",
       "      <th>5</th>\n",
       "      <td>A Bag of Hammers</td>\n",
       "      <td>2011</td>\n",
       "      <td>tt1509787</td>\n",
       "      <td>59441</td>\n",
       "      <td>5</td>\n",
       "      <td>101597.0</td>\n",
       "      <td>1509787.0</td>\n",
       "    </tr>\n",
       "    <tr>\n",
       "      <th>6</th>\n",
       "      <td>A Ballerina's Tale</td>\n",
       "      <td>2015</td>\n",
       "      <td>tt4504040</td>\n",
       "      <td>334682</td>\n",
       "      <td>6</td>\n",
       "      <td>144622.0</td>\n",
       "      <td>4504040.0</td>\n",
       "    </tr>\n",
       "    <tr>\n",
       "      <th>7</th>\n",
       "      <td>A Band Called Death</td>\n",
       "      <td>2012</td>\n",
       "      <td>tt2064713</td>\n",
       "      <td>137563</td>\n",
       "      <td>7</td>\n",
       "      <td>102062.0</td>\n",
       "      <td>2064713.0</td>\n",
       "    </tr>\n",
       "  </tbody>\n",
       "</table>\n",
       "</div>"
      ],
      "text/plain": [
       "             movie_title  movie_year    imdb_id  tmdb_id  recsys_id   movieId  \\\n",
       "3  A Bad Idea Gone Wrong        2017  tt5212918   438424          3  181135.0   \n",
       "4   A Bad Moms Christmas        2017  tt6359956   431530          4  179953.0   \n",
       "5       A Bag of Hammers        2011  tt1509787    59441          5  101597.0   \n",
       "6     A Ballerina's Tale        2015  tt4504040   334682          6  144622.0   \n",
       "7    A Band Called Death        2012  tt2064713   137563          7  102062.0   \n",
       "\n",
       "      imdbId  \n",
       "3  5212918.0  \n",
       "4  6359956.0  \n",
       "5  1509787.0  \n",
       "6  4504040.0  \n",
       "7  2064713.0  "
      ]
     },
     "execution_count": 16,
     "metadata": {},
     "output_type": "execute_result"
    }
   ],
   "source": [
    "# join movieLens dataset with scripts dataset\n",
    "df_joined = df_script.join(df_movielens.dropna().set_index('tmdbId'), how='left', on='tmdb_id')\n",
    "\n",
    "# drop duplicates and missing movieIds\n",
    "df_joined = df_joined.drop_duplicates(subset='tmdb_id')\n",
    "df_joined = df_joined.dropna(subset='movieId')\n",
    "\n",
    "df_joined.head()\n"
   ]
  },
  {
   "cell_type": "code",
   "execution_count": 17,
   "metadata": {},
   "outputs": [],
   "source": [
    "# second option is to join on imdbId -- both options yield the same result ~ 20,300 non-null matches\n",
    "# df_joined = df_orig.join(df_movielens.set_index('imdbId'), how='left', on='imdb_id')\n",
    "# df_joined.head()\n",
    "# df_joined.info()"
   ]
  },
  {
   "cell_type": "code",
   "execution_count": 18,
   "metadata": {},
   "outputs": [
    {
     "data": {
      "text/html": [
       "<div>\n",
       "<style scoped>\n",
       "    .dataframe tbody tr th:only-of-type {\n",
       "        vertical-align: middle;\n",
       "    }\n",
       "\n",
       "    .dataframe tbody tr th {\n",
       "        vertical-align: top;\n",
       "    }\n",
       "\n",
       "    .dataframe thead th {\n",
       "        text-align: right;\n",
       "    }\n",
       "</style>\n",
       "<table border=\"1\" class=\"dataframe\">\n",
       "  <thead>\n",
       "    <tr style=\"text-align: right;\">\n",
       "      <th></th>\n",
       "      <th>userId</th>\n",
       "      <th>movieId</th>\n",
       "      <th>rating</th>\n",
       "      <th>timestamp</th>\n",
       "    </tr>\n",
       "  </thead>\n",
       "  <tbody>\n",
       "    <tr>\n",
       "      <th>0</th>\n",
       "      <td>1</td>\n",
       "      <td>307</td>\n",
       "      <td>3.5</td>\n",
       "      <td>1256677221</td>\n",
       "    </tr>\n",
       "    <tr>\n",
       "      <th>1</th>\n",
       "      <td>1</td>\n",
       "      <td>481</td>\n",
       "      <td>3.5</td>\n",
       "      <td>1256677456</td>\n",
       "    </tr>\n",
       "    <tr>\n",
       "      <th>2</th>\n",
       "      <td>1</td>\n",
       "      <td>1091</td>\n",
       "      <td>1.5</td>\n",
       "      <td>1256677471</td>\n",
       "    </tr>\n",
       "    <tr>\n",
       "      <th>3</th>\n",
       "      <td>1</td>\n",
       "      <td>1257</td>\n",
       "      <td>4.5</td>\n",
       "      <td>1256677460</td>\n",
       "    </tr>\n",
       "    <tr>\n",
       "      <th>4</th>\n",
       "      <td>1</td>\n",
       "      <td>1449</td>\n",
       "      <td>4.5</td>\n",
       "      <td>1256677264</td>\n",
       "    </tr>\n",
       "  </tbody>\n",
       "</table>\n",
       "</div>"
      ],
      "text/plain": [
       "   userId  movieId  rating   timestamp\n",
       "0       1      307     3.5  1256677221\n",
       "1       1      481     3.5  1256677456\n",
       "2       1     1091     1.5  1256677471\n",
       "3       1     1257     4.5  1256677460\n",
       "4       1     1449     4.5  1256677264"
      ]
     },
     "execution_count": 18,
     "metadata": {},
     "output_type": "execute_result"
    }
   ],
   "source": [
    "# filter out movies from ratings matrix that are not in script database\n",
    "# takes about 3.5 minutes to run\n",
    "unique_movielens_ids = df_joined['movieId'].unique()[1:]\n",
    "unique_movielens_ids = np.sort(unique_movielens_ids.astype(int))\n",
    "movieId = np.array(df_movielens_ratings['movieId'])\n",
    "\n",
    "bool_mask = [True if j in unique_movielens_ids else False for j in movieId]\n",
    "df_movielens_ratings = df_movielens_ratings.loc[bool_mask]\n",
    "\n",
    "# drop all users from ratings matrix that rated less than n_films\n",
    "n_films = 2\n",
    "unique_movielens_users = np.array(df_movielens_ratings['userId'].value_counts().index)\n",
    "num_ratings_per_user = np.array(df_movielens_ratings['userId'].value_counts())\n",
    "userId = np.array(df_movielens_ratings['userId'])\n",
    "\n",
    "users_drop = unique_movielens_users[num_ratings_per_user < n_films]\n",
    "bool_mask = [False if j in users_drop else True for j in userId]\n",
    "df_movielens_ratings = df_movielens_ratings.loc[bool_mask]\n",
    "\n",
    "\n",
    "df_movielens_ratings.head()"
   ]
  },
  {
   "cell_type": "code",
   "execution_count": 19,
   "metadata": {},
   "outputs": [
    {
     "data": {
      "text/html": [
       "<div>\n",
       "<style scoped>\n",
       "    .dataframe tbody tr th:only-of-type {\n",
       "        vertical-align: middle;\n",
       "    }\n",
       "\n",
       "    .dataframe tbody tr th {\n",
       "        vertical-align: top;\n",
       "    }\n",
       "\n",
       "    .dataframe thead th {\n",
       "        text-align: right;\n",
       "    }\n",
       "</style>\n",
       "<table border=\"1\" class=\"dataframe\">\n",
       "  <thead>\n",
       "    <tr style=\"text-align: right;\">\n",
       "      <th></th>\n",
       "      <th>userId</th>\n",
       "      <th>movieId</th>\n",
       "      <th>rating</th>\n",
       "      <th>timestamp</th>\n",
       "      <th>movie_title</th>\n",
       "      <th>movie_year</th>\n",
       "      <th>imdb_id</th>\n",
       "      <th>tmdb_id</th>\n",
       "      <th>recsys_id</th>\n",
       "      <th>imdbId</th>\n",
       "    </tr>\n",
       "  </thead>\n",
       "  <tbody>\n",
       "    <tr>\n",
       "      <th>0</th>\n",
       "      <td>1</td>\n",
       "      <td>307</td>\n",
       "      <td>3.5</td>\n",
       "      <td>1256677221</td>\n",
       "      <td>Trois couleurs: Bleu (Three Colors: Blue)</td>\n",
       "      <td>1993</td>\n",
       "      <td>tt0108394</td>\n",
       "      <td>108</td>\n",
       "      <td>32255</td>\n",
       "      <td>108394.0</td>\n",
       "    </tr>\n",
       "    <tr>\n",
       "      <th>1</th>\n",
       "      <td>1</td>\n",
       "      <td>481</td>\n",
       "      <td>3.5</td>\n",
       "      <td>1256677456</td>\n",
       "      <td>Kalifornia</td>\n",
       "      <td>1993</td>\n",
       "      <td>tt0107302</td>\n",
       "      <td>10909</td>\n",
       "      <td>15129</td>\n",
       "      <td>107302.0</td>\n",
       "    </tr>\n",
       "    <tr>\n",
       "      <th>2</th>\n",
       "      <td>1</td>\n",
       "      <td>1091</td>\n",
       "      <td>1.5</td>\n",
       "      <td>1256677471</td>\n",
       "      <td>Weekend at Bernie's</td>\n",
       "      <td>1989</td>\n",
       "      <td>tt0098627</td>\n",
       "      <td>8491</td>\n",
       "      <td>33636</td>\n",
       "      <td>98627.0</td>\n",
       "    </tr>\n",
       "    <tr>\n",
       "      <th>3</th>\n",
       "      <td>1</td>\n",
       "      <td>1257</td>\n",
       "      <td>4.5</td>\n",
       "      <td>1256677460</td>\n",
       "      <td>Better Off Dead...</td>\n",
       "      <td>1985</td>\n",
       "      <td>tt0088794</td>\n",
       "      <td>13667</td>\n",
       "      <td>3458</td>\n",
       "      <td>88794.0</td>\n",
       "    </tr>\n",
       "    <tr>\n",
       "      <th>4</th>\n",
       "      <td>1</td>\n",
       "      <td>1449</td>\n",
       "      <td>4.5</td>\n",
       "      <td>1256677264</td>\n",
       "      <td>Waiting For Guffman</td>\n",
       "      <td>1996</td>\n",
       "      <td>tt0118111</td>\n",
       "      <td>16448</td>\n",
       "      <td>33327</td>\n",
       "      <td>118111.0</td>\n",
       "    </tr>\n",
       "  </tbody>\n",
       "</table>\n",
       "</div>"
      ],
      "text/plain": [
       "   userId  movieId  rating   timestamp  \\\n",
       "0       1      307     3.5  1256677221   \n",
       "1       1      481     3.5  1256677456   \n",
       "2       1     1091     1.5  1256677471   \n",
       "3       1     1257     4.5  1256677460   \n",
       "4       1     1449     4.5  1256677264   \n",
       "\n",
       "                                 movie_title  movie_year    imdb_id  tmdb_id  \\\n",
       "0  Trois couleurs: Bleu (Three Colors: Blue)        1993  tt0108394      108   \n",
       "1                                 Kalifornia        1993  tt0107302    10909   \n",
       "2                        Weekend at Bernie's        1989  tt0098627     8491   \n",
       "3                         Better Off Dead...        1985  tt0088794    13667   \n",
       "4                        Waiting For Guffman        1996  tt0118111    16448   \n",
       "\n",
       "   recsys_id    imdbId  \n",
       "0      32255  108394.0  \n",
       "1      15129  107302.0  \n",
       "2      33636   98627.0  \n",
       "3       3458   88794.0  \n",
       "4      33327  118111.0  "
      ]
     },
     "execution_count": 19,
     "metadata": {},
     "output_type": "execute_result"
    }
   ],
   "source": [
    "df_final = df_movielens_ratings.join(df_joined.set_index(\"movieId\"), how=\"left\", on=\"movieId\")\n",
    "df_final = df_final.dropna()\n",
    "df_final['recsys_id'] = df_final['recsys_id'].astype('int')\n",
    "# unique_users = np.array(df_final['userId'].value_counts().sort_index().index)\n",
    "# num_ratings_per_user = np.array(df_final['userId'].value_counts().sort_index())\n",
    "\n",
    "df_final.head()"
   ]
  },
  {
   "cell_type": "code",
   "execution_count": 20,
   "metadata": {},
   "outputs": [],
   "source": [
    "df_final[['userId', 'recsys_id', 'rating']].to_csv('df_final.csv')"
   ]
  },
  {
   "cell_type": "code",
   "execution_count": 2,
   "metadata": {},
   "outputs": [],
   "source": [
    "df_final = pd.read_csv('df_final.csv', index_col=0)"
   ]
  },
  {
   "cell_type": "code",
   "execution_count": 11,
   "metadata": {},
   "outputs": [],
   "source": [
    "\n",
    "# form dataset for SVD algorithm\n",
    "df_ratings_matrix = df_final[['userId', 'recsys_id', 'rating']].copy()\n",
    "\n",
    "df_ratings_matrix = df_ratings_matrix.iloc[0:200_000]\n",
    "\n",
    "# map half ratings to integer ratings using a 50/50 split to nearest whole number\n",
    "df_ratings_matrix[df_ratings_matrix['rating'] == 0.5] = 1\n",
    "for jrating in [1.5,2.5,3.5,4.5]:\n",
    "    a = np.array(df_ratings_matrix[df_ratings_matrix['rating'] == jrating].index,dtype=int)\n",
    "    np.random.shuffle(a) # shuffle in-place, returns none\n",
    "    num_ratings = len(a)\n",
    "    df_ratings_matrix.loc[list(a[0:int(np.ceil(num_ratings/2))]),'rating'] = jrating-.5\n",
    "    df_ratings_matrix.loc[list(a[int(np.ceil(num_ratings/2)):]),'rating'] = jrating+.5\n",
    "\n",
    "reader = Reader(rating_scale=(1.0, 5.0))\n",
    "\n",
    "# build train and test set for in-matrix predicitons\n",
    "df_ratings_matrix = df_ratings_matrix.sample(frac=1, random_state=21).reset_index(drop=True)\n",
    "\n",
    "# construct training set to be split into train/validate sets\n",
    "train_frac = 0.8\n",
    "train_int = int(train_frac*len(df_ratings_matrix))\n",
    "df_training = df_ratings_matrix.iloc[0:train_int]\n",
    "df_testing = df_ratings_matrix.iloc[train_int:]\n",
    "\n",
    "# construct final testing set\n",
    "data_test = Dataset.load_from_df(df_testing, reader)\n",
    "_, testset = train_test_split(data_test, test_size=1.0)\n",
    "\n",
    "data = Dataset.load_from_df(df_training, reader)\n",
    "\n",
    "# algoCTM = CTM()\n",
    "# algoCTM.fit(data.build_full_trainset())\n",
    "# print(f'CTM Test RMSE: {rmse(algoCTM.test(testset), verbose=False)}')"
   ]
  },
  {
   "cell_type": "code",
   "execution_count": 12,
   "metadata": {},
   "outputs": [
    {
     "name": "stderr",
     "output_type": "stream",
     "text": [
      "[Parallel(n_jobs=5)]: Using backend LokyBackend with 5 concurrent workers.\n",
      "[Parallel(n_jobs=5)]: Done  10 out of  12 | elapsed:  2.5min remaining:   29.9s\n",
      "[Parallel(n_jobs=5)]: Done  12 out of  12 | elapsed:  3.5min finished\n"
     ]
    },
    {
     "name": "stdout",
     "output_type": "stream",
     "text": [
      "0.8731227881870716\n",
      "{'n_epochs': 80, 'lr_all': 0.005, 'reg_all': 0.08, 'reg_theta': 0.2}\n",
      "CTM Test RMSE: 0.8519941957791732\n"
     ]
    }
   ],
   "source": [
    "n_epochs = [80]\n",
    "reg_all = [0.08]\n",
    "lr_all = [0.005]\n",
    "reg_theta = [0, 0.1, 0.2, 0.3]\n",
    "\n",
    "cv = 3\n",
    "param_grid = {\"n_epochs\": n_epochs, \"lr_all\": lr_all, \"reg_all\": reg_all, \"reg_theta\": reg_theta}\n",
    "gs = GridSearchCV(CTM, param_grid, measures=[\"rmse\"], cv=cv, n_jobs=5, joblib_verbose=2)\n",
    "\n",
    "gs.fit(data)\n",
    "\n",
    "# best RMSE score\n",
    "print(gs.best_score[\"rmse\"])\n",
    "\n",
    "# combination of parameters that gave the best RMSE score\n",
    "print(gs.best_params[\"rmse\"])\n",
    "\n",
    "# We can now use the algorithm that yields the best rmse:\n",
    "algoCTM = gs.best_estimator[\"rmse\"]\n",
    "algoCTM.fit(data.build_full_trainset())\n",
    "\n",
    "df_results_CTM = pd.DataFrame.from_dict(gs.cv_results).sort_values(by='rank_test_rmse', axis=0)\n",
    "\n",
    "print(f'CTM Test RMSE: {rmse(algoCTM.test(testset), verbose=False)}')"
   ]
  },
  {
   "cell_type": "code",
   "execution_count": 13,
   "metadata": {},
   "outputs": [
    {
     "name": "stderr",
     "output_type": "stream",
     "text": [
      "[Parallel(n_jobs=-1)]: Using backend LokyBackend with 20 concurrent workers.\n",
      "[Parallel(n_jobs=-1)]: Done   3 out of   3 | elapsed:    1.8s remaining:    0.0s\n",
      "[Parallel(n_jobs=-1)]: Done   3 out of   3 | elapsed:    1.8s finished\n"
     ]
    },
    {
     "name": "stdout",
     "output_type": "stream",
     "text": [
      "Optimal training RMSE: 0.8811346894671434\n",
      "Optimal training params: {'n_epochs': 80, 'lr_all': 0.005, 'reg_all': 0.08, 'n_factors': 20}\n",
      "SVD Test RMSE: 0.8596016081609268\n"
     ]
    }
   ],
   "source": [
    "n_epochs = [80]\n",
    "reg_all = [0.08]\n",
    "lr_all = [0.005]\n",
    "n_factors=[20]\n",
    "cv = 3\n",
    "param_grid = {\"n_epochs\": n_epochs, \"lr_all\": lr_all, \"reg_all\": reg_all, \"n_factors\": n_factors}\n",
    "gs = GridSearchCV(SVD, param_grid, measures=[\"rmse\"], cv=cv, n_jobs=-1, joblib_verbose=5)\n",
    "\n",
    "gs.fit(data)\n",
    "\n",
    "# best RMSE score\n",
    "print(f'Optimal training RMSE: {gs.best_score[\"rmse\"]}')\n",
    "\n",
    "# combination of parameters that gave the best RMSE score\n",
    "print(f'Optimal training params: {gs.best_params[\"rmse\"]}')\n",
    "\n",
    "# We can now use the algorithm that yields the best rmse:\n",
    "algoSVD = gs.best_estimator[\"rmse\"]\n",
    "algoSVD.fit(data.build_full_trainset())\n",
    "\n",
    "df_results_SVD = pd.DataFrame.from_dict(gs.cv_results).sort_values(by='rank_test_rmse', axis=0)\n",
    "\n",
    "print(f'SVD Test RMSE: {rmse(algoSVD.test(testset), verbose=False)}')"
   ]
  },
  {
   "cell_type": "markdown",
   "metadata": {},
   "source": [
    "# evaluate precision@k and recall@k metrics"
   ]
  },
  {
   "cell_type": "code",
   "execution_count": 18,
   "metadata": {},
   "outputs": [
    {
     "data": {
      "text/plain": [
       "[<matplotlib.lines.Line2D at 0x1a2d19098b0>]"
      ]
     },
     "execution_count": 18,
     "metadata": {},
     "output_type": "execute_result"
    },
    {
     "data": {
      "image/png": "[encoded data removed]",
      "text/plain": [
       "<Figure size 640x480 with 1 Axes>"
      ]
     },
     "metadata": {},
     "output_type": "display_data"
    }
   ],
   "source": [
    "predictions_CTM = algoCTM.test(testset)\n",
    "predictions_SVD = algoSVD.test(testset)\n",
    "num_k = [1, 2, 3, 5, 10, 15, 20, 30, 40, 60, 100, 200, 300, 400]\n",
    "recall_CTM = np.zeros((len(num_k),))\n",
    "recall_SVD = np.zeros((len(num_k),))\n",
    "for j, kk in enumerate(num_k):\n",
    "    _, recalls = precision_recall_at_k(predictions_CTM, k=kk, threshold=3.5)\n",
    "    recall_CTM[j] = sum(rec for rec in recalls.values()) / len(recalls)\n",
    "\n",
    "    _, recalls = precision_recall_at_k(predictions_SVD, k=kk, threshold=3.5)\n",
    "    recall_SVD[j] = sum(rec for rec in recalls.values()) / len(recalls)\n",
    "\n",
    "\n",
    "fig, ax = plt.subplots(1, 1)\n",
    "\n",
    "plt.semilogx(num_k, recall_SVD, 'rs')\n",
    "plt.semilogx(num_k, recall_CTM, 'bo')"
   ]
  },
  {
   "cell_type": "markdown",
   "metadata": {},
   "source": [
    "# Out of matrix predictions"
   ]
  },
  {
   "cell_type": "code",
   "execution_count": 22,
   "metadata": {},
   "outputs": [],
   "source": [
    "\n",
    "# form dataset for CTM algorithm\n",
    "reader = Reader(rating_scale=(1.0, 5.0))\n",
    "df_ratings_matrix = df_final[['userId', 'recsys_id', 'rating']].copy()\n",
    "df_ratings_matrix = df_ratings_matrix.iloc[0:200_000]\n",
    "df_ratings_matrix = df_ratings_matrix.reset_index(drop=True)\n",
    "\n",
    "unique_movies = df_ratings_matrix['recsys_id'].unique()\n",
    "\n",
    "train_num = int(0.80*len(unique_movies)) \n",
    "train_ids = np.random.choice(unique_movies, size=train_num, replace=False)\n",
    "test_ids = np.setdiff1d(unique_movies, train_ids)\n",
    "\n",
    "\n",
    "train_ilocs = [j for j in range(len(df_ratings_matrix)) if df_ratings_matrix.loc[j, 'recsys_id'] in train_ids]\n",
    "test_ilocs = [j for j in range(len(df_ratings_matrix)) if df_ratings_matrix.loc[j, 'recsys_id'] in test_ids]\n",
    "\n",
    "df_train = df_ratings_matrix.iloc[train_ilocs]\n",
    "df_test = df_ratings_matrix.iloc[test_ilocs]\n",
    "\n",
    "# randomize training set\n",
    "reader= Reader(rating_scale=(1.0, 5.0))\n",
    "data = Dataset.load_from_df(df_train, reader)\n",
    "trainset = data.build_full_trainset()\n",
    "\n",
    "# for val set for test\n",
    "data_test = Dataset.load_from_df(df_test, reader)\n",
    "_, testset = train_test_split(data_test, test_size=1.0)\n"
   ]
  },
  {
   "cell_type": "code",
   "execution_count": 23,
   "metadata": {},
   "outputs": [
    {
     "name": "stdout",
     "output_type": "stream",
     "text": [
      "CTM Test RMSE: 0.9774515923306107\n",
      "SVD Test RMSE: 0.9830065692217375\n"
     ]
    }
   ],
   "source": [
    "algoCTM = CTM(n_epochs=80, reg_all=0.08, reg_theta=0.2)\n",
    "algoCTM.fit(trainset)\n",
    " # return rating based on LDA topics and user vectors\n",
    "print(f'CTM Test RMSE: {rmse(algoCTM.test(testset), verbose=False)}') \n",
    "\n",
    "algoSVD = SVD(n_epochs=80, reg_all=0.08, n_factors=20)\n",
    "algoSVD.fit(trainset)\n",
    " # return global mean of training set plus user-specific bias\n",
    "print(f'SVD Test RMSE: {rmse(algoSVD.test(testset), verbose=False)}') "
   ]
  },
  {
   "cell_type": "code",
   "execution_count": 30,
   "metadata": {},
   "outputs": [
    {
     "data": {
      "text/plain": [
       "[<matplotlib.lines.Line2D at 0x1a2aceab970>]"
      ]
     },
     "execution_count": 30,
     "metadata": {},
     "output_type": "execute_result"
    },
    {
     "data": {
      "image/png": "[encoded data removed]",
      "text/plain": [
       "<Figure size 640x480 with 1 Axes>"
      ]
     },
     "metadata": {},
     "output_type": "display_data"
    }
   ],
   "source": [
    "predictions_CTM = algoCTM.test(testset)\n",
    "predictions_SVD = algoSVD.test(testset)\n",
    "num_k = [1, 2, 3, 5, 10, 15, 20, 30, 40, 60, 100, 200, 300, 400]\n",
    "recall_CTM = np.zeros((len(num_k),))\n",
    "recall_SVD = np.zeros((len(num_k),))\n",
    "for j, kk in enumerate(num_k):\n",
    "    _, recalls = precision_recall_at_k(predictions_CTM, k=kk, threshold=3.5)\n",
    "    recall_CTM[j] = sum(rec for rec in recalls.values()) / len(recalls)\n",
    "\n",
    "    _, recalls = precision_recall_at_k(predictions_SVD, k=kk, threshold=3.5)\n",
    "    recall_SVD[j] = sum(rec for rec in recalls.values()) / len(recalls)\n",
    "\n",
    "\n",
    "fig, ax = plt.subplots(1, 1)\n",
    "\n",
    "plt.semilogx(num_k, recall_SVD, 'rs-')\n",
    "plt.semilogx(num_k, recall_CTM, 'bo-')"
   ]
  }
 ],
 "metadata": {
  "kernelspec": {
   "display_name": "recsys_movie",
   "language": "python",
   "name": "python3"
  },
  "language_info": {
   "codemirror_mode": {
    "name": "ipython",
    "version": 3
   },
   "file_extension": ".py",
   "mimetype": "text/x-python",
   "name": "python",
   "nbconvert_exporter": "python",
   "pygments_lexer": "ipython3",
   "version": "3.9.18"
  },
  "orig_nbformat": 4
 },
 "nbformat": 4,
 "nbformat_minor": 2
}
